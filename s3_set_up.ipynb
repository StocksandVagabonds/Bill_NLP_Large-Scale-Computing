{
 "cells": [
  {
   "cell_type": "code",
   "execution_count": 1,
   "id": "09aaace8",
   "metadata": {},
   "outputs": [
    {
     "name": "stdout",
     "output_type": "stream",
     "text": [
      "Requirement already satisfied: boto3 in /Users/michelleorden/opt/anaconda3/lib/python3.8/site-packages (1.20.11)\n",
      "Requirement already satisfied: s3transfer<0.6.0,>=0.5.0 in /Users/michelleorden/opt/anaconda3/lib/python3.8/site-packages (from boto3) (0.5.0)\n",
      "Requirement already satisfied: jmespath<1.0.0,>=0.7.1 in /Users/michelleorden/opt/anaconda3/lib/python3.8/site-packages (from boto3) (0.10.0)\n",
      "Requirement already satisfied: botocore<1.24.0,>=1.23.11 in /Users/michelleorden/opt/anaconda3/lib/python3.8/site-packages (from boto3) (1.23.11)\n",
      "Requirement already satisfied: urllib3<1.27,>=1.25.4 in /Users/michelleorden/opt/anaconda3/lib/python3.8/site-packages (from botocore<1.24.0,>=1.23.11->boto3) (1.26.4)\n",
      "Requirement already satisfied: python-dateutil<3.0.0,>=2.1 in /Users/michelleorden/opt/anaconda3/lib/python3.8/site-packages (from botocore<1.24.0,>=1.23.11->boto3) (2.8.1)\n",
      "Requirement already satisfied: six>=1.5 in /Users/michelleorden/opt/anaconda3/lib/python3.8/site-packages (from python-dateutil<3.0.0,>=2.1->botocore<1.24.0,>=1.23.11->boto3) (1.15.0)\n"
     ]
    }
   ],
   "source": [
    "! pip install boto3"
   ]
  },
  {
   "cell_type": "code",
   "execution_count": 2,
   "id": "421803ef",
   "metadata": {},
   "outputs": [],
   "source": [
    "import boto3"
   ]
  },
  {
   "cell_type": "code",
   "execution_count": 3,
   "id": "4a8e73d2",
   "metadata": {},
   "outputs": [],
   "source": [
    "# Initialize Boto Client for S3\n",
    "s3 = boto3.client('s3')\n",
    "s3_resource = boto3.resource('s3')"
   ]
  },
  {
   "cell_type": "code",
   "execution_count": 4,
   "id": "96564187",
   "metadata": {},
   "outputs": [
    {
     "data": {
      "text/plain": [
       "{'ResponseMetadata': {'RequestId': '37FF57FK57JWB0MD',\n",
       "  'HostId': 'NiTFOrZUta0kyICWuw5g3tk/YuVCRYUDC24gcLHOC4gb8I39sdEUBRpq9crDR1DMExPHc+AnF+c=',\n",
       "  'HTTPStatusCode': 200,\n",
       "  'HTTPHeaders': {'x-amz-id-2': 'NiTFOrZUta0kyICWuw5g3tk/YuVCRYUDC24gcLHOC4gb8I39sdEUBRpq9crDR1DMExPHc+AnF+c=',\n",
       "   'x-amz-request-id': '37FF57FK57JWB0MD',\n",
       "   'date': 'Fri, 03 Dec 2021 17:20:30 GMT',\n",
       "   'location': '/macs30123-bills',\n",
       "   'server': 'AmazonS3',\n",
       "   'content-length': '0'},\n",
       "  'RetryAttempts': 0},\n",
       " 'Location': '/macs30123-bills'}"
      ]
     },
     "execution_count": 4,
     "metadata": {},
     "output_type": "execute_result"
    }
   ],
   "source": [
    "# Create Bucket\n",
    "s3.create_bucket(Bucket='macs30123-bills')"
   ]
  },
  {
   "cell_type": "code",
   "execution_count": null,
   "id": "027da514",
   "metadata": {},
   "outputs": [],
   "source": []
  }
 ],
 "metadata": {
  "kernelspec": {
   "display_name": "Python 3",
   "language": "python",
   "name": "python3"
  },
  "language_info": {
   "codemirror_mode": {
    "name": "ipython",
    "version": 3
   },
   "file_extension": ".py",
   "mimetype": "text/x-python",
   "name": "python",
   "nbconvert_exporter": "python",
   "pygments_lexer": "ipython3",
   "version": "3.8.8"
  }
 },
 "nbformat": 4,
 "nbformat_minor": 5
}
