{
 "cells": [
  {
   "cell_type": "code",
   "execution_count": 1,
   "id": "4b80fd89",
   "metadata": {},
   "outputs": [
    {
     "data": {
      "application/vnd.jupyter.widget-view+json": {
       "model_id": "49049c40297f40b3b47c2e7e99023292",
       "version_major": 2,
       "version_minor": 0
      },
      "text/plain": [
       "VBox()"
      ]
     },
     "metadata": {},
     "output_type": "display_data"
    },
    {
     "name": "stdout",
     "output_type": "stream",
     "text": [
      "Starting Spark application\n"
     ]
    },
    {
     "data": {
      "text/html": [
       "<table>\n",
       "<tr><th>ID</th><th>YARN Application ID</th><th>Kind</th><th>State</th><th>Spark UI</th><th>Driver log</th><th>Current session?</th></tr><tr><td>0</td><td>application_1639090373335_0001</td><td>pyspark</td><td>idle</td><td><a target=\"_blank\" href=\"http://ip-172-31-13-190.ec2.internal:20888/proxy/application_1639090373335_0001/\" class=\"emr-proxy-link\" emr-resource=\"j-3NY4Q49PKDE6G\n",
       "\" application-id=\"application_1639090373335_0001\">Link</a></td><td><a target=\"_blank\" href=\"http://ip-172-31-13-190.ec2.internal:8042/node/containerlogs/container_1639090373335_0001_01_000001/livy\" >Link</a></td><td>✔</td></tr></table>"
      ],
      "text/plain": [
       "<IPython.core.display.HTML object>"
      ]
     },
     "metadata": {},
     "output_type": "display_data"
    },
    {
     "data": {
      "application/vnd.jupyter.widget-view+json": {
       "model_id": "",
       "version_major": 2,
       "version_minor": 0
      },
      "text/plain": [
       "FloatProgress(value=0.0, bar_style='info', description='Progress:', layout=Layout(height='25px', width='50%'),…"
      ]
     },
     "metadata": {},
     "output_type": "display_data"
    },
    {
     "name": "stdout",
     "output_type": "stream",
     "text": [
      "SparkSession available as 'spark'.\n"
     ]
    },
    {
     "data": {
      "application/vnd.jupyter.widget-view+json": {
       "model_id": "",
       "version_major": 2,
       "version_minor": 0
      },
      "text/plain": [
       "FloatProgress(value=0.0, bar_style='info', description='Progress:', layout=Layout(height='25px', width='50%'),…"
      ]
     },
     "metadata": {},
     "output_type": "display_data"
    }
   ],
   "source": [
    "# Link to bucket: https://s3.console.aws.amazon.com/s3/buckets/macs30123-bills?region=us-east-1&tab=objects"
   ]
  },
  {
   "cell_type": "code",
   "execution_count": 2,
   "id": "8ace874b",
   "metadata": {},
   "outputs": [
    {
     "data": {
      "application/vnd.jupyter.widget-view+json": {
       "model_id": "5b593df4725349d2bd41f5dbca51200f",
       "version_major": 2,
       "version_minor": 0
      },
      "text/plain": [
       "VBox()"
      ]
     },
     "metadata": {},
     "output_type": "display_data"
    },
    {
     "data": {
      "application/vnd.jupyter.widget-view+json": {
       "model_id": "",
       "version_major": 2,
       "version_minor": 0
      },
      "text/plain": [
       "FloatProgress(value=0.0, bar_style='info', description='Progress:', layout=Layout(height='25px', width='50%'),…"
      ]
     },
     "metadata": {},
     "output_type": "display_data"
    },
    {
     "name": "stdout",
     "output_type": "stream",
     "text": [
      "Collecting boto3\n",
      "  Downloading https://files.pythonhosted.org/packages/d7/24/4b70d13b553f7ca14efaa652f5b61e8a1fc63d5a98a0b4eed74eca5c9a16/boto3-1.20.23-py3-none-any.whl (131kB)\n",
      "Collecting s3transfer<0.6.0,>=0.5.0 (from boto3)\n",
      "  Downloading https://files.pythonhosted.org/packages/ab/84/fc3717a7b7f0f6bb08af593127171f08e3e0087c197922da09c01bfe7c3a/s3transfer-0.5.0-py3-none-any.whl (79kB)\n",
      "Requirement already satisfied: jmespath<1.0.0,>=0.7.1 in /usr/local/lib/python3.7/site-packages (from boto3)\n",
      "Collecting botocore<1.24.0,>=1.23.23 (from boto3)\n",
      "  Downloading https://files.pythonhosted.org/packages/06/75/72b9236e2ff5ff7d24d1a04dae90cc5974f1cb830ddfe61ba8a18df4664d/botocore-1.23.23-py3-none-any.whl (8.4MB)\n",
      "Collecting urllib3<1.27,>=1.25.4 (from botocore<1.24.0,>=1.23.23->boto3)\n",
      "  Downloading https://files.pythonhosted.org/packages/af/f4/524415c0744552cce7d8bf3669af78e8a069514405ea4fcbd0cc44733744/urllib3-1.26.7-py2.py3-none-any.whl (138kB)\n",
      "Collecting python-dateutil<3.0.0,>=2.1 (from botocore<1.24.0,>=1.23.23->boto3)\n",
      "  Downloading https://files.pythonhosted.org/packages/36/7a/87837f39d0296e723bb9b62bbb257d0355c7f6128853c78955f57342a56d/python_dateutil-2.8.2-py2.py3-none-any.whl (247kB)\n",
      "Requirement already satisfied: six>=1.5 in /usr/local/lib/python3.7/site-packages (from python-dateutil<3.0.0,>=2.1->botocore<1.24.0,>=1.23.23->boto3)\n",
      "Installing collected packages: urllib3, python-dateutil, botocore, s3transfer, boto3\n",
      "Successfully installed boto3-1.20.23 botocore-1.23.23 python-dateutil-2.8.2 s3transfer-0.5.0 urllib3-1.26.7\n",
      "\n",
      "Collecting pandas==1.0.3\n",
      "  Downloading https://files.pythonhosted.org/packages/4a/6a/94b219b8ea0f2d580169e85ed1edc0163743f55aaeca8a44c2e8fc1e344e/pandas-1.0.3-cp37-cp37m-manylinux1_x86_64.whl (10.0MB)\n",
      "Requirement already satisfied: pytz>=2017.2 in /usr/local/lib/python3.7/site-packages (from pandas==1.0.3)\n",
      "Requirement already satisfied: numpy>=1.13.3 in /usr/local/lib64/python3.7/site-packages (from pandas==1.0.3)\n",
      "Requirement already satisfied: python-dateutil>=2.6.1 in /mnt/tmp/1639090693038-0/lib/python3.7/site-packages (from pandas==1.0.3)\n",
      "Requirement already satisfied: six>=1.5 in /usr/local/lib/python3.7/site-packages (from python-dateutil>=2.6.1->pandas==1.0.3)\n",
      "Installing collected packages: pandas\n",
      "Successfully installed pandas-1.0.3\n",
      "\n",
      "Collecting scipy==1.4.1\n",
      "  Downloading https://files.pythonhosted.org/packages/dd/82/c1fe128f3526b128cfd185580ba40d01371c5d299fcf7f77968e22dfcc2e/scipy-1.4.1-cp37-cp37m-manylinux1_x86_64.whl (26.1MB)\n",
      "Requirement already satisfied: numpy>=1.13.3 in /usr/local/lib64/python3.7/site-packages (from scipy==1.4.1)\n",
      "Installing collected packages: scipy\n",
      "Successfully installed scipy-1.4.1\n",
      "\n",
      "Collecting matplotlib==3.2.1\n",
      "  Downloading https://files.pythonhosted.org/packages/b2/c2/71fcf957710f3ba1f09088b35776a799ba7dd95f7c2b195ec800933b276b/matplotlib-3.2.1-cp37-cp37m-manylinux1_x86_64.whl (12.4MB)\n",
      "Requirement already satisfied: python-dateutil>=2.1 in /mnt/tmp/1639090693038-0/lib/python3.7/site-packages (from matplotlib==3.2.1)\n",
      "Collecting pyparsing!=2.0.4,!=2.1.2,!=2.1.6,>=2.0.1 (from matplotlib==3.2.1)\n",
      "  Downloading https://files.pythonhosted.org/packages/a0/34/895006117f6fce0b4de045c87e154ee4a20c68ec0a4c9a36d900888fb6bc/pyparsing-3.0.6-py3-none-any.whl (97kB)\n",
      "Collecting cycler>=0.10 (from matplotlib==3.2.1)\n",
      "  Downloading https://files.pythonhosted.org/packages/5c/f9/695d6bedebd747e5eb0fe8fad57b72fdf25411273a39791cde838d5a8f51/cycler-0.11.0-py3-none-any.whl\n",
      "Requirement already satisfied: numpy>=1.11 in /usr/local/lib64/python3.7/site-packages (from matplotlib==3.2.1)\n",
      "Collecting kiwisolver>=1.0.1 (from matplotlib==3.2.1)\n",
      "  Downloading https://files.pythonhosted.org/packages/09/6b/6e567cb2e86d4e5939a9233f8734e26021b6a9c1bc4b1edccba236a84cc2/kiwisolver-1.3.2-cp37-cp37m-manylinux_2_5_x86_64.manylinux1_x86_64.whl (1.1MB)\n",
      "Requirement already satisfied: six>=1.5 in /usr/local/lib/python3.7/site-packages (from python-dateutil>=2.1->matplotlib==3.2.1)\n",
      "Installing collected packages: pyparsing, cycler, kiwisolver, matplotlib\n",
      "Successfully installed cycler-0.11.0 kiwisolver-1.3.2 matplotlib-3.2.1 pyparsing-3.0.6\n",
      "\n",
      "Collecting seaborn==0.10.1\n",
      "  Downloading https://files.pythonhosted.org/packages/c7/e6/54aaaafd0b87f51dfba92ba73da94151aa3bc179e5fe88fc5dfb3038e860/seaborn-0.10.1-py3-none-any.whl (215kB)\n",
      "Requirement already satisfied: pandas>=0.22.0 in /mnt/tmp/1639090693038-0/lib/python3.7/site-packages (from seaborn==0.10.1)\n",
      "Requirement already satisfied: numpy>=1.13.3 in /usr/local/lib64/python3.7/site-packages (from seaborn==0.10.1)\n",
      "Requirement already satisfied: scipy>=1.0.1 in /mnt/tmp/1639090693038-0/lib/python3.7/site-packages (from seaborn==0.10.1)\n",
      "Requirement already satisfied: matplotlib>=2.1.2 in /mnt/tmp/1639090693038-0/lib/python3.7/site-packages (from seaborn==0.10.1)\n",
      "Requirement already satisfied: pytz>=2017.2 in /usr/local/lib/python3.7/site-packages (from pandas>=0.22.0->seaborn==0.10.1)\n",
      "Requirement already satisfied: python-dateutil>=2.6.1 in /mnt/tmp/1639090693038-0/lib/python3.7/site-packages (from pandas>=0.22.0->seaborn==0.10.1)\n",
      "Requirement already satisfied: pyparsing!=2.0.4,!=2.1.2,!=2.1.6,>=2.0.1 in /mnt/tmp/1639090693038-0/lib/python3.7/site-packages (from matplotlib>=2.1.2->seaborn==0.10.1)\n",
      "Requirement already satisfied: cycler>=0.10 in /mnt/tmp/1639090693038-0/lib/python3.7/site-packages (from matplotlib>=2.1.2->seaborn==0.10.1)\n",
      "Requirement already satisfied: kiwisolver>=1.0.1 in /mnt/tmp/1639090693038-0/lib/python3.7/site-packages (from matplotlib>=2.1.2->seaborn==0.10.1)\n",
      "Requirement already satisfied: six>=1.5 in /usr/local/lib/python3.7/site-packages (from python-dateutil>=2.6.1->pandas>=0.22.0->seaborn==0.10.1)\n",
      "Installing collected packages: seaborn\n",
      "Successfully installed seaborn-0.10.1\n",
      "\n",
      "Collecting dask\n",
      "  Downloading https://files.pythonhosted.org/packages/e8/3e/161fc6b630603ab69266c90238068793e5cdd38b5e41b0fcba3d09636f1d/dask-2021.11.2-py3-none-any.whl (1.0MB)\n",
      "Collecting packaging>=20.0 (from dask)\n",
      "  Downloading https://files.pythonhosted.org/packages/05/8e/8de486cbd03baba4deef4142bd643a3e7bbe954a784dc1bb17142572d127/packaging-21.3-py3-none-any.whl (40kB)\n",
      "Collecting fsspec>=0.6.0 (from dask)\n",
      "  Downloading https://files.pythonhosted.org/packages/97/76/8f9921e10d9cbdf4790d4fb7a9883f3d636926e8b0564a4983ac15c167c9/fsspec-2021.11.1-py3-none-any.whl (132kB)\n",
      "Requirement already satisfied: pyyaml in /usr/local/lib64/python3.7/site-packages (from dask)\n",
      "Collecting partd>=0.3.10 (from dask)\n",
      "  Downloading https://files.pythonhosted.org/packages/41/94/360258a68b55f47859d72b2d0b2b3cfe0ca4fbbcb81b78812bd00ae86b7c/partd-1.2.0-py3-none-any.whl\n",
      "Collecting toolz>=0.8.2 (from dask)\n",
      "  Downloading https://files.pythonhosted.org/packages/b5/f1/3df506b493736e3ee11fc1a3c2de8014a55f025d830a71bb499acc049a2c/toolz-0.11.2-py3-none-any.whl (55kB)\n",
      "Collecting cloudpickle>=1.1.1 (from dask)\n",
      "  Downloading https://files.pythonhosted.org/packages/07/3c/bf72ebd3e78eb1ef773f4f0650ecdc29c6454aeafe9c08f6da3f227dd2bc/cloudpickle-2.0.0-py3-none-any.whl\n",
      "Requirement already satisfied: pyparsing!=3.0.5,>=2.0.2 in /mnt/tmp/1639090693038-0/lib/python3.7/site-packages (from packaging>=20.0->dask)\n",
      "Collecting locket (from partd>=0.3.10->dask)\n",
      "  Downloading https://files.pythonhosted.org/packages/50/b8/e789e45b9b9c2db75e9d9e6ceb022c8d1d7e49b2c085ce8c05600f90a96b/locket-0.2.1-py2.py3-none-any.whl\n",
      "Installing collected packages: packaging, fsspec, toolz, locket, partd, cloudpickle, dask\n",
      "Successfully installed cloudpickle-2.0.0 dask-2021.11.2 fsspec-2021.11.1 locket-0.2.1 packaging-21.3 partd-1.2.0 toolz-0.11.2\n",
      "\n",
      "Collecting textblob\n",
      "  Downloading https://files.pythonhosted.org/packages/44/a4/595b66c1342a830f4ff476307c4367541cce3e361b9ee96d22a5eeeddd1d/textblob-0.17.1-py2.py3-none-any.whl (636kB)\n",
      "Requirement already satisfied: nltk>=3.1; python_version >= \"3\" in /usr/local/lib/python3.7/site-packages (from textblob)\n",
      "Requirement already satisfied: click in /usr/local/lib64/python3.7/site-packages (from nltk>=3.1; python_version >= \"3\"->textblob)\n",
      "Requirement already satisfied: joblib in /usr/local/lib64/python3.7/site-packages (from nltk>=3.1; python_version >= \"3\"->textblob)\n",
      "Requirement already satisfied: regex in /usr/local/lib64/python3.7/site-packages (from nltk>=3.1; python_version >= \"3\"->textblob)\n",
      "Requirement already satisfied: tqdm in /usr/local/lib64/python3.7/site-packages (from nltk>=3.1; python_version >= \"3\"->textblob)\n",
      "Installing collected packages: textblob\n",
      "Successfully installed textblob-0.17.1\n",
      "\n",
      "You are using pip version 9.0.1, however version 21.3.1 is available.\n",
      "You should consider upgrading via the 'pip install --upgrade pip' command.\n",
      "\n",
      "You are using pip version 9.0.1, however version 21.3.1 is available.\n",
      "You should consider upgrading via the 'pip install --upgrade pip' command.\n",
      "\n",
      "You are using pip version 9.0.1, however version 21.3.1 is available.\n",
      "You should consider upgrading via the 'pip install --upgrade pip' command.\n",
      "\n",
      "You are using pip version 9.0.1, however version 21.3.1 is available.\n",
      "You should consider upgrading via the 'pip install --upgrade pip' command.\n",
      "\n",
      "You are using pip version 9.0.1, however version 21.3.1 is available.\n",
      "You should consider upgrading via the 'pip install --upgrade pip' command.\n",
      "\n",
      "You are using pip version 9.0.1, however version 21.3.1 is available.\n",
      "You should consider upgrading via the 'pip install --upgrade pip' command.\n",
      "\n",
      "You are using pip version 9.0.1, however version 21.3.1 is available.\n",
      "You should consider upgrading via the 'pip install --upgrade pip' command."
     ]
    }
   ],
   "source": [
    "#install necessary packages\n",
    "sc.install_pypi_package(\"boto3\") # use boto3 to see book data in S3 bucket\n",
    "sc.install_pypi_package(\"pandas==1.0.3\")\n",
    "sc.install_pypi_package(\"scipy==1.4.1\")\n",
    "sc.install_pypi_package(\"matplotlib==3.2.1\")\n",
    "sc.install_pypi_package(\"seaborn==0.10.1\")\n",
    "sc.install_pypi_package(\"dask\") #install dask as well\n",
    "sc.install_pypi_package(\"textblob\") #this is used to conduct sentiment analysis for added feature columns"
   ]
  },
  {
   "cell_type": "code",
   "execution_count": 3,
   "id": "b9bdde25",
   "metadata": {},
   "outputs": [
    {
     "data": {
      "application/vnd.jupyter.widget-view+json": {
       "model_id": "61ec641d2d964af6a4a4a3c393fb1413",
       "version_major": 2,
       "version_minor": 0
      },
      "text/plain": [
       "VBox()"
      ]
     },
     "metadata": {},
     "output_type": "display_data"
    },
    {
     "data": {
      "application/vnd.jupyter.widget-view+json": {
       "model_id": "",
       "version_major": 2,
       "version_minor": 0
      },
      "text/plain": [
       "FloatProgress(value=0.0, bar_style='info', description='Progress:', layout=Layout(height='25px', width='50%'),…"
      ]
     },
     "metadata": {},
     "output_type": "display_data"
    }
   ],
   "source": [
    "import boto3\n",
    "import pandas as pd\n",
    "import numpy as np\n",
    "import matplotlib.pyplot as plt\n",
    "import seaborn as sns\n",
    "from dask import dataframe as dd\n",
    "from textblob import TextBlob\n",
    "from pyspark.ml.classification import LogisticRegression\n",
    "from pyspark.ml.evaluation import RegressionEvaluator\n",
    "from pyspark.sql.functions import udf\n",
    "from pyspark.sql.types import *\n",
    "from io import StringIO"
   ]
  },
  {
   "cell_type": "code",
   "execution_count": 4,
   "id": "35d64795",
   "metadata": {},
   "outputs": [
    {
     "data": {
      "application/vnd.jupyter.widget-view+json": {
       "model_id": "2d5880c8b6754ee2a31d6b85fb138641",
       "version_major": 2,
       "version_minor": 0
      },
      "text/plain": [
       "VBox()"
      ]
     },
     "metadata": {},
     "output_type": "display_data"
    },
    {
     "data": {
      "application/vnd.jupyter.widget-view+json": {
       "model_id": "",
       "version_major": 2,
       "version_minor": 0
      },
      "text/plain": [
       "FloatProgress(value=0.0, bar_style='info', description='Progress:', layout=Layout(height='25px', width='50%'),…"
      ]
     },
     "metadata": {},
     "output_type": "display_data"
    }
   ],
   "source": [
    "s3 = boto3.client('s3', region_name='us-east-1',)\n",
    "\n",
    "response = s3.list_objects(Bucket='macs30123-bills')"
   ]
  },
  {
   "cell_type": "code",
   "execution_count": 5,
   "id": "988146f6",
   "metadata": {},
   "outputs": [
    {
     "data": {
      "application/vnd.jupyter.widget-view+json": {
       "model_id": "8cebccce3d22483ea1eef8e9f2bf54d0",
       "version_major": 2,
       "version_minor": 0
      },
      "text/plain": [
       "VBox()"
      ]
     },
     "metadata": {},
     "output_type": "display_data"
    },
    {
     "data": {
      "application/vnd.jupyter.widget-view+json": {
       "model_id": "",
       "version_major": 2,
       "version_minor": 0
      },
      "text/plain": [
       "FloatProgress(value=0.0, bar_style='info', description='Progress:', layout=Layout(height='25px', width='50%'),…"
      ]
     },
     "metadata": {},
     "output_type": "display_data"
    }
   ],
   "source": [
    "data_congress = s3.get_object(Bucket=\"macs30123-bills\", Key=\"data_congress_breakdown.csv\")\n",
    "data_congress = data_congress['Body'].read()\n",
    "data_congress = data_congress.decode('utf-8')\n",
    "\n",
    "df_congress = pd.read_csv(StringIO(data_congress))"
   ]
  },
  {
   "cell_type": "code",
   "execution_count": 6,
   "id": "ce765cd7",
   "metadata": {},
   "outputs": [
    {
     "data": {
      "application/vnd.jupyter.widget-view+json": {
       "model_id": "a69930c5b6c9427bbea1db5c40674f2f",
       "version_major": 2,
       "version_minor": 0
      },
      "text/plain": [
       "VBox()"
      ]
     },
     "metadata": {},
     "output_type": "display_data"
    },
    {
     "data": {
      "application/vnd.jupyter.widget-view+json": {
       "model_id": "",
       "version_major": 2,
       "version_minor": 0
      },
      "text/plain": [
       "FloatProgress(value=0.0, bar_style='info', description='Progress:', layout=Layout(height='25px', width='50%'),…"
      ]
     },
     "metadata": {},
     "output_type": "display_data"
    }
   ],
   "source": [
    "df_congress = df_congress[['Congress (years)', '# of House Seats', 'Democrats', 'Republicans',\n",
    "       'Other', '% Democrat', '% Republican']]"
   ]
  },
  {
   "cell_type": "code",
   "execution_count": 7,
   "id": "7c0d2679",
   "metadata": {},
   "outputs": [
    {
     "data": {
      "application/vnd.jupyter.widget-view+json": {
       "model_id": "7ed12a0ea4cd4a46b2d1a10b5a6029cd",
       "version_major": 2,
       "version_minor": 0
      },
      "text/plain": [
       "VBox()"
      ]
     },
     "metadata": {},
     "output_type": "display_data"
    },
    {
     "data": {
      "application/vnd.jupyter.widget-view+json": {
       "model_id": "",
       "version_major": 2,
       "version_minor": 0
      },
      "text/plain": [
       "FloatProgress(value=0.0, bar_style='info', description='Progress:', layout=Layout(height='25px', width='50%'),…"
      ]
     },
     "metadata": {},
     "output_type": "display_data"
    },
    {
     "name": "stdout",
     "output_type": "stream",
     "text": [
      "     Congress (years)  # of House Seats  ...  % Democrat  % Republican\n",
      "0   102 (1991 - 1993)             435.0  ...   61.379310      0.383908\n",
      "1   103 (1993 - 1995)             435.0  ...   59.310345      0.404598\n",
      "2   104 (1995 - 1997)             435.0  ...   46.896552      0.528736\n",
      "3   105 (1997 - 1999)             435.0  ...   47.586207      0.519540\n",
      "4   106 (1999 - 2001)             435.0  ...   48.505747      0.512644\n",
      "5   107 (2001 - 2003)             435.0  ...   48.735632      0.508046\n",
      "6   108 (2003 - 2005)             435.0  ...   47.126437      0.526437\n",
      "7   109 (2005 - 2007)             435.0  ...   46.206897      0.535632\n",
      "8   110 (2007 - 2009)             435.0  ...   53.563218      0.464368\n",
      "9   111 (2009 - 2011)             435.0  ...   59.080460      0.409195\n",
      "10  112 (2011 - 2013)             435.0  ...   44.367816      0.556322\n",
      "11  113 (2013 - 2015)             435.0  ...   46.206897      0.537931\n",
      "12  114 (2015 - 2017)             435.0  ...   43.218391      0.567816\n",
      "13  115 (2017 - 2019)             435.0  ...   44.597701      0.554023\n",
      "14  116 (2019 - 2021)             435.0  ...   54.022989      0.457471\n",
      "15    117 (2021–2023)             435.0  ...   51.034483      0.487356\n",
      "16                NaN               NaN  ...         NaN           NaN\n",
      "17                NaN               NaN  ...         NaN           NaN\n",
      "\n",
      "[18 rows x 7 columns]"
     ]
    }
   ],
   "source": [
    "df_congress"
   ]
  },
  {
   "cell_type": "code",
   "execution_count": 8,
   "id": "b9f69b6c",
   "metadata": {},
   "outputs": [
    {
     "data": {
      "application/vnd.jupyter.widget-view+json": {
       "model_id": "0903d9599d3f451092c29746ee3c875f",
       "version_major": 2,
       "version_minor": 0
      },
      "text/plain": [
       "VBox()"
      ]
     },
     "metadata": {},
     "output_type": "display_data"
    },
    {
     "data": {
      "application/vnd.jupyter.widget-view+json": {
       "model_id": "",
       "version_major": 2,
       "version_minor": 0
      },
      "text/plain": [
       "FloatProgress(value=0.0, bar_style='info', description='Progress:', layout=Layout(height='25px', width='50%'),…"
      ]
     },
     "metadata": {},
     "output_type": "display_data"
    }
   ],
   "source": [
    "df_congress['% Republican'] = df_congress['% Republican'] * 100"
   ]
  },
  {
   "cell_type": "code",
   "execution_count": 9,
   "id": "47e8a8bd",
   "metadata": {},
   "outputs": [
    {
     "data": {
      "application/vnd.jupyter.widget-view+json": {
       "model_id": "aaa0a5a83dc64f9d95eaa3e407a73acc",
       "version_major": 2,
       "version_minor": 0
      },
      "text/plain": [
       "VBox()"
      ]
     },
     "metadata": {},
     "output_type": "display_data"
    },
    {
     "data": {
      "application/vnd.jupyter.widget-view+json": {
       "model_id": "",
       "version_major": 2,
       "version_minor": 0
      },
      "text/plain": [
       "FloatProgress(value=0.0, bar_style='info', description='Progress:', layout=Layout(height='25px', width='50%'),…"
      ]
     },
     "metadata": {},
     "output_type": "display_data"
    }
   ],
   "source": [
    "df_congress['Congress (years)'] = df_congress['Congress (years)'].astype(str)"
   ]
  },
  {
   "cell_type": "code",
   "execution_count": 10,
   "id": "daca3b35",
   "metadata": {},
   "outputs": [
    {
     "data": {
      "application/vnd.jupyter.widget-view+json": {
       "model_id": "b779ea24abf043bc8e4833e2392e40b9",
       "version_major": 2,
       "version_minor": 0
      },
      "text/plain": [
       "VBox()"
      ]
     },
     "metadata": {},
     "output_type": "display_data"
    },
    {
     "data": {
      "application/vnd.jupyter.widget-view+json": {
       "model_id": "",
       "version_major": 2,
       "version_minor": 0
      },
      "text/plain": [
       "FloatProgress(value=0.0, bar_style='info', description='Progress:', layout=Layout(height='25px', width='50%'),…"
      ]
     },
     "metadata": {},
     "output_type": "display_data"
    }
   ],
   "source": [
    "df_congress['congress'] = df_congress['Congress (years)'].apply(lambda txt: txt.split(' ', 1)[0])"
   ]
  },
  {
   "cell_type": "code",
   "execution_count": 11,
   "id": "e25f02ad",
   "metadata": {},
   "outputs": [
    {
     "data": {
      "application/vnd.jupyter.widget-view+json": {
       "model_id": "a2c771574f5c464c844845a653c071bc",
       "version_major": 2,
       "version_minor": 0
      },
      "text/plain": [
       "VBox()"
      ]
     },
     "metadata": {},
     "output_type": "display_data"
    },
    {
     "data": {
      "application/vnd.jupyter.widget-view+json": {
       "model_id": "",
       "version_major": 2,
       "version_minor": 0
      },
      "text/plain": [
       "FloatProgress(value=0.0, bar_style='info', description='Progress:', layout=Layout(height='25px', width='50%'),…"
      ]
     },
     "metadata": {},
     "output_type": "display_data"
    },
    {
     "data": {
      "image/png": "[encoded data removed]",
      "text/plain": [
       "<IPython.core.display.Image object>"
      ]
     },
     "metadata": {},
     "output_type": "display_data"
    }
   ],
   "source": [
    "#View congress party makeup over time\n",
    "plt.close() # Close previous plots; otherwise, will just overwrite and display again\n",
    "\n",
    "sns.lineplot(x='congress', y='% Democrat', data=df_congress)\n",
    "sns.lineplot(x='congress', y='% Republican', data=df_congress)\n",
    "plt.title('Breakdown of Congress by Party Makeup over Time')\n",
    "plt.xlabel('Congress Session')\n",
    "plt.ylabel('Percent of Congress')\n",
    "plt.legend(['Republican', 'Democrat'])\n",
    "%matplot plt"
   ]
  },
  {
   "cell_type": "code",
   "execution_count": 12,
   "id": "707a19ac",
   "metadata": {},
   "outputs": [
    {
     "data": {
      "application/vnd.jupyter.widget-view+json": {
       "model_id": "de51c583fa224476aead492242ac80b4",
       "version_major": 2,
       "version_minor": 0
      },
      "text/plain": [
       "VBox()"
      ]
     },
     "metadata": {},
     "output_type": "display_data"
    },
    {
     "data": {
      "application/vnd.jupyter.widget-view+json": {
       "model_id": "",
       "version_major": 2,
       "version_minor": 0
      },
      "text/plain": [
       "FloatProgress(value=0.0, bar_style='info', description='Progress:', layout=Layout(height='25px', width='50%'),…"
      ]
     },
     "metadata": {},
     "output_type": "display_data"
    }
   ],
   "source": [
    "#read in the bills dataset from our s3 bucket\n",
    "df_bills = s3.get_object(Bucket=\"macs30123-bills\", Key=\"data_bills.csv\")\n",
    "df_bills = df_bills['Body'].read()\n",
    "df_bills = df_bills.decode('utf-8')\n",
    "\n",
    "df_bills = pd.read_csv(StringIO(df_bills))"
   ]
  },
  {
   "cell_type": "code",
   "execution_count": 13,
   "id": "bf5e014c",
   "metadata": {},
   "outputs": [
    {
     "data": {
      "application/vnd.jupyter.widget-view+json": {
       "model_id": "2bf58e66ad33420cb264829be3831f3c",
       "version_major": 2,
       "version_minor": 0
      },
      "text/plain": [
       "VBox()"
      ]
     },
     "metadata": {},
     "output_type": "display_data"
    },
    {
     "data": {
      "application/vnd.jupyter.widget-view+json": {
       "model_id": "",
       "version_major": 2,
       "version_minor": 0
      },
      "text/plain": [
       "FloatProgress(value=0.0, bar_style='info', description='Progress:', layout=Layout(height='25px', width='50%'),…"
      ]
     },
     "metadata": {},
     "output_type": "display_data"
    }
   ],
   "source": [
    "df_congress = df_congress.dropna()\n",
    "df_congress['congress'] = df_congress['congress'].astype(int)\n",
    "df = df_bills.merge(df_congress, left_on='session', right_on='congress',)"
   ]
  },
  {
   "cell_type": "code",
   "execution_count": 14,
   "id": "b68a7e87",
   "metadata": {},
   "outputs": [
    {
     "data": {
      "application/vnd.jupyter.widget-view+json": {
       "model_id": "4ff1b501816442d297e81112076fc4f3",
       "version_major": 2,
       "version_minor": 0
      },
      "text/plain": [
       "VBox()"
      ]
     },
     "metadata": {},
     "output_type": "display_data"
    },
    {
     "data": {
      "application/vnd.jupyter.widget-view+json": {
       "model_id": "",
       "version_major": 2,
       "version_minor": 0
      },
      "text/plain": [
       "FloatProgress(value=0.0, bar_style='info', description='Progress:', layout=Layout(height='25px', width='50%'),…"
      ]
     },
     "metadata": {},
     "output_type": "display_data"
    }
   ],
   "source": [
    "df = df[df['type'] != 'hres']\n",
    "df = df[df['type'] != 'sconres'] #remove hres and sconres type bills from our dataset"
   ]
  },
  {
   "cell_type": "code",
   "execution_count": 15,
   "id": "2dec0dc3",
   "metadata": {},
   "outputs": [
    {
     "data": {
      "application/vnd.jupyter.widget-view+json": {
       "model_id": "deea6bdbda0b42ffb78643a727463322",
       "version_major": 2,
       "version_minor": 0
      },
      "text/plain": [
       "VBox()"
      ]
     },
     "metadata": {},
     "output_type": "display_data"
    },
    {
     "data": {
      "application/vnd.jupyter.widget-view+json": {
       "model_id": "",
       "version_major": 2,
       "version_minor": 0
      },
      "text/plain": [
       "FloatProgress(value=0.0, bar_style='info', description='Progress:', layout=Layout(height='25px', width='50%'),…"
      ]
     },
     "metadata": {},
     "output_type": "display_data"
    },
    {
     "name": "stdout",
     "output_type": "stream",
     "text": [
      "array(['hr', 's'], dtype=object)"
     ]
    }
   ],
   "source": [
    "df['type'].unique() #verify that hres and sconres type bills have been removed"
   ]
  },
  {
   "cell_type": "markdown",
   "id": "7fbe03f7",
   "metadata": {},
   "source": [
    "Create our binary outcome variable based on whether or not bills have passed through Congress."
   ]
  },
  {
   "cell_type": "code",
   "execution_count": 17,
   "id": "32011c11",
   "metadata": {},
   "outputs": [
    {
     "data": {
      "application/vnd.jupyter.widget-view+json": {
       "model_id": "709beab00a7443fcb60233dded6071f7",
       "version_major": 2,
       "version_minor": 0
      },
      "text/plain": [
       "VBox()"
      ]
     },
     "metadata": {},
     "output_type": "display_data"
    },
    {
     "data": {
      "application/vnd.jupyter.widget-view+json": {
       "model_id": "",
       "version_major": 2,
       "version_minor": 0
      },
      "text/plain": [
       "FloatProgress(value=0.0, bar_style='info', description='Progress:', layout=Layout(height='25px', width='50%'),…"
      ]
     },
     "metadata": {},
     "output_type": "display_data"
    },
    {
     "name": "stdout",
     "output_type": "stream",
     "text": [
      "              Unnamed: 0  session type  ... % Democrat  % Republican  congress\n",
      "0      BILLS-113hr1000ih      113   hr  ...  46.206897     53.793103       113\n",
      "1      BILLS-113hr1001ih      113   hr  ...  46.206897     53.793103       113\n",
      "2      BILLS-113hr1002ih      113   hr  ...  46.206897     53.793103       113\n",
      "3      BILLS-113hr1003ih      113   hr  ...  46.206897     53.793103       113\n",
      "4      BILLS-113hr1004ih      113   hr  ...  46.206897     53.793103       113\n",
      "...                  ...      ...  ...  ...        ...           ...       ...\n",
      "61716    BILLS-116s998rs      116    s  ...  54.022989     45.747126       116\n",
      "61717    BILLS-116s999is      116    s  ...  54.022989     45.747126       116\n",
      "61718    BILLS-116s999rs      116    s  ...  54.022989     45.747126       116\n",
      "61719     BILLS-116s99is      116    s  ...  54.022989     45.747126       116\n",
      "61720      BILLS-116s9is      116    s  ...  54.022989     45.747126       116\n",
      "\n",
      "[58011 rows x 17 columns]"
     ]
    }
   ],
   "source": [
    "df"
   ]
  },
  {
   "cell_type": "code",
   "execution_count": 25,
   "id": "94455bc8",
   "metadata": {},
   "outputs": [
    {
     "data": {
      "application/vnd.jupyter.widget-view+json": {
       "model_id": "c6686f11eb124a9a9ee493b14a3880c8",
       "version_major": 2,
       "version_minor": 0
      },
      "text/plain": [
       "VBox()"
      ]
     },
     "metadata": {},
     "output_type": "display_data"
    },
    {
     "data": {
      "application/vnd.jupyter.widget-view+json": {
       "model_id": "",
       "version_major": 2,
       "version_minor": 0
      },
      "text/plain": [
       "FloatProgress(value=0.0, bar_style='info', description='Progress:', layout=Layout(height='25px', width='50%'),…"
      ]
     },
     "metadata": {},
     "output_type": "display_data"
    },
    {
     "name": "stdout",
     "output_type": "stream",
     "text": [
      "type  session\n",
      "hr    113         7831\n",
      "      114         9129\n",
      "      115        10721\n",
      "      116        11475\n",
      "s     113         3648\n",
      "      114         4412\n",
      "      115         4806\n",
      "      116         5977\n",
      "Name: outcome, dtype: int64"
     ]
    }
   ],
   "source": [
    "df.groupby(['type', 'session'])['outcome'].count()"
   ]
  },
  {
   "cell_type": "code",
   "execution_count": 26,
   "id": "6a95ae86",
   "metadata": {},
   "outputs": [
    {
     "data": {
      "application/vnd.jupyter.widget-view+json": {
       "model_id": "1c9f9856b41149d0a5f2fd1947b9d1f9",
       "version_major": 2,
       "version_minor": 0
      },
      "text/plain": [
       "VBox()"
      ]
     },
     "metadata": {},
     "output_type": "display_data"
    },
    {
     "data": {
      "application/vnd.jupyter.widget-view+json": {
       "model_id": "",
       "version_major": 2,
       "version_minor": 0
      },
      "text/plain": [
       "FloatProgress(value=0.0, bar_style='info', description='Progress:', layout=Layout(height='25px', width='50%'),…"
      ]
     },
     "metadata": {},
     "output_type": "display_data"
    }
   ],
   "source": [
    "df['pass'] = np.where(df['outcome'] == 'enr', 1, 0) #bills with an outcome of enr is considered a pass"
   ]
  },
  {
   "cell_type": "code",
   "execution_count": 27,
   "id": "cb2caa68",
   "metadata": {},
   "outputs": [
    {
     "data": {
      "application/vnd.jupyter.widget-view+json": {
       "model_id": "9dcf7303c6514cdda0bafd719cbfe589",
       "version_major": 2,
       "version_minor": 0
      },
      "text/plain": [
       "VBox()"
      ]
     },
     "metadata": {},
     "output_type": "display_data"
    },
    {
     "data": {
      "application/vnd.jupyter.widget-view+json": {
       "model_id": "",
       "version_major": 2,
       "version_minor": 0
      },
      "text/plain": [
       "FloatProgress(value=0.0, bar_style='info', description='Progress:', layout=Layout(height='25px', width='50%'),…"
      ]
     },
     "metadata": {},
     "output_type": "display_data"
    }
   ],
   "source": [
    "df = df.drop(['Congress (years)', '# of House Seats', 'Democrats', 'Republicans', 'Other'], axis=1)"
   ]
  },
  {
   "cell_type": "code",
   "execution_count": 28,
   "id": "5cd81afe",
   "metadata": {},
   "outputs": [
    {
     "data": {
      "application/vnd.jupyter.widget-view+json": {
       "model_id": "84eb852b1f694a0bb11ab3bf29fdc54f",
       "version_major": 2,
       "version_minor": 0
      },
      "text/plain": [
       "VBox()"
      ]
     },
     "metadata": {},
     "output_type": "display_data"
    },
    {
     "data": {
      "application/vnd.jupyter.widget-view+json": {
       "model_id": "",
       "version_major": 2,
       "version_minor": 0
      },
      "text/plain": [
       "FloatProgress(value=0.0, bar_style='info', description='Progress:', layout=Layout(height='25px', width='50%'),…"
      ]
     },
     "metadata": {},
     "output_type": "display_data"
    }
   ],
   "source": [
    "df['Unnamed: 0'] = df['Unnamed: 0'].astype(str)"
   ]
  },
  {
   "cell_type": "code",
   "execution_count": 29,
   "id": "abd1510e",
   "metadata": {},
   "outputs": [
    {
     "data": {
      "application/vnd.jupyter.widget-view+json": {
       "model_id": "55c4824144db4f00b25a043befdf0dec",
       "version_major": 2,
       "version_minor": 0
      },
      "text/plain": [
       "VBox()"
      ]
     },
     "metadata": {},
     "output_type": "display_data"
    },
    {
     "data": {
      "application/vnd.jupyter.widget-view+json": {
       "model_id": "",
       "version_major": 2,
       "version_minor": 0
      },
      "text/plain": [
       "FloatProgress(value=0.0, bar_style='info', description='Progress:', layout=Layout(height='25px', width='50%'),…"
      ]
     },
     "metadata": {},
     "output_type": "display_data"
    }
   ],
   "source": [
    "df['outcome'] = df['outcome'].astype(str)"
   ]
  },
  {
   "cell_type": "code",
   "execution_count": 30,
   "id": "0fd23d60",
   "metadata": {},
   "outputs": [
    {
     "data": {
      "application/vnd.jupyter.widget-view+json": {
       "model_id": "6b5c449c7bd14f0897d6a799686e75f0",
       "version_major": 2,
       "version_minor": 0
      },
      "text/plain": [
       "VBox()"
      ]
     },
     "metadata": {},
     "output_type": "display_data"
    },
    {
     "data": {
      "application/vnd.jupyter.widget-view+json": {
       "model_id": "",
       "version_major": 2,
       "version_minor": 0
      },
      "text/plain": [
       "FloatProgress(value=0.0, bar_style='info', description='Progress:', layout=Layout(height='25px', width='50%'),…"
      ]
     },
     "metadata": {},
     "output_type": "display_data"
    }
   ],
   "source": [
    "#convert our merged dataset that contains all our data into a Spark Dataframe\n",
    "from pyspark.sql import SparkSession\n",
    "\n",
    "#create a spark session\n",
    "sparksesh = SparkSession.builder.master('local[1]').appName('SparkByExamples.com').getOrCreate()\n",
    "\n",
    "sdf = sparksesh.createDataFrame(df)"
   ]
  },
  {
   "cell_type": "code",
   "execution_count": 31,
   "id": "2fe66662",
   "metadata": {},
   "outputs": [
    {
     "data": {
      "application/vnd.jupyter.widget-view+json": {
       "model_id": "87e1470f2232445b8cb28978d6cbb2eb",
       "version_major": 2,
       "version_minor": 0
      },
      "text/plain": [
       "VBox()"
      ]
     },
     "metadata": {},
     "output_type": "display_data"
    },
    {
     "data": {
      "application/vnd.jupyter.widget-view+json": {
       "model_id": "",
       "version_major": 2,
       "version_minor": 0
      },
      "text/plain": [
       "FloatProgress(value=0.0, bar_style='info', description='Progress:', layout=Layout(height='25px', width='50%'),…"
      ]
     },
     "metadata": {},
     "output_type": "display_data"
    },
    {
     "name": "stdout",
     "output_type": "stream",
     "text": [
      "+-----------------+-------+----+-------+-------------+-------------+----------+-------------------+--------------------+-----------+------------+--------+----+\n",
      "|       Unnamed: 0|session|type|outcome|sponsor_count|section_count|word_count|       subjectivity|            polarity| % Democrat|% Republican|congress|pass|\n",
      "+-----------------+-------+----+-------+-------------+-------------+----------+-------------------+--------------------+-----------+------------+--------+----+\n",
      "|BILLS-113hr1000ih|    113|  hr|     ih|            1|           10|      5828| 0.3655130309870722| 0.06525710181466382|46.20689655|  53.7931034|     113|   0|\n",
      "|BILLS-113hr1001ih|    113|  hr|     ih|            3|            1|       482| 0.4160595238095238| 0.08928273809523811|46.20689655|  53.7931034|     113|   0|\n",
      "|BILLS-113hr1002ih|    113|  hr|     ih|            8|            4|       914| 0.7384660421545669|  0.3741412958626073|46.20689655|  53.7931034|     113|   0|\n",
      "|BILLS-113hr1003ih|    113|  hr|     ih|            5|            1|       304|  0.448529411764706|-0.03186274509803...|46.20689655|  53.7931034|     113|   0|\n",
      "|BILLS-113hr1004ih|    113|  hr|     ih|            5|            5|      2407|0.28045944940476186| 0.08803013392857144|46.20689655|  53.7931034|     113|   0|\n",
      "|BILLS-113hr1005ih|    113|  hr|     ih|            4|            3|       156|0.24940476190476196| 0.03273809523809524|46.20689655|  53.7931034|     113|   0|\n",
      "|BILLS-113hr1006ih|    113|  hr|     ih|            2|            2|       359|             0.3925| 0.16583333333333333|46.20689655|  53.7931034|     113|   0|\n",
      "|BILLS-113hr1007ih|    113|  hr|     ih|            2|            3|       624| 0.4836950146627567| 0.05337732160312806|46.20689655|  53.7931034|     113|   0|\n",
      "|BILLS-113hr1008ih|    113|  hr|     ih|           44|           10|      2051| 0.3813060385941737|  0.2408455621591215|46.20689655|  53.7931034|     113|   0|\n",
      "|BILLS-113hr1009ih|    113|  hr|     ih|           13|            3|       813| 0.3778756957328386|0.014955679241393524|46.20689655|  53.7931034|     113|   0|\n",
      "| BILLS-113hr100ih|    113|  hr|     ih|            8|           23|      5638| 0.4959002086890532| 0.11747249098842727|46.20689655|  53.7931034|     113|   0|\n",
      "|BILLS-113hr1010ih|    113|  hr|     ih|          132|            2|       745| 0.3617676767676768| 0.13858585858585856|46.20689655|  53.7931034|     113|   0|\n",
      "|BILLS-113hr1011ih|    113|  hr|     ih|            4|            1|       117| 0.3525252525252525| 0.09612794612794613|46.20689655|  53.7931034|     113|   0|\n",
      "|BILLS-113hr1012ih|    113|  hr|     ih|            6|            7|      2750| 0.2723322905804658| 0.03734358706986445|46.20689655|  53.7931034|     113|   0|\n",
      "|BILLS-113hr1013ih|    113|  hr|     ih|            2|            2|       303| 0.2858333333333333|-0.01083333333333333|46.20689655|  53.7931034|     113|   0|\n",
      "|BILLS-113hr1014ih|    113|  hr|     ih|            1|            1|       145|0.14265734265734267|-0.04463869463869463|46.20689655|  53.7931034|     113|   0|\n",
      "|BILLS-113hr1015ih|    113|  hr|     ih|            2|            4|       907|0.28556033168709216|-0.01603713188220...|46.20689655|  53.7931034|     113|   0|\n",
      "|BILLS-113hr1016ih|    113|  hr|     ih|            3|            3|       639| 0.4267813852813851| 0.08960822510822512|46.20689655|  53.7931034|     113|   0|\n",
      "|BILLS-113hr1017ih|    113|  hr|     ih|            1|            3|       306| 0.4024844720496894|0.036594202898550726|46.20689655|  53.7931034|     113|   0|\n",
      "|BILLS-113hr1018ih|    113|  hr|     ih|            6|            1|       465| 0.4905714285714286| 0.20904761904761904|46.20689655|  53.7931034|     113|   0|\n",
      "+-----------------+-------+----+-------+-------------+-------------+----------+-------------------+--------------------+-----------+------------+--------+----+\n",
      "only showing top 20 rows"
     ]
    }
   ],
   "source": [
    "#view our newly created Spark Dataframe\n",
    "sdf.show()"
   ]
  },
  {
   "cell_type": "code",
   "execution_count": 47,
   "id": "b16fe112",
   "metadata": {},
   "outputs": [
    {
     "data": {
      "application/vnd.jupyter.widget-view+json": {
       "model_id": "f495664385eb435bbaf0015f7dbf5114",
       "version_major": 2,
       "version_minor": 0
      },
      "text/plain": [
       "VBox()"
      ]
     },
     "metadata": {},
     "output_type": "display_data"
    },
    {
     "data": {
      "application/vnd.jupyter.widget-view+json": {
       "model_id": "",
       "version_major": 2,
       "version_minor": 0
      },
      "text/plain": [
       "FloatProgress(value=0.0, bar_style='info', description='Progress:', layout=Layout(height='25px', width='50%'),…"
      ]
     },
     "metadata": {},
     "output_type": "display_data"
    }
   ],
   "source": [
    "from pyspark.ml.feature import MinMaxScaler\n",
    "from pyspark.ml.feature import VectorAssembler\n",
    "from pyspark.ml import Pipeline\n",
    "from pyspark.sql.functions import udf\n",
    "from pyspark.sql.types import DoubleType\n",
    "\n",
    "# UDF used to convert the column type from a vector to a double type\n",
    "unlist = udf(lambda x: round(float(list(x)[0]),3), DoubleType())\n",
    "\n",
    "# Converting our column to a vector using VectorAssembler\n",
    "assembler = VectorAssembler(inputCols=['word_count'],outputCol='word_count_vect')\n",
    "\n",
    "# Convert vector to scalar using MinMaxScaler\n",
    "scaler = MinMaxScaler(inputCol='word_count_vect', outputCol='word_count_scaled')\n",
    "\n",
    "# Create a pipeline from of VectorAssembler and MinMaxScaler\n",
    "pipeline = Pipeline(stages=[assembler, scaler])\n",
    "\n",
    "# Fitting pipeline the column word_count to normalise it due to the large degree of variation\n",
    "sdf = pipeline.fit(sdf).transform(sdf).withColumn('word_count_scaled', unlist('word_count_scaled')).drop('word_count_vect')"
   ]
  },
  {
   "cell_type": "code",
   "execution_count": 48,
   "id": "de5e12e5",
   "metadata": {},
   "outputs": [
    {
     "data": {
      "application/vnd.jupyter.widget-view+json": {
       "model_id": "248eb9882971498597b605e63dbf88dc",
       "version_major": 2,
       "version_minor": 0
      },
      "text/plain": [
       "VBox()"
      ]
     },
     "metadata": {},
     "output_type": "display_data"
    },
    {
     "data": {
      "application/vnd.jupyter.widget-view+json": {
       "model_id": "",
       "version_major": 2,
       "version_minor": 0
      },
      "text/plain": [
       "FloatProgress(value=0.0, bar_style='info', description='Progress:', layout=Layout(height='25px', width='50%'),…"
      ]
     },
     "metadata": {},
     "output_type": "display_data"
    },
    {
     "name": "stdout",
     "output_type": "stream",
     "text": [
      "+-----------------+-------+----+-------+-------------+-------------+----------+-------------------+--------------------+-----------+------------+--------+----+-----------------+\n",
      "|       Unnamed: 0|session|type|outcome|sponsor_count|section_count|word_count|       subjectivity|            polarity| % Democrat|% Republican|congress|pass|word_count_scaled|\n",
      "+-----------------+-------+----+-------+-------------+-------------+----------+-------------------+--------------------+-----------+------------+--------+----+-----------------+\n",
      "|BILLS-113hr1000ih|    113|  hr|     ih|            1|           10|      5828| 0.3655130309870722| 0.06525710181466382|46.20689655|  53.7931034|     113|   0|            0.006|\n",
      "|BILLS-113hr1001ih|    113|  hr|     ih|            3|            1|       482| 0.4160595238095238| 0.08928273809523811|46.20689655|  53.7931034|     113|   0|            0.001|\n",
      "|BILLS-113hr1002ih|    113|  hr|     ih|            8|            4|       914| 0.7384660421545669|  0.3741412958626073|46.20689655|  53.7931034|     113|   0|            0.001|\n",
      "|BILLS-113hr1003ih|    113|  hr|     ih|            5|            1|       304|  0.448529411764706|-0.03186274509803...|46.20689655|  53.7931034|     113|   0|              0.0|\n",
      "|BILLS-113hr1004ih|    113|  hr|     ih|            5|            5|      2407|0.28045944940476186| 0.08803013392857144|46.20689655|  53.7931034|     113|   0|            0.003|\n",
      "|BILLS-113hr1005ih|    113|  hr|     ih|            4|            3|       156|0.24940476190476196| 0.03273809523809524|46.20689655|  53.7931034|     113|   0|              0.0|\n",
      "|BILLS-113hr1006ih|    113|  hr|     ih|            2|            2|       359|             0.3925| 0.16583333333333333|46.20689655|  53.7931034|     113|   0|              0.0|\n",
      "|BILLS-113hr1007ih|    113|  hr|     ih|            2|            3|       624| 0.4836950146627567| 0.05337732160312806|46.20689655|  53.7931034|     113|   0|            0.001|\n",
      "|BILLS-113hr1008ih|    113|  hr|     ih|           44|           10|      2051| 0.3813060385941737|  0.2408455621591215|46.20689655|  53.7931034|     113|   0|            0.002|\n",
      "|BILLS-113hr1009ih|    113|  hr|     ih|           13|            3|       813| 0.3778756957328386|0.014955679241393524|46.20689655|  53.7931034|     113|   0|            0.001|\n",
      "| BILLS-113hr100ih|    113|  hr|     ih|            8|           23|      5638| 0.4959002086890532| 0.11747249098842727|46.20689655|  53.7931034|     113|   0|            0.006|\n",
      "|BILLS-113hr1010ih|    113|  hr|     ih|          132|            2|       745| 0.3617676767676768| 0.13858585858585856|46.20689655|  53.7931034|     113|   0|            0.001|\n",
      "|BILLS-113hr1011ih|    113|  hr|     ih|            4|            1|       117| 0.3525252525252525| 0.09612794612794613|46.20689655|  53.7931034|     113|   0|              0.0|\n",
      "|BILLS-113hr1012ih|    113|  hr|     ih|            6|            7|      2750| 0.2723322905804658| 0.03734358706986445|46.20689655|  53.7931034|     113|   0|            0.003|\n",
      "|BILLS-113hr1013ih|    113|  hr|     ih|            2|            2|       303| 0.2858333333333333|-0.01083333333333333|46.20689655|  53.7931034|     113|   0|              0.0|\n",
      "|BILLS-113hr1014ih|    113|  hr|     ih|            1|            1|       145|0.14265734265734267|-0.04463869463869463|46.20689655|  53.7931034|     113|   0|              0.0|\n",
      "|BILLS-113hr1015ih|    113|  hr|     ih|            2|            4|       907|0.28556033168709216|-0.01603713188220...|46.20689655|  53.7931034|     113|   0|            0.001|\n",
      "|BILLS-113hr1016ih|    113|  hr|     ih|            3|            3|       639| 0.4267813852813851| 0.08960822510822512|46.20689655|  53.7931034|     113|   0|            0.001|\n",
      "|BILLS-113hr1017ih|    113|  hr|     ih|            1|            3|       306| 0.4024844720496894|0.036594202898550726|46.20689655|  53.7931034|     113|   0|              0.0|\n",
      "|BILLS-113hr1018ih|    113|  hr|     ih|            6|            1|       465| 0.4905714285714286| 0.20904761904761904|46.20689655|  53.7931034|     113|   0|              0.0|\n",
      "+-----------------+-------+----+-------+-------------+-------------+----------+-------------------+--------------------+-----------+------------+--------+----+-----------------+\n",
      "only showing top 20 rows"
     ]
    }
   ],
   "source": [
    "#view new spark dataframe with the scaled word_count column\n",
    "sdf.show()"
   ]
  },
  {
   "cell_type": "code",
   "execution_count": 49,
   "id": "f067a41c",
   "metadata": {},
   "outputs": [
    {
     "data": {
      "application/vnd.jupyter.widget-view+json": {
       "model_id": "86c983d548b84b478caf7ffa4b5b4876",
       "version_major": 2,
       "version_minor": 0
      },
      "text/plain": [
       "VBox()"
      ]
     },
     "metadata": {},
     "output_type": "display_data"
    },
    {
     "data": {
      "application/vnd.jupyter.widget-view+json": {
       "model_id": "",
       "version_major": 2,
       "version_minor": 0
      },
      "text/plain": [
       "FloatProgress(value=0.0, bar_style='info', description='Progress:', layout=Layout(height='25px', width='50%'),…"
      ]
     },
     "metadata": {},
     "output_type": "display_data"
    },
    {
     "name": "stdout",
     "output_type": "stream",
     "text": [
      "+-----------------+-------+----+-------+-------------+-------------+----------+-------------------+--------------------+-----------+------------+--------+----+-----------------+--------------------+\n",
      "|       Unnamed: 0|session|type|outcome|sponsor_count|section_count|word_count|       subjectivity|            polarity| % Democrat|% Republican|congress|pass|word_count_scaled|            features|\n",
      "+-----------------+-------+----+-------+-------------+-------------+----------+-------------------+--------------------+-----------+------------+--------+----+-----------------+--------------------+\n",
      "|BILLS-113hr1000ih|    113|  hr|     ih|            1|           10|      5828| 0.3655130309870722| 0.06525710181466382|46.20689655|  53.7931034|     113|   0|            0.006|[1.0,10.0,0.006,0...|\n",
      "|BILLS-113hr1001ih|    113|  hr|     ih|            3|            1|       482| 0.4160595238095238| 0.08928273809523811|46.20689655|  53.7931034|     113|   0|            0.001|[3.0,1.0,0.001,0....|\n",
      "|BILLS-113hr1002ih|    113|  hr|     ih|            8|            4|       914| 0.7384660421545669|  0.3741412958626073|46.20689655|  53.7931034|     113|   0|            0.001|[8.0,4.0,0.001,0....|\n",
      "|BILLS-113hr1003ih|    113|  hr|     ih|            5|            1|       304|  0.448529411764706|-0.03186274509803...|46.20689655|  53.7931034|     113|   0|              0.0|[5.0,1.0,0.0,0.44...|\n",
      "|BILLS-113hr1004ih|    113|  hr|     ih|            5|            5|      2407|0.28045944940476186| 0.08803013392857144|46.20689655|  53.7931034|     113|   0|            0.003|[5.0,5.0,0.003,0....|\n",
      "|BILLS-113hr1005ih|    113|  hr|     ih|            4|            3|       156|0.24940476190476196| 0.03273809523809524|46.20689655|  53.7931034|     113|   0|              0.0|[4.0,3.0,0.0,0.24...|\n",
      "|BILLS-113hr1006ih|    113|  hr|     ih|            2|            2|       359|             0.3925| 0.16583333333333333|46.20689655|  53.7931034|     113|   0|              0.0|[2.0,2.0,0.0,0.39...|\n",
      "|BILLS-113hr1007ih|    113|  hr|     ih|            2|            3|       624| 0.4836950146627567| 0.05337732160312806|46.20689655|  53.7931034|     113|   0|            0.001|[2.0,3.0,0.001,0....|\n",
      "|BILLS-113hr1008ih|    113|  hr|     ih|           44|           10|      2051| 0.3813060385941737|  0.2408455621591215|46.20689655|  53.7931034|     113|   0|            0.002|[44.0,10.0,0.002,...|\n",
      "|BILLS-113hr1009ih|    113|  hr|     ih|           13|            3|       813| 0.3778756957328386|0.014955679241393524|46.20689655|  53.7931034|     113|   0|            0.001|[13.0,3.0,0.001,0...|\n",
      "| BILLS-113hr100ih|    113|  hr|     ih|            8|           23|      5638| 0.4959002086890532| 0.11747249098842727|46.20689655|  53.7931034|     113|   0|            0.006|[8.0,23.0,0.006,0...|\n",
      "|BILLS-113hr1010ih|    113|  hr|     ih|          132|            2|       745| 0.3617676767676768| 0.13858585858585856|46.20689655|  53.7931034|     113|   0|            0.001|[132.0,2.0,0.001,...|\n",
      "|BILLS-113hr1011ih|    113|  hr|     ih|            4|            1|       117| 0.3525252525252525| 0.09612794612794613|46.20689655|  53.7931034|     113|   0|              0.0|[4.0,1.0,0.0,0.35...|\n",
      "|BILLS-113hr1012ih|    113|  hr|     ih|            6|            7|      2750| 0.2723322905804658| 0.03734358706986445|46.20689655|  53.7931034|     113|   0|            0.003|[6.0,7.0,0.003,0....|\n",
      "|BILLS-113hr1013ih|    113|  hr|     ih|            2|            2|       303| 0.2858333333333333|-0.01083333333333333|46.20689655|  53.7931034|     113|   0|              0.0|[2.0,2.0,0.0,0.28...|\n",
      "|BILLS-113hr1014ih|    113|  hr|     ih|            1|            1|       145|0.14265734265734267|-0.04463869463869463|46.20689655|  53.7931034|     113|   0|              0.0|[1.0,1.0,0.0,0.14...|\n",
      "|BILLS-113hr1015ih|    113|  hr|     ih|            2|            4|       907|0.28556033168709216|-0.01603713188220...|46.20689655|  53.7931034|     113|   0|            0.001|[2.0,4.0,0.001,0....|\n",
      "|BILLS-113hr1016ih|    113|  hr|     ih|            3|            3|       639| 0.4267813852813851| 0.08960822510822512|46.20689655|  53.7931034|     113|   0|            0.001|[3.0,3.0,0.001,0....|\n",
      "|BILLS-113hr1017ih|    113|  hr|     ih|            1|            3|       306| 0.4024844720496894|0.036594202898550726|46.20689655|  53.7931034|     113|   0|              0.0|[1.0,3.0,0.0,0.40...|\n",
      "|BILLS-113hr1018ih|    113|  hr|     ih|            6|            1|       465| 0.4905714285714286| 0.20904761904761904|46.20689655|  53.7931034|     113|   0|              0.0|[6.0,1.0,0.0,0.49...|\n",
      "+-----------------+-------+----+-------+-------------+-------------+----------+-------------------+--------------------+-----------+------------+--------+----+-----------------+--------------------+\n",
      "only showing top 20 rows"
     ]
    }
   ],
   "source": [
    "#use vectorassembler to get our features into the form expected by pyspark.ml\n",
    "from pyspark.ml.feature import VectorAssembler\n",
    "\n",
    "features = ['sponsor_count', 'section_count', 'word_count_scaled', 'subjectivity', 'polarity', '% Democrat', '% Republican']\n",
    "assembler = VectorAssembler(inputCols = features, outputCol = 'features')\n",
    "\n",
    "s_df = assembler.transform(sdf)\n",
    "s_df.show()"
   ]
  },
  {
   "cell_type": "code",
   "execution_count": 50,
   "id": "a4c55f76",
   "metadata": {},
   "outputs": [
    {
     "data": {
      "application/vnd.jupyter.widget-view+json": {
       "model_id": "cfec9b550e3c47c7b6c94222646db3b6",
       "version_major": 2,
       "version_minor": 0
      },
      "text/plain": [
       "VBox()"
      ]
     },
     "metadata": {},
     "output_type": "display_data"
    },
    {
     "data": {
      "application/vnd.jupyter.widget-view+json": {
       "model_id": "",
       "version_major": 2,
       "version_minor": 0
      },
      "text/plain": [
       "FloatProgress(value=0.0, bar_style='info', description='Progress:', layout=Layout(height='25px', width='50%'),…"
      ]
     },
     "metadata": {},
     "output_type": "display_data"
    }
   ],
   "source": [
    "#split into training and test datasets\n",
    "train, test = s_df.randomSplit([0.7, 0.3])\n",
    "\n",
    "#create and run model\n",
    "from pyspark.ml.classification import LogisticRegression\n",
    "lr = LogisticRegression(featuresCol='features', labelCol='pass')\n",
    "model = lr.fit(train)"
   ]
  },
  {
   "cell_type": "code",
   "execution_count": 51,
   "id": "6f3c0bda",
   "metadata": {},
   "outputs": [
    {
     "data": {
      "application/vnd.jupyter.widget-view+json": {
       "model_id": "13a74e55f1d24623bd3cce0563636737",
       "version_major": 2,
       "version_minor": 0
      },
      "text/plain": [
       "VBox()"
      ]
     },
     "metadata": {},
     "output_type": "display_data"
    },
    {
     "data": {
      "application/vnd.jupyter.widget-view+json": {
       "model_id": "",
       "version_major": 2,
       "version_minor": 0
      },
      "text/plain": [
       "FloatProgress(value=0.0, bar_style='info', description='Progress:', layout=Layout(height='25px', width='50%'),…"
      ]
     },
     "metadata": {},
     "output_type": "display_data"
    }
   ],
   "source": [
    "#Summary of Training Data\n",
    "trainingSummary = model.summary\n",
    "evaluationSummary = model.evaluate(test)"
   ]
  },
  {
   "cell_type": "markdown",
   "id": "2c09b853",
   "metadata": {},
   "source": [
    "Evaluate Model Performance"
   ]
  },
  {
   "cell_type": "code",
   "execution_count": 52,
   "id": "8f639238",
   "metadata": {},
   "outputs": [
    {
     "data": {
      "application/vnd.jupyter.widget-view+json": {
       "model_id": "52803a77922647838f69c0d24139487e",
       "version_major": 2,
       "version_minor": 0
      },
      "text/plain": [
       "VBox()"
      ]
     },
     "metadata": {},
     "output_type": "display_data"
    },
    {
     "data": {
      "application/vnd.jupyter.widget-view+json": {
       "model_id": "",
       "version_major": 2,
       "version_minor": 0
      },
      "text/plain": [
       "FloatProgress(value=0.0, bar_style='info', description='Progress:', layout=Layout(height='25px', width='50%'),…"
      ]
     },
     "metadata": {},
     "output_type": "display_data"
    },
    {
     "name": "stdout",
     "output_type": "stream",
     "text": [
      "Training AUC: 0.9384395311455817\n",
      "Test AUC:  0.9352409533408347\n",
      "\n",
      "False positive rate by label (Training):\n",
      "label 0: 0.9968186638388123\n",
      "label 1: 0.00015183338816205684\n",
      "\n",
      "True positive rate by label (Training):\n",
      "label 0: 0.999848166611838\n",
      "label 1: 0.003181336161187699\n",
      "\n",
      "Training Accuracy: 0.9766188828472565\n",
      "Test Accuracy:  0.9762406700472908"
     ]
    }
   ],
   "source": [
    "print('Training AUC: ' + str(trainingSummary.areaUnderROC))\n",
    "print('Test AUC: ', str(evaluationSummary.areaUnderROC))\n",
    "\n",
    "print(\"\\nFalse positive rate by label (Training):\")\n",
    "for i, rate in enumerate(trainingSummary.falsePositiveRateByLabel):\n",
    "    print(\"label %d: %s\" % (i, rate))\n",
    "\n",
    "print(\"\\nTrue positive rate by label (Training):\")\n",
    "for i, rate in enumerate(trainingSummary.truePositiveRateByLabel):\n",
    "    print(\"label %d: %s\" % (i, rate))\n",
    "    \n",
    "print(\"\\nTraining Accuracy: \" + str(trainingSummary.accuracy))\n",
    "print(\"Test Accuracy: \", str(evaluationSummary.accuracy))"
   ]
  },
  {
   "cell_type": "code",
   "execution_count": 53,
   "id": "2012c3e9",
   "metadata": {},
   "outputs": [
    {
     "data": {
      "application/vnd.jupyter.widget-view+json": {
       "model_id": "dfd99a620ae943f6b2b8e2a9f15a095c",
       "version_major": 2,
       "version_minor": 0
      },
      "text/plain": [
       "VBox()"
      ]
     },
     "metadata": {},
     "output_type": "display_data"
    },
    {
     "data": {
      "application/vnd.jupyter.widget-view+json": {
       "model_id": "",
       "version_major": 2,
       "version_minor": 0
      },
      "text/plain": [
       "FloatProgress(value=0.0, bar_style='info', description='Progress:', layout=Layout(height='25px', width='50%'),…"
      ]
     },
     "metadata": {},
     "output_type": "display_data"
    }
   ],
   "source": [
    "# Obtain ROC curve and send to Pandas for plot\n",
    "roc_df = evaluationSummary.roc.toPandas()"
   ]
  },
  {
   "cell_type": "code",
   "execution_count": 54,
   "id": "b6ce1f46",
   "metadata": {},
   "outputs": [
    {
     "data": {
      "application/vnd.jupyter.widget-view+json": {
       "model_id": "02a9772c16584d169918433acf4c8976",
       "version_major": 2,
       "version_minor": 0
      },
      "text/plain": [
       "VBox()"
      ]
     },
     "metadata": {},
     "output_type": "display_data"
    },
    {
     "data": {
      "application/vnd.jupyter.widget-view+json": {
       "model_id": "",
       "version_major": 2,
       "version_minor": 0
      },
      "text/plain": [
       "FloatProgress(value=0.0, bar_style='info', description='Progress:', layout=Layout(height='25px', width='50%'),…"
      ]
     },
     "metadata": {},
     "output_type": "display_data"
    },
    {
     "data": {
      "image/png": "[encoded data removed]",
      "text/plain": [
       "<IPython.core.display.Image object>"
      ]
     },
     "metadata": {},
     "output_type": "display_data"
    }
   ],
   "source": [
    "# Close previous plots; otherwise, will just overwrite and display again\n",
    "plt.close()\n",
    "\n",
    "plt.plot(roc_df.FPR, roc_df.TPR, 'b', label = 'AUC = %0.2f' % evaluationSummary.areaUnderROC)\n",
    "plt.legend(loc = 'lower right')\n",
    "plt.plot([0, 1], [0, 1],'r--')\n",
    "plt.xlim([0, 1])\n",
    "plt.ylim([0, 1])\n",
    "plt.ylabel('True Positive Rate')\n",
    "plt.xlabel('False Positive Rate')\n",
    "plt.title('ROC Curve')\n",
    "plt.show()\n",
    "\n",
    "%matplot plt"
   ]
  },
  {
   "cell_type": "code",
   "execution_count": 55,
   "id": "7179cb90",
   "metadata": {},
   "outputs": [
    {
     "data": {
      "application/vnd.jupyter.widget-view+json": {
       "model_id": "6eca39c2219247d3a722d9bff0a81f8b",
       "version_major": 2,
       "version_minor": 0
      },
      "text/plain": [
       "VBox()"
      ]
     },
     "metadata": {},
     "output_type": "display_data"
    },
    {
     "data": {
      "application/vnd.jupyter.widget-view+json": {
       "model_id": "",
       "version_major": 2,
       "version_minor": 0
      },
      "text/plain": [
       "FloatProgress(value=0.0, bar_style='info', description='Progress:', layout=Layout(height='25px', width='50%'),…"
      ]
     },
     "metadata": {},
     "output_type": "display_data"
    },
    {
     "name": "stdout",
     "output_type": "stream",
     "text": [
      "DenseVector([-2.7114, -0.0003, 11.2502, -5.5139, 4.219, 0.0378, 0.033])"
     ]
    }
   ],
   "source": [
    "#view feature importances\n",
    "model.coefficients"
   ]
  },
  {
   "cell_type": "code",
   "execution_count": 56,
   "id": "6a716382",
   "metadata": {},
   "outputs": [
    {
     "data": {
      "application/vnd.jupyter.widget-view+json": {
       "model_id": "ee4c29e5b51b4a73b0bce2b1f24b9848",
       "version_major": 2,
       "version_minor": 0
      },
      "text/plain": [
       "VBox()"
      ]
     },
     "metadata": {},
     "output_type": "display_data"
    },
    {
     "data": {
      "application/vnd.jupyter.widget-view+json": {
       "model_id": "",
       "version_major": 2,
       "version_minor": 0
      },
      "text/plain": [
       "FloatProgress(value=0.0, bar_style='info', description='Progress:', layout=Layout(height='25px', width='50%'),…"
      ]
     },
     "metadata": {},
     "output_type": "display_data"
    },
    {
     "data": {
      "image/png": "[encoded data removed]",
      "text/plain": [
       "<IPython.core.display.Image object>"
      ]
     },
     "metadata": {},
     "output_type": "display_data"
    }
   ],
   "source": [
    "#plot our model features by importance\n",
    "\n",
    "plt.close() # Close previous plots; otherwise, will just overwrite and display again\n",
    "sns.set(rc={'figure.figsize':(20, 7)})\n",
    "\n",
    "sns.barplot(x=features, y= list(model.coefficients))\n",
    "plt.title('Feature Importances from Logistic Regression Model')\n",
    "plt.xlabel('Feature')\n",
    "plt.ylabel('Feature Coefficient')\n",
    "%matplot plt"
   ]
  },
  {
   "cell_type": "code",
   "execution_count": 61,
   "id": "afaeec25",
   "metadata": {},
   "outputs": [
    {
     "data": {
      "application/vnd.jupyter.widget-view+json": {
       "model_id": "bd28d4efc44748698807d7e169ae37cd",
       "version_major": 2,
       "version_minor": 0
      },
      "text/plain": [
       "VBox()"
      ]
     },
     "metadata": {},
     "output_type": "display_data"
    },
    {
     "data": {
      "application/vnd.jupyter.widget-view+json": {
       "model_id": "",
       "version_major": 2,
       "version_minor": 0
      },
      "text/plain": [
       "FloatProgress(value=0.0, bar_style='info', description='Progress:', layout=Layout(height='25px', width='50%'),…"
      ]
     },
     "metadata": {},
     "output_type": "display_data"
    },
    {
     "name": "stdout",
     "output_type": "stream",
     "text": [
      "[[1.713e+04 3.000e+00]\n",
      " [4.140e+02 4.000e+00]]"
     ]
    }
   ],
   "source": [
    "import pyspark.sql.functions as F\n",
    "from pyspark.mllib.evaluation import MulticlassMetrics\n",
    "from pyspark.sql.types import FloatType\n",
    "\n",
    "predictions = model.transform(test)\n",
    "\n",
    "#Create a Confusion Matrix to further evaluate model performance\n",
    "\n",
    "#First create a prediction column and convert to float type, then order by prediction\n",
    "pred_labels = predictions.select(['prediction','pass']).withColumn('label', F.col('pass').cast(FloatType())).orderBy('prediction')\n",
    "\n",
    "pred_labels = pred_labels.select(['prediction','label'])\n",
    "\n",
    "metrics = MulticlassMetrics(pred_labels.rdd.map(tuple))\n",
    "\n",
    "print(metrics.confusionMatrix().toArray())"
   ]
  },
  {
   "cell_type": "code",
   "execution_count": 95,
   "id": "9219bd94",
   "metadata": {},
   "outputs": [
    {
     "data": {
      "application/vnd.jupyter.widget-view+json": {
       "model_id": "6531743655a142048f262eca3b5f1cba",
       "version_major": 2,
       "version_minor": 0
      },
      "text/plain": [
       "VBox()"
      ]
     },
     "metadata": {},
     "output_type": "display_data"
    },
    {
     "data": {
      "application/vnd.jupyter.widget-view+json": {
       "model_id": "",
       "version_major": 2,
       "version_minor": 0
      },
      "text/plain": [
       "FloatProgress(value=0.0, bar_style='info', description='Progress:', layout=Layout(height='25px', width='50%'),…"
      ]
     },
     "metadata": {},
     "output_type": "display_data"
    }
   ],
   "source": [
    "cm = metrics.confusionMatrix().toArray()\n",
    "tp = cm[0][0] #true positives\n",
    "fn = cm[0][1] #false positives\n",
    "fp = cm[1][0] #false negatives\n",
    "tn = cm[1][1] #true negatives"
   ]
  },
  {
   "cell_type": "code",
   "execution_count": 96,
   "id": "468fcb9d",
   "metadata": {},
   "outputs": [
    {
     "data": {
      "application/vnd.jupyter.widget-view+json": {
       "model_id": "bc15840e031647f182a38b4c8ff3c7fb",
       "version_major": 2,
       "version_minor": 0
      },
      "text/plain": [
       "VBox()"
      ]
     },
     "metadata": {},
     "output_type": "display_data"
    },
    {
     "data": {
      "application/vnd.jupyter.widget-view+json": {
       "model_id": "",
       "version_major": 2,
       "version_minor": 0
      },
      "text/plain": [
       "FloatProgress(value=0.0, bar_style='info', description='Progress:', layout=Layout(height='25px', width='50%'),…"
      ]
     },
     "metadata": {},
     "output_type": "display_data"
    },
    {
     "name": "stdout",
     "output_type": "stream",
     "text": [
      "Precision score for our model is 0.9764021887824897\n",
      "Recall score for our model is 0.9998248993171074\n",
      "The F-score for our model is 0.9879747382991608"
     ]
    }
   ],
   "source": [
    "#Calculate precision, recall, and accuracy\n",
    "precision = tp/(tp+fp)\n",
    "recall = tp/(tp+fn)\n",
    "\n",
    "print('Precision score for our model is {}'.format(precision))\n",
    "print('Recall score for our model is {}'.format(recall))\n",
    "print('The F-score for our model is {}'.format(2*recall*precision/(recall+precision)))"
   ]
  },
  {
   "cell_type": "code",
   "execution_count": 118,
   "id": "cc5ab794",
   "metadata": {},
   "outputs": [
    {
     "data": {
      "application/vnd.jupyter.widget-view+json": {
       "model_id": "e34e34bbb9cf4839a86ac4734d256cf4",
       "version_major": 2,
       "version_minor": 0
      },
      "text/plain": [
       "VBox()"
      ]
     },
     "metadata": {},
     "output_type": "display_data"
    },
    {
     "data": {
      "application/vnd.jupyter.widget-view+json": {
       "model_id": "",
       "version_major": 2,
       "version_minor": 0
      },
      "text/plain": [
       "FloatProgress(value=0.0, bar_style='info', description='Progress:', layout=Layout(height='25px', width='50%'),…"
      ]
     },
     "metadata": {},
     "output_type": "display_data"
    }
   ],
   "source": [
    "p_pred_labels = pred_labels.toPandas() #convert our precition dataframe from spark to pandas"
   ]
  },
  {
   "cell_type": "code",
   "execution_count": 128,
   "id": "9505ea34",
   "metadata": {},
   "outputs": [
    {
     "data": {
      "application/vnd.jupyter.widget-view+json": {
       "model_id": "f81e54c0d2f643ef8c9f69d60672d248",
       "version_major": 2,
       "version_minor": 0
      },
      "text/plain": [
       "VBox()"
      ]
     },
     "metadata": {},
     "output_type": "display_data"
    },
    {
     "data": {
      "application/vnd.jupyter.widget-view+json": {
       "model_id": "",
       "version_major": 2,
       "version_minor": 0
      },
      "text/plain": [
       "FloatProgress(value=0.0, bar_style='info', description='Progress:', layout=Layout(height='25px', width='50%'),…"
      ]
     },
     "metadata": {},
     "output_type": "display_data"
    },
    {
     "name": "stdout",
     "output_type": "stream",
     "text": [
      "[[17130     3]\n",
      " [  414     4]]"
     ]
    }
   ],
   "source": [
    "from sklearn.metrics import confusion_matrix\n",
    "\n",
    "#Confusion matrix from pandas df\n",
    "p_cf = confusion_matrix(p_pred_labels['label'], p_pred_labels['prediction'])\n",
    "\n",
    "print(p_cf)"
   ]
  },
  {
   "cell_type": "code",
   "execution_count": 132,
   "id": "dba36846",
   "metadata": {},
   "outputs": [
    {
     "data": {
      "application/vnd.jupyter.widget-view+json": {
       "model_id": "67b5753b45944bdc8e29b38c4e437ca6",
       "version_major": 2,
       "version_minor": 0
      },
      "text/plain": [
       "VBox()"
      ]
     },
     "metadata": {},
     "output_type": "display_data"
    },
    {
     "data": {
      "application/vnd.jupyter.widget-view+json": {
       "model_id": "",
       "version_major": 2,
       "version_minor": 0
      },
      "text/plain": [
       "FloatProgress(value=0.0, bar_style='info', description='Progress:', layout=Layout(height='25px', width='50%'),…"
      ]
     },
     "metadata": {},
     "output_type": "display_data"
    },
    {
     "data": {
      "image/png": "[encoded data removed]",
      "text/plain": [
       "<IPython.core.display.Image object>"
      ]
     },
     "metadata": {},
     "output_type": "display_data"
    }
   ],
   "source": [
    "import seaborn as sns\n",
    "\n",
    "plt.close()\n",
    "\n",
    "ax = sns.heatmap(p_cf, annot=False, cmap='Blues')\n",
    "\n",
    "ax.set_title('Confusion Matrix of Logistic Regression Model\\n');\n",
    "ax.set_xlabel('\\nPredicted Values')\n",
    "ax.set_ylabel('Actual Values ');\n",
    "\n",
    "## Ticket labels - List must be in alphabetical order\n",
    "ax.xaxis.set_ticklabels(['False','True'])\n",
    "ax.yaxis.set_ticklabels(['False','True'])\n",
    "\n",
    "## Display the visualization of the Confusion Matrix.\n",
    "plt.show()\n",
    "\n",
    "%matplot plt"
   ]
  },
  {
   "cell_type": "code",
   "execution_count": null,
   "id": "292e573d",
   "metadata": {},
   "outputs": [],
   "source": []
  }
 ],
 "metadata": {
  "kernelspec": {
   "display_name": "PySpark",
   "language": "",
   "name": "pysparkkernel"
  },
  "language_info": {
   "codemirror_mode": {
    "name": "python",
    "version": 3
   },
   "mimetype": "text/x-python",
   "name": "pyspark",
   "pygments_lexer": "python3"
  }
 },
 "nbformat": 4,
 "nbformat_minor": 5
}
