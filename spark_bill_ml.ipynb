{
 "cells": [
  {
   "cell_type": "code",
   "execution_count": 1,
   "id": "7ffef1fe",
   "metadata": {},
   "outputs": [
    {
     "data": {
      "application/vnd.jupyter.widget-view+json": {
       "model_id": "cece5c67834c43aba8decdd2141402e5",
       "version_major": 2,
       "version_minor": 0
      },
      "text/plain": [
       "VBox()"
      ]
     },
     "metadata": {},
     "output_type": "display_data"
    },
    {
     "name": "stdout",
     "output_type": "stream",
     "text": [
      "Starting Spark application\n"
     ]
    },
    {
     "data": {
      "text/html": [
       "<table>\n",
       "<tr><th>ID</th><th>YARN Application ID</th><th>Kind</th><th>State</th><th>Spark UI</th><th>Driver log</th><th>Current session?</th></tr><tr><td>1</td><td>application_1638918081483_0002</td><td>pyspark</td><td>idle</td><td><a target=\"_blank\" href=\"http://ip-172-31-7-68.ec2.internal:20888/proxy/application_1638918081483_0002/\" class=\"emr-proxy-link\" emr-resource=\"j-3GG3CYKDXJW2X\n",
       "\" application-id=\"application_1638918081483_0002\">Link</a></td><td><a target=\"_blank\" href=\"http://ip-172-31-7-68.ec2.internal:8042/node/containerlogs/container_1638918081483_0002_01_000001/livy\" >Link</a></td><td>✔</td></tr></table>"
      ],
      "text/plain": [
       "<IPython.core.display.HTML object>"
      ]
     },
     "metadata": {},
     "output_type": "display_data"
    },
    {
     "data": {
      "application/vnd.jupyter.widget-view+json": {
       "model_id": "",
       "version_major": 2,
       "version_minor": 0
      },
      "text/plain": [
       "FloatProgress(value=0.0, bar_style='info', description='Progress:', layout=Layout(height='25px', width='50%'),…"
      ]
     },
     "metadata": {},
     "output_type": "display_data"
    },
    {
     "name": "stdout",
     "output_type": "stream",
     "text": [
      "SparkSession available as 'spark'.\n"
     ]
    },
    {
     "data": {
      "application/vnd.jupyter.widget-view+json": {
       "model_id": "",
       "version_major": 2,
       "version_minor": 0
      },
      "text/plain": [
       "FloatProgress(value=0.0, bar_style='info', description='Progress:', layout=Layout(height='25px', width='50%'),…"
      ]
     },
     "metadata": {},
     "output_type": "display_data"
    }
   ],
   "source": [
    "# Link to bucket: https://s3.console.aws.amazon.com/s3/buckets/macs30123-bills?region=us-east-1&tab=objects"
   ]
  },
  {
   "cell_type": "code",
   "execution_count": 2,
   "id": "7b668b81",
   "metadata": {},
   "outputs": [
    {
     "data": {
      "application/vnd.jupyter.widget-view+json": {
       "model_id": "41936386085641f4a49e5677ff3d653f",
       "version_major": 2,
       "version_minor": 0
      },
      "text/plain": [
       "VBox()"
      ]
     },
     "metadata": {},
     "output_type": "display_data"
    },
    {
     "data": {
      "application/vnd.jupyter.widget-view+json": {
       "model_id": "",
       "version_major": 2,
       "version_minor": 0
      },
      "text/plain": [
       "FloatProgress(value=0.0, bar_style='info', description='Progress:', layout=Layout(height='25px', width='50%'),…"
      ]
     },
     "metadata": {},
     "output_type": "display_data"
    },
    {
     "name": "stdout",
     "output_type": "stream",
     "text": [
      "Collecting boto3\n",
      "  Using cached https://files.pythonhosted.org/packages/98/01/5d375e08d57024c97ca177dd2a334859a9b078bd97ecec83c7a48e168529/boto3-1.20.21-py3-none-any.whl\n",
      "Collecting botocore<1.24.0,>=1.23.21 (from boto3)\n",
      "  Using cached https://files.pythonhosted.org/packages/46/82/dc4b633d37460d9c5e0f267d01af8ba99a5930c5c8b2d7458498c6faa23b/botocore-1.23.21-py3-none-any.whl\n",
      "Collecting s3transfer<0.6.0,>=0.5.0 (from boto3)\n",
      "  Using cached https://files.pythonhosted.org/packages/ab/84/fc3717a7b7f0f6bb08af593127171f08e3e0087c197922da09c01bfe7c3a/s3transfer-0.5.0-py3-none-any.whl\n",
      "Requirement already satisfied: jmespath<1.0.0,>=0.7.1 in /usr/local/lib/python3.7/site-packages (from boto3)\n",
      "Collecting urllib3<1.27,>=1.25.4 (from botocore<1.24.0,>=1.23.21->boto3)\n",
      "  Using cached https://files.pythonhosted.org/packages/af/f4/524415c0744552cce7d8bf3669af78e8a069514405ea4fcbd0cc44733744/urllib3-1.26.7-py2.py3-none-any.whl\n",
      "Collecting python-dateutil<3.0.0,>=2.1 (from botocore<1.24.0,>=1.23.21->boto3)\n",
      "  Using cached https://files.pythonhosted.org/packages/36/7a/87837f39d0296e723bb9b62bbb257d0355c7f6128853c78955f57342a56d/python_dateutil-2.8.2-py2.py3-none-any.whl\n",
      "Requirement already satisfied: six>=1.5 in /usr/local/lib/python3.7/site-packages (from python-dateutil<3.0.0,>=2.1->botocore<1.24.0,>=1.23.21->boto3)\n",
      "Installing collected packages: urllib3, python-dateutil, botocore, s3transfer, boto3\n",
      "Successfully installed boto3-1.20.21 botocore-1.23.21 python-dateutil-2.8.2 s3transfer-0.5.0 urllib3-1.26.7\n",
      "\n",
      "Collecting pandas==1.0.3\n",
      "  Using cached https://files.pythonhosted.org/packages/4a/6a/94b219b8ea0f2d580169e85ed1edc0163743f55aaeca8a44c2e8fc1e344e/pandas-1.0.3-cp37-cp37m-manylinux1_x86_64.whl\n",
      "Requirement already satisfied: pytz>=2017.2 in /usr/local/lib/python3.7/site-packages (from pandas==1.0.3)\n",
      "Requirement already satisfied: numpy>=1.13.3 in /usr/local/lib64/python3.7/site-packages (from pandas==1.0.3)\n",
      "Requirement already satisfied: python-dateutil>=2.6.1 in /mnt/tmp/1638936088505-0/lib/python3.7/site-packages (from pandas==1.0.3)\n",
      "Requirement already satisfied: six>=1.5 in /usr/local/lib/python3.7/site-packages (from python-dateutil>=2.6.1->pandas==1.0.3)\n",
      "Installing collected packages: pandas\n",
      "Successfully installed pandas-1.0.3\n",
      "\n",
      "Collecting scipy==1.4.1\n",
      "  Using cached https://files.pythonhosted.org/packages/dd/82/c1fe128f3526b128cfd185580ba40d01371c5d299fcf7f77968e22dfcc2e/scipy-1.4.1-cp37-cp37m-manylinux1_x86_64.whl\n",
      "Requirement already satisfied: numpy>=1.13.3 in /usr/local/lib64/python3.7/site-packages (from scipy==1.4.1)\n",
      "Installing collected packages: scipy\n",
      "Successfully installed scipy-1.4.1\n",
      "\n",
      "Collecting matplotlib==3.2.1\n",
      "  Using cached https://files.pythonhosted.org/packages/b2/c2/71fcf957710f3ba1f09088b35776a799ba7dd95f7c2b195ec800933b276b/matplotlib-3.2.1-cp37-cp37m-manylinux1_x86_64.whl\n",
      "Requirement already satisfied: python-dateutil>=2.1 in /mnt/tmp/1638936088505-0/lib/python3.7/site-packages (from matplotlib==3.2.1)\n",
      "Collecting pyparsing!=2.0.4,!=2.1.2,!=2.1.6,>=2.0.1 (from matplotlib==3.2.1)\n",
      "  Using cached https://files.pythonhosted.org/packages/a0/34/895006117f6fce0b4de045c87e154ee4a20c68ec0a4c9a36d900888fb6bc/pyparsing-3.0.6-py3-none-any.whl\n",
      "Collecting cycler>=0.10 (from matplotlib==3.2.1)\n",
      "  Using cached https://files.pythonhosted.org/packages/5c/f9/695d6bedebd747e5eb0fe8fad57b72fdf25411273a39791cde838d5a8f51/cycler-0.11.0-py3-none-any.whl\n",
      "Requirement already satisfied: numpy>=1.11 in /usr/local/lib64/python3.7/site-packages (from matplotlib==3.2.1)\n",
      "Collecting kiwisolver>=1.0.1 (from matplotlib==3.2.1)\n",
      "  Using cached https://files.pythonhosted.org/packages/09/6b/6e567cb2e86d4e5939a9233f8734e26021b6a9c1bc4b1edccba236a84cc2/kiwisolver-1.3.2-cp37-cp37m-manylinux_2_5_x86_64.manylinux1_x86_64.whl\n",
      "Requirement already satisfied: six>=1.5 in /usr/local/lib/python3.7/site-packages (from python-dateutil>=2.1->matplotlib==3.2.1)\n",
      "Installing collected packages: pyparsing, cycler, kiwisolver, matplotlib\n",
      "Successfully installed cycler-0.11.0 kiwisolver-1.3.2 matplotlib-3.2.1 pyparsing-3.0.6\n",
      "\n",
      "Collecting seaborn==0.10.1\n",
      "  Using cached https://files.pythonhosted.org/packages/c7/e6/54aaaafd0b87f51dfba92ba73da94151aa3bc179e5fe88fc5dfb3038e860/seaborn-0.10.1-py3-none-any.whl\n",
      "Requirement already satisfied: pandas>=0.22.0 in /mnt/tmp/1638936088505-0/lib/python3.7/site-packages (from seaborn==0.10.1)\n",
      "Requirement already satisfied: numpy>=1.13.3 in /usr/local/lib64/python3.7/site-packages (from seaborn==0.10.1)\n",
      "Requirement already satisfied: scipy>=1.0.1 in /mnt/tmp/1638936088505-0/lib/python3.7/site-packages (from seaborn==0.10.1)\n",
      "Requirement already satisfied: matplotlib>=2.1.2 in /mnt/tmp/1638936088505-0/lib/python3.7/site-packages (from seaborn==0.10.1)\n",
      "Requirement already satisfied: pytz>=2017.2 in /usr/local/lib/python3.7/site-packages (from pandas>=0.22.0->seaborn==0.10.1)\n",
      "Requirement already satisfied: python-dateutil>=2.6.1 in /mnt/tmp/1638936088505-0/lib/python3.7/site-packages (from pandas>=0.22.0->seaborn==0.10.1)\n",
      "Requirement already satisfied: pyparsing!=2.0.4,!=2.1.2,!=2.1.6,>=2.0.1 in /mnt/tmp/1638936088505-0/lib/python3.7/site-packages (from matplotlib>=2.1.2->seaborn==0.10.1)\n",
      "Requirement already satisfied: cycler>=0.10 in /mnt/tmp/1638936088505-0/lib/python3.7/site-packages (from matplotlib>=2.1.2->seaborn==0.10.1)\n",
      "Requirement already satisfied: kiwisolver>=1.0.1 in /mnt/tmp/1638936088505-0/lib/python3.7/site-packages (from matplotlib>=2.1.2->seaborn==0.10.1)\n",
      "Requirement already satisfied: six>=1.5 in /usr/local/lib/python3.7/site-packages (from python-dateutil>=2.6.1->pandas>=0.22.0->seaborn==0.10.1)\n",
      "Installing collected packages: seaborn\n",
      "Successfully installed seaborn-0.10.1\n",
      "\n",
      "Collecting dask\n",
      "  Using cached https://files.pythonhosted.org/packages/e8/3e/161fc6b630603ab69266c90238068793e5cdd38b5e41b0fcba3d09636f1d/dask-2021.11.2-py3-none-any.whl\n",
      "Collecting packaging>=20.0 (from dask)\n",
      "  Using cached https://files.pythonhosted.org/packages/05/8e/8de486cbd03baba4deef4142bd643a3e7bbe954a784dc1bb17142572d127/packaging-21.3-py3-none-any.whl\n",
      "Collecting fsspec>=0.6.0 (from dask)\n",
      "  Using cached https://files.pythonhosted.org/packages/97/76/8f9921e10d9cbdf4790d4fb7a9883f3d636926e8b0564a4983ac15c167c9/fsspec-2021.11.1-py3-none-any.whl\n",
      "Requirement already satisfied: pyyaml in /usr/local/lib64/python3.7/site-packages (from dask)\n",
      "Collecting partd>=0.3.10 (from dask)\n",
      "  Using cached https://files.pythonhosted.org/packages/41/94/360258a68b55f47859d72b2d0b2b3cfe0ca4fbbcb81b78812bd00ae86b7c/partd-1.2.0-py3-none-any.whl\n",
      "Collecting toolz>=0.8.2 (from dask)\n",
      "  Using cached https://files.pythonhosted.org/packages/b5/f1/3df506b493736e3ee11fc1a3c2de8014a55f025d830a71bb499acc049a2c/toolz-0.11.2-py3-none-any.whl\n",
      "Collecting cloudpickle>=1.1.1 (from dask)\n",
      "  Using cached https://files.pythonhosted.org/packages/07/3c/bf72ebd3e78eb1ef773f4f0650ecdc29c6454aeafe9c08f6da3f227dd2bc/cloudpickle-2.0.0-py3-none-any.whl\n",
      "Requirement already satisfied: pyparsing!=3.0.5,>=2.0.2 in /mnt/tmp/1638936088505-0/lib/python3.7/site-packages (from packaging>=20.0->dask)\n",
      "Collecting locket (from partd>=0.3.10->dask)\n",
      "  Using cached https://files.pythonhosted.org/packages/50/b8/e789e45b9b9c2db75e9d9e6ceb022c8d1d7e49b2c085ce8c05600f90a96b/locket-0.2.1-py2.py3-none-any.whl\n",
      "Installing collected packages: packaging, fsspec, toolz, locket, partd, cloudpickle, dask\n",
      "Successfully installed cloudpickle-2.0.0 dask-2021.11.2 fsspec-2021.11.1 locket-0.2.1 packaging-21.3 partd-1.2.0 toolz-0.11.2\n",
      "\n",
      "Collecting textblob\n",
      "  Using cached https://files.pythonhosted.org/packages/44/a4/595b66c1342a830f4ff476307c4367541cce3e361b9ee96d22a5eeeddd1d/textblob-0.17.1-py2.py3-none-any.whl\n",
      "Requirement already satisfied: nltk>=3.1; python_version >= \"3\" in /usr/local/lib/python3.7/site-packages (from textblob)\n",
      "Requirement already satisfied: click in /usr/local/lib64/python3.7/site-packages (from nltk>=3.1; python_version >= \"3\"->textblob)\n",
      "Requirement already satisfied: joblib in /usr/local/lib64/python3.7/site-packages (from nltk>=3.1; python_version >= \"3\"->textblob)\n",
      "Requirement already satisfied: regex in /usr/local/lib64/python3.7/site-packages (from nltk>=3.1; python_version >= \"3\"->textblob)\n",
      "Requirement already satisfied: tqdm in /usr/local/lib64/python3.7/site-packages (from nltk>=3.1; python_version >= \"3\"->textblob)\n",
      "Installing collected packages: textblob\n",
      "Successfully installed textblob-0.17.1\n",
      "\n",
      "You are using pip version 9.0.1, however version 21.3.1 is available.\n",
      "You should consider upgrading via the 'pip install --upgrade pip' command.\n",
      "\n",
      "You are using pip version 9.0.1, however version 21.3.1 is available.\n",
      "You should consider upgrading via the 'pip install --upgrade pip' command.\n",
      "\n",
      "You are using pip version 9.0.1, however version 21.3.1 is available.\n",
      "You should consider upgrading via the 'pip install --upgrade pip' command.\n",
      "\n",
      "You are using pip version 9.0.1, however version 21.3.1 is available.\n",
      "You should consider upgrading via the 'pip install --upgrade pip' command.\n",
      "\n",
      "You are using pip version 9.0.1, however version 21.3.1 is available.\n",
      "You should consider upgrading via the 'pip install --upgrade pip' command.\n",
      "\n",
      "You are using pip version 9.0.1, however version 21.3.1 is available.\n",
      "You should consider upgrading via the 'pip install --upgrade pip' command.\n",
      "\n",
      "You are using pip version 9.0.1, however version 21.3.1 is available.\n",
      "You should consider upgrading via the 'pip install --upgrade pip' command."
     ]
    }
   ],
   "source": [
    "#install necessary packages\n",
    "sc.install_pypi_package(\"boto3\") # use boto3 to see book data in S3 bucket\n",
    "sc.install_pypi_package(\"pandas==1.0.3\")\n",
    "sc.install_pypi_package(\"scipy==1.4.1\")\n",
    "sc.install_pypi_package(\"matplotlib==3.2.1\")\n",
    "sc.install_pypi_package(\"seaborn==0.10.1\")\n",
    "sc.install_pypi_package(\"dask\") #install dask as well\n",
    "sc.install_pypi_package(\"textblob\") #this is used to conduct sentiment analysis for added feature columns"
   ]
  },
  {
   "cell_type": "code",
   "execution_count": 3,
   "id": "a3c60fcb",
   "metadata": {},
   "outputs": [
    {
     "data": {
      "application/vnd.jupyter.widget-view+json": {
       "model_id": "dea63a55ff9948f0aefd254c4d40ddb8",
       "version_major": 2,
       "version_minor": 0
      },
      "text/plain": [
       "VBox()"
      ]
     },
     "metadata": {},
     "output_type": "display_data"
    },
    {
     "data": {
      "application/vnd.jupyter.widget-view+json": {
       "model_id": "",
       "version_major": 2,
       "version_minor": 0
      },
      "text/plain": [
       "FloatProgress(value=0.0, bar_style='info', description='Progress:', layout=Layout(height='25px', width='50%'),…"
      ]
     },
     "metadata": {},
     "output_type": "display_data"
    }
   ],
   "source": [
    "import boto3\n",
    "import pandas as pd\n",
    "import numpy as np\n",
    "import matplotlib.pyplot as plt\n",
    "import seaborn as sns\n",
    "from dask import dataframe as dd\n",
    "from textblob import TextBlob\n",
    "from pyspark.ml.classification import LogisticRegression\n",
    "from pyspark.ml.evaluation import RegressionEvaluator\n",
    "from pyspark.sql.functions import udf\n",
    "from pyspark.sql.types import *\n",
    "from io import StringIO"
   ]
  },
  {
   "cell_type": "code",
   "execution_count": 4,
   "id": "ee092939",
   "metadata": {},
   "outputs": [
    {
     "data": {
      "application/vnd.jupyter.widget-view+json": {
       "model_id": "091256aac4b2479ca2d96f459e20ad98",
       "version_major": 2,
       "version_minor": 0
      },
      "text/plain": [
       "VBox()"
      ]
     },
     "metadata": {},
     "output_type": "display_data"
    },
    {
     "data": {
      "application/vnd.jupyter.widget-view+json": {
       "model_id": "",
       "version_major": 2,
       "version_minor": 0
      },
      "text/plain": [
       "FloatProgress(value=0.0, bar_style='info', description='Progress:', layout=Layout(height='25px', width='50%'),…"
      ]
     },
     "metadata": {},
     "output_type": "display_data"
    }
   ],
   "source": [
    "s3 = boto3.client('s3', region_name='us-east-1',)\n",
    "\n",
    "response = s3.list_objects(Bucket='macs30123-bills')"
   ]
  },
  {
   "cell_type": "code",
   "execution_count": 5,
   "id": "daaa2c66",
   "metadata": {},
   "outputs": [
    {
     "data": {
      "application/vnd.jupyter.widget-view+json": {
       "model_id": "a2ddc09c66c141099f38d09b0f60988a",
       "version_major": 2,
       "version_minor": 0
      },
      "text/plain": [
       "VBox()"
      ]
     },
     "metadata": {},
     "output_type": "display_data"
    },
    {
     "data": {
      "application/vnd.jupyter.widget-view+json": {
       "model_id": "",
       "version_major": 2,
       "version_minor": 0
      },
      "text/plain": [
       "FloatProgress(value=0.0, bar_style='info', description='Progress:', layout=Layout(height='25px', width='50%'),…"
      ]
     },
     "metadata": {},
     "output_type": "display_data"
    }
   ],
   "source": [
    "data_congress = s3.get_object(Bucket=\"macs30123-bills\", Key=\"data_congress_breakdown.csv\")\n",
    "data_congress = data_congress['Body'].read()\n",
    "data_congress = data_congress.decode('utf-8')\n",
    "\n",
    "df_congress = pd.read_csv(StringIO(data_congress))"
   ]
  },
  {
   "cell_type": "code",
   "execution_count": 6,
   "id": "3cb86974",
   "metadata": {},
   "outputs": [
    {
     "data": {
      "application/vnd.jupyter.widget-view+json": {
       "model_id": "3329f972b220495297454a4d59d8abb7",
       "version_major": 2,
       "version_minor": 0
      },
      "text/plain": [
       "VBox()"
      ]
     },
     "metadata": {},
     "output_type": "display_data"
    },
    {
     "data": {
      "application/vnd.jupyter.widget-view+json": {
       "model_id": "",
       "version_major": 2,
       "version_minor": 0
      },
      "text/plain": [
       "FloatProgress(value=0.0, bar_style='info', description='Progress:', layout=Layout(height='25px', width='50%'),…"
      ]
     },
     "metadata": {},
     "output_type": "display_data"
    }
   ],
   "source": [
    "df_congress = df_congress[['Congress (years)', '# of House Seats', 'Democrats', 'Republicans',\n",
    "       'Other', '% Democrat', '% Republican']]"
   ]
  },
  {
   "cell_type": "code",
   "execution_count": 8,
   "id": "7cb03dc7",
   "metadata": {},
   "outputs": [
    {
     "data": {
      "application/vnd.jupyter.widget-view+json": {
       "model_id": "7f932cca5408424b838182f5124adabb",
       "version_major": 2,
       "version_minor": 0
      },
      "text/plain": [
       "VBox()"
      ]
     },
     "metadata": {},
     "output_type": "display_data"
    },
    {
     "data": {
      "application/vnd.jupyter.widget-view+json": {
       "model_id": "",
       "version_major": 2,
       "version_minor": 0
      },
      "text/plain": [
       "FloatProgress(value=0.0, bar_style='info', description='Progress:', layout=Layout(height='25px', width='50%'),…"
      ]
     },
     "metadata": {},
     "output_type": "display_data"
    },
    {
     "name": "stdout",
     "output_type": "stream",
     "text": [
      "     Congress (years)  # of House Seats  ...  % Democrat  % Republican\n",
      "0   102 (1991 - 1993)             435.0  ...   61.379310      0.383908\n",
      "1   103 (1993 - 1995)             435.0  ...   59.310345      0.404598\n",
      "2   104 (1995 - 1997)             435.0  ...   46.896552      0.528736\n",
      "3   105 (1997 - 1999)             435.0  ...   47.586207      0.519540\n",
      "4   106 (1999 - 2001)             435.0  ...   48.505747      0.512644\n",
      "5   107 (2001 - 2003)             435.0  ...   48.735632      0.508046\n",
      "6   108 (2003 - 2005)             435.0  ...   47.126437      0.526437\n",
      "7   109 (2005 - 2007)             435.0  ...   46.206897      0.535632\n",
      "8   110 (2007 - 2009)             435.0  ...   53.563218      0.464368\n",
      "9   111 (2009 - 2011)             435.0  ...   59.080460      0.409195\n",
      "10  112 (2011 - 2013)             435.0  ...   44.367816      0.556322\n",
      "11  113 (2013 - 2015)             435.0  ...   46.206897      0.537931\n",
      "12  114 (2015 - 2017)             435.0  ...   43.218391      0.567816\n",
      "13  115 (2017 - 2019)             435.0  ...   44.597701      0.554023\n",
      "14  116 (2019 - 2021)             435.0  ...   54.022989      0.457471\n",
      "15    117 (2021–2023)             435.0  ...   51.034483      0.487356\n",
      "16                NaN               NaN  ...         NaN           NaN\n",
      "17                NaN               NaN  ...         NaN           NaN\n",
      "\n",
      "[18 rows x 7 columns]"
     ]
    }
   ],
   "source": [
    "df_congress"
   ]
  },
  {
   "cell_type": "code",
   "execution_count": 9,
   "id": "88eeefd6",
   "metadata": {},
   "outputs": [
    {
     "data": {
      "application/vnd.jupyter.widget-view+json": {
       "model_id": "6b4f8ca1c7444723bb755ac920b05a8d",
       "version_major": 2,
       "version_minor": 0
      },
      "text/plain": [
       "VBox()"
      ]
     },
     "metadata": {},
     "output_type": "display_data"
    },
    {
     "data": {
      "application/vnd.jupyter.widget-view+json": {
       "model_id": "",
       "version_major": 2,
       "version_minor": 0
      },
      "text/plain": [
       "FloatProgress(value=0.0, bar_style='info', description='Progress:', layout=Layout(height='25px', width='50%'),…"
      ]
     },
     "metadata": {},
     "output_type": "display_data"
    }
   ],
   "source": [
    "df_congress['% Republican'] = df_congress['% Republican'] * 100"
   ]
  },
  {
   "cell_type": "code",
   "execution_count": 10,
   "id": "eae03bc6",
   "metadata": {},
   "outputs": [
    {
     "data": {
      "application/vnd.jupyter.widget-view+json": {
       "model_id": "84c927b0e01d4b51a84fb2d088e3f1dc",
       "version_major": 2,
       "version_minor": 0
      },
      "text/plain": [
       "VBox()"
      ]
     },
     "metadata": {},
     "output_type": "display_data"
    },
    {
     "data": {
      "application/vnd.jupyter.widget-view+json": {
       "model_id": "",
       "version_major": 2,
       "version_minor": 0
      },
      "text/plain": [
       "FloatProgress(value=0.0, bar_style='info', description='Progress:', layout=Layout(height='25px', width='50%'),…"
      ]
     },
     "metadata": {},
     "output_type": "display_data"
    }
   ],
   "source": [
    "df_congress['Congress (years)'] = df_congress['Congress (years)'].astype(str)"
   ]
  },
  {
   "cell_type": "code",
   "execution_count": 11,
   "id": "2de5deac",
   "metadata": {},
   "outputs": [
    {
     "data": {
      "application/vnd.jupyter.widget-view+json": {
       "model_id": "17c0ef904ad840189dd10c15a7916a92",
       "version_major": 2,
       "version_minor": 0
      },
      "text/plain": [
       "VBox()"
      ]
     },
     "metadata": {},
     "output_type": "display_data"
    },
    {
     "data": {
      "application/vnd.jupyter.widget-view+json": {
       "model_id": "",
       "version_major": 2,
       "version_minor": 0
      },
      "text/plain": [
       "FloatProgress(value=0.0, bar_style='info', description='Progress:', layout=Layout(height='25px', width='50%'),…"
      ]
     },
     "metadata": {},
     "output_type": "display_data"
    }
   ],
   "source": [
    "df_congress['congress'] = df_congress['Congress (years)'].apply(lambda txt: txt.split(' ', 1)[0])"
   ]
  },
  {
   "cell_type": "code",
   "execution_count": 12,
   "id": "4058b331",
   "metadata": {},
   "outputs": [
    {
     "data": {
      "application/vnd.jupyter.widget-view+json": {
       "model_id": "a736d066420e4228b2e3497c8473ba5e",
       "version_major": 2,
       "version_minor": 0
      },
      "text/plain": [
       "VBox()"
      ]
     },
     "metadata": {},
     "output_type": "display_data"
    },
    {
     "data": {
      "application/vnd.jupyter.widget-view+json": {
       "model_id": "",
       "version_major": 2,
       "version_minor": 0
      },
      "text/plain": [
       "FloatProgress(value=0.0, bar_style='info', description='Progress:', layout=Layout(height='25px', width='50%'),…"
      ]
     },
     "metadata": {},
     "output_type": "display_data"
    },
    {
     "data": {
      "image/png": "[encoded data removed]",
      "text/plain": [
       "<IPython.core.display.Image object>"
      ]
     },
     "metadata": {},
     "output_type": "display_data"
    }
   ],
   "source": [
    "#View congress party makeup over time\n",
    "plt.close() # Close previous plots; otherwise, will just overwrite and display again\n",
    "\n",
    "sns.lineplot(x='congress', y='% Democrat', data=df_congress)\n",
    "sns.lineplot(x='congress', y='% Republican', data=df_congress)\n",
    "plt.title('Breakdown of Congress by Party Makeup over Time')\n",
    "plt.xlabel('Congress Session')\n",
    "plt.ylabel('Percent of Congress')\n",
    "plt.legend(['Republican', 'Democrat'])\n",
    "%matplot plt"
   ]
  },
  {
   "cell_type": "code",
   "execution_count": 14,
   "id": "729bf696",
   "metadata": {},
   "outputs": [
    {
     "data": {
      "application/vnd.jupyter.widget-view+json": {
       "model_id": "f3d9dd17fd0840cca688f2d2013f6f19",
       "version_major": 2,
       "version_minor": 0
      },
      "text/plain": [
       "VBox()"
      ]
     },
     "metadata": {},
     "output_type": "display_data"
    },
    {
     "data": {
      "application/vnd.jupyter.widget-view+json": {
       "model_id": "",
       "version_major": 2,
       "version_minor": 0
      },
      "text/plain": [
       "FloatProgress(value=0.0, bar_style='info', description='Progress:', layout=Layout(height='25px', width='50%'),…"
      ]
     },
     "metadata": {},
     "output_type": "display_data"
    }
   ],
   "source": [
    "#read in the bills dataset from our s3 bucket\n",
    "df_bills = s3.get_object(Bucket=\"macs30123-bills\", Key=\"data_bills.csv\")\n",
    "df_bills = df_bills['Body'].read()\n",
    "df_bills = df_bills.decode('utf-8')\n",
    "\n",
    "df_bills = pd.read_csv(StringIO(df_bills))"
   ]
  },
  {
   "cell_type": "code",
   "execution_count": 81,
   "id": "4470a6d1",
   "metadata": {},
   "outputs": [
    {
     "data": {
      "application/vnd.jupyter.widget-view+json": {
       "model_id": "682acaa1e9cf4461aac04eb0d2c8fc03",
       "version_major": 2,
       "version_minor": 0
      },
      "text/plain": [
       "VBox()"
      ]
     },
     "metadata": {},
     "output_type": "display_data"
    },
    {
     "data": {
      "application/vnd.jupyter.widget-view+json": {
       "model_id": "",
       "version_major": 2,
       "version_minor": 0
      },
      "text/plain": [
       "FloatProgress(value=0.0, bar_style='info', description='Progress:', layout=Layout(height='25px', width='50%'),…"
      ]
     },
     "metadata": {},
     "output_type": "display_data"
    }
   ],
   "source": [
    "df_congress = df_congress.dropna()\n",
    "df_congress['congress'] = df_congress['congress'].astype(int)\n",
    "df = df_bills.merge(df_congress, left_on='session', right_on='congress',)"
   ]
  },
  {
   "cell_type": "code",
   "execution_count": 82,
   "id": "62c4300a",
   "metadata": {},
   "outputs": [
    {
     "data": {
      "application/vnd.jupyter.widget-view+json": {
       "model_id": "73dacfde4ed6450a8f5f1e780bdc3f82",
       "version_major": 2,
       "version_minor": 0
      },
      "text/plain": [
       "VBox()"
      ]
     },
     "metadata": {},
     "output_type": "display_data"
    },
    {
     "data": {
      "application/vnd.jupyter.widget-view+json": {
       "model_id": "",
       "version_major": 2,
       "version_minor": 0
      },
      "text/plain": [
       "FloatProgress(value=0.0, bar_style='info', description='Progress:', layout=Layout(height='25px', width='50%'),…"
      ]
     },
     "metadata": {},
     "output_type": "display_data"
    }
   ],
   "source": [
    "df = df[df['type'] != 'hres']\n",
    "df = df[df['type'] != 'sconres'] #remove hres and sconres type bills from our dataset"
   ]
  },
  {
   "cell_type": "code",
   "execution_count": 83,
   "id": "92f0db86",
   "metadata": {},
   "outputs": [
    {
     "data": {
      "application/vnd.jupyter.widget-view+json": {
       "model_id": "f655581730194f05a73e883dfa78b9b3",
       "version_major": 2,
       "version_minor": 0
      },
      "text/plain": [
       "VBox()"
      ]
     },
     "metadata": {},
     "output_type": "display_data"
    },
    {
     "data": {
      "application/vnd.jupyter.widget-view+json": {
       "model_id": "",
       "version_major": 2,
       "version_minor": 0
      },
      "text/plain": [
       "FloatProgress(value=0.0, bar_style='info', description='Progress:', layout=Layout(height='25px', width='50%'),…"
      ]
     },
     "metadata": {},
     "output_type": "display_data"
    },
    {
     "name": "stdout",
     "output_type": "stream",
     "text": [
      "array(['hr', 's'], dtype=object)"
     ]
    }
   ],
   "source": [
    "df['type'].unique() #verify that hres and sconres type bills have been removed"
   ]
  },
  {
   "cell_type": "markdown",
   "id": "7f1c4f22",
   "metadata": {},
   "source": [
    "Create our binary outcome variable based on whether or not bills have passed through Congress."
   ]
  },
  {
   "cell_type": "code",
   "execution_count": 84,
   "id": "cc5045ee",
   "metadata": {},
   "outputs": [
    {
     "data": {
      "application/vnd.jupyter.widget-view+json": {
       "model_id": "8cfb748bbfc1448ba5e163de29e63e2a",
       "version_major": 2,
       "version_minor": 0
      },
      "text/plain": [
       "VBox()"
      ]
     },
     "metadata": {},
     "output_type": "display_data"
    },
    {
     "data": {
      "application/vnd.jupyter.widget-view+json": {
       "model_id": "",
       "version_major": 2,
       "version_minor": 0
      },
      "text/plain": [
       "FloatProgress(value=0.0, bar_style='info', description='Progress:', layout=Layout(height='25px', width='50%'),…"
      ]
     },
     "metadata": {},
     "output_type": "display_data"
    }
   ],
   "source": [
    "df['pass'] = np.where(df['outcome'] == 'enr', 1, 0) #bills with an outcome of enr is considered a pass"
   ]
  },
  {
   "cell_type": "code",
   "execution_count": 85,
   "id": "62765119",
   "metadata": {},
   "outputs": [
    {
     "data": {
      "application/vnd.jupyter.widget-view+json": {
       "model_id": "b8b7beaa2f1f4e12b3bbf86abc113805",
       "version_major": 2,
       "version_minor": 0
      },
      "text/plain": [
       "VBox()"
      ]
     },
     "metadata": {},
     "output_type": "display_data"
    },
    {
     "data": {
      "application/vnd.jupyter.widget-view+json": {
       "model_id": "",
       "version_major": 2,
       "version_minor": 0
      },
      "text/plain": [
       "FloatProgress(value=0.0, bar_style='info', description='Progress:', layout=Layout(height='25px', width='50%'),…"
      ]
     },
     "metadata": {},
     "output_type": "display_data"
    }
   ],
   "source": [
    "df = df.drop(['Congress (years)', '# of House Seats', 'Democrats', 'Republicans', 'Other'], axis=1)"
   ]
  },
  {
   "cell_type": "code",
   "execution_count": 86,
   "id": "1c12351d",
   "metadata": {},
   "outputs": [
    {
     "data": {
      "application/vnd.jupyter.widget-view+json": {
       "model_id": "0e1a3eca5d2648cf912207bc15c7a957",
       "version_major": 2,
       "version_minor": 0
      },
      "text/plain": [
       "VBox()"
      ]
     },
     "metadata": {},
     "output_type": "display_data"
    },
    {
     "data": {
      "application/vnd.jupyter.widget-view+json": {
       "model_id": "",
       "version_major": 2,
       "version_minor": 0
      },
      "text/plain": [
       "FloatProgress(value=0.0, bar_style='info', description='Progress:', layout=Layout(height='25px', width='50%'),…"
      ]
     },
     "metadata": {},
     "output_type": "display_data"
    }
   ],
   "source": [
    "df['Unnamed: 0'] = df['Unnamed: 0'].astype(str)"
   ]
  },
  {
   "cell_type": "code",
   "execution_count": 87,
   "id": "b8ca55eb",
   "metadata": {},
   "outputs": [
    {
     "data": {
      "application/vnd.jupyter.widget-view+json": {
       "model_id": "6edc481e89944b41ab2dcb6123775833",
       "version_major": 2,
       "version_minor": 0
      },
      "text/plain": [
       "VBox()"
      ]
     },
     "metadata": {},
     "output_type": "display_data"
    },
    {
     "data": {
      "application/vnd.jupyter.widget-view+json": {
       "model_id": "",
       "version_major": 2,
       "version_minor": 0
      },
      "text/plain": [
       "FloatProgress(value=0.0, bar_style='info', description='Progress:', layout=Layout(height='25px', width='50%'),…"
      ]
     },
     "metadata": {},
     "output_type": "display_data"
    }
   ],
   "source": [
    "df['outcome'] = df['outcome'].astype(str)"
   ]
  },
  {
   "cell_type": "code",
   "execution_count": 88,
   "id": "62ad6e49",
   "metadata": {},
   "outputs": [
    {
     "data": {
      "application/vnd.jupyter.widget-view+json": {
       "model_id": "717add9cf8d04e5f9d05c5389378dd47",
       "version_major": 2,
       "version_minor": 0
      },
      "text/plain": [
       "VBox()"
      ]
     },
     "metadata": {},
     "output_type": "display_data"
    },
    {
     "data": {
      "application/vnd.jupyter.widget-view+json": {
       "model_id": "",
       "version_major": 2,
       "version_minor": 0
      },
      "text/plain": [
       "FloatProgress(value=0.0, bar_style='info', description='Progress:', layout=Layout(height='25px', width='50%'),…"
      ]
     },
     "metadata": {},
     "output_type": "display_data"
    }
   ],
   "source": [
    "#convert our merged dataset that contains all our data into a Spark Dataframe\n",
    "from pyspark.sql import SparkSession\n",
    "\n",
    "#create a spark session\n",
    "sparksesh = SparkSession.builder.master('local[1]').appName('SparkByExamples.com').getOrCreate()\n",
    "\n",
    "sdf = sparksesh.createDataFrame(df)"
   ]
  },
  {
   "cell_type": "code",
   "execution_count": 90,
   "id": "b79bac3a",
   "metadata": {},
   "outputs": [
    {
     "data": {
      "application/vnd.jupyter.widget-view+json": {
       "model_id": "85978c6cea684736955a6b1a686bf2f8",
       "version_major": 2,
       "version_minor": 0
      },
      "text/plain": [
       "VBox()"
      ]
     },
     "metadata": {},
     "output_type": "display_data"
    },
    {
     "data": {
      "application/vnd.jupyter.widget-view+json": {
       "model_id": "",
       "version_major": 2,
       "version_minor": 0
      },
      "text/plain": [
       "FloatProgress(value=0.0, bar_style='info', description='Progress:', layout=Layout(height='25px', width='50%'),…"
      ]
     },
     "metadata": {},
     "output_type": "display_data"
    },
    {
     "name": "stdout",
     "output_type": "stream",
     "text": [
      "+-----------------+-------+----+-------+-------------+-------------+----------+-------------------+--------------------+-----------+------------+--------+----+\n",
      "|       Unnamed: 0|session|type|outcome|sponsor_count|section_count|word_count|       subjectivity|            polarity| % Democrat|% Republican|congress|pass|\n",
      "+-----------------+-------+----+-------+-------------+-------------+----------+-------------------+--------------------+-----------+------------+--------+----+\n",
      "|BILLS-113hr1000ih|    113|  hr|     ih|            1|           10|      5828| 0.3655130309870722| 0.06525710181466382|46.20689655|  53.7931034|     113|   0|\n",
      "|BILLS-113hr1001ih|    113|  hr|     ih|            3|            1|       482| 0.4160595238095238| 0.08928273809523811|46.20689655|  53.7931034|     113|   0|\n",
      "|BILLS-113hr1002ih|    113|  hr|     ih|            8|            4|       914| 0.7384660421545669|  0.3741412958626073|46.20689655|  53.7931034|     113|   0|\n",
      "|BILLS-113hr1003ih|    113|  hr|     ih|            5|            1|       304|  0.448529411764706|-0.03186274509803...|46.20689655|  53.7931034|     113|   0|\n",
      "|BILLS-113hr1004ih|    113|  hr|     ih|            5|            5|      2407|0.28045944940476186| 0.08803013392857144|46.20689655|  53.7931034|     113|   0|\n",
      "|BILLS-113hr1005ih|    113|  hr|     ih|            4|            3|       156|0.24940476190476196| 0.03273809523809524|46.20689655|  53.7931034|     113|   0|\n",
      "|BILLS-113hr1006ih|    113|  hr|     ih|            2|            2|       359|             0.3925| 0.16583333333333333|46.20689655|  53.7931034|     113|   0|\n",
      "|BILLS-113hr1007ih|    113|  hr|     ih|            2|            3|       624| 0.4836950146627567| 0.05337732160312806|46.20689655|  53.7931034|     113|   0|\n",
      "|BILLS-113hr1008ih|    113|  hr|     ih|           44|           10|      2051| 0.3813060385941737|  0.2408455621591215|46.20689655|  53.7931034|     113|   0|\n",
      "|BILLS-113hr1009ih|    113|  hr|     ih|           13|            3|       813| 0.3778756957328386|0.014955679241393524|46.20689655|  53.7931034|     113|   0|\n",
      "| BILLS-113hr100ih|    113|  hr|     ih|            8|           23|      5638| 0.4959002086890532| 0.11747249098842727|46.20689655|  53.7931034|     113|   0|\n",
      "|BILLS-113hr1010ih|    113|  hr|     ih|          132|            2|       745| 0.3617676767676768| 0.13858585858585856|46.20689655|  53.7931034|     113|   0|\n",
      "|BILLS-113hr1011ih|    113|  hr|     ih|            4|            1|       117| 0.3525252525252525| 0.09612794612794613|46.20689655|  53.7931034|     113|   0|\n",
      "|BILLS-113hr1012ih|    113|  hr|     ih|            6|            7|      2750| 0.2723322905804658| 0.03734358706986445|46.20689655|  53.7931034|     113|   0|\n",
      "|BILLS-113hr1013ih|    113|  hr|     ih|            2|            2|       303| 0.2858333333333333|-0.01083333333333333|46.20689655|  53.7931034|     113|   0|\n",
      "|BILLS-113hr1014ih|    113|  hr|     ih|            1|            1|       145|0.14265734265734267|-0.04463869463869463|46.20689655|  53.7931034|     113|   0|\n",
      "|BILLS-113hr1015ih|    113|  hr|     ih|            2|            4|       907|0.28556033168709216|-0.01603713188220...|46.20689655|  53.7931034|     113|   0|\n",
      "|BILLS-113hr1016ih|    113|  hr|     ih|            3|            3|       639| 0.4267813852813851| 0.08960822510822512|46.20689655|  53.7931034|     113|   0|\n",
      "|BILLS-113hr1017ih|    113|  hr|     ih|            1|            3|       306| 0.4024844720496894|0.036594202898550726|46.20689655|  53.7931034|     113|   0|\n",
      "|BILLS-113hr1018ih|    113|  hr|     ih|            6|            1|       465| 0.4905714285714286| 0.20904761904761904|46.20689655|  53.7931034|     113|   0|\n",
      "+-----------------+-------+----+-------+-------------+-------------+----------+-------------------+--------------------+-----------+------------+--------+----+\n",
      "only showing top 20 rows"
     ]
    }
   ],
   "source": [
    "#view our newly created Spark Dataframe\n",
    "sdf.show()"
   ]
  },
  {
   "cell_type": "code",
   "execution_count": 96,
   "id": "0db6d355",
   "metadata": {},
   "outputs": [
    {
     "data": {
      "application/vnd.jupyter.widget-view+json": {
       "model_id": "bf196b1c09b642eb9f249591d23ba2ef",
       "version_major": 2,
       "version_minor": 0
      },
      "text/plain": [
       "VBox()"
      ]
     },
     "metadata": {},
     "output_type": "display_data"
    },
    {
     "data": {
      "application/vnd.jupyter.widget-view+json": {
       "model_id": "",
       "version_major": 2,
       "version_minor": 0
      },
      "text/plain": [
       "FloatProgress(value=0.0, bar_style='info', description='Progress:', layout=Layout(height='25px', width='50%'),…"
      ]
     },
     "metadata": {},
     "output_type": "display_data"
    },
    {
     "name": "stdout",
     "output_type": "stream",
     "text": [
      "+-----------------+-------+----+-------+-------------+-------------+----------+-------------------+--------------------+-----------+------------+--------+----+--------------------+\n",
      "|       Unnamed: 0|session|type|outcome|sponsor_count|section_count|word_count|       subjectivity|            polarity| % Democrat|% Republican|congress|pass|            features|\n",
      "+-----------------+-------+----+-------+-------------+-------------+----------+-------------------+--------------------+-----------+------------+--------+----+--------------------+\n",
      "|BILLS-113hr1000ih|    113|  hr|     ih|            1|           10|      5828| 0.3655130309870722| 0.06525710181466382|46.20689655|  53.7931034|     113|   0|[1.0,10.0,5828.0,...|\n",
      "|BILLS-113hr1001ih|    113|  hr|     ih|            3|            1|       482| 0.4160595238095238| 0.08928273809523811|46.20689655|  53.7931034|     113|   0|[3.0,1.0,482.0,0....|\n",
      "|BILLS-113hr1002ih|    113|  hr|     ih|            8|            4|       914| 0.7384660421545669|  0.3741412958626073|46.20689655|  53.7931034|     113|   0|[8.0,4.0,914.0,0....|\n",
      "|BILLS-113hr1003ih|    113|  hr|     ih|            5|            1|       304|  0.448529411764706|-0.03186274509803...|46.20689655|  53.7931034|     113|   0|[5.0,1.0,304.0,0....|\n",
      "|BILLS-113hr1004ih|    113|  hr|     ih|            5|            5|      2407|0.28045944940476186| 0.08803013392857144|46.20689655|  53.7931034|     113|   0|[5.0,5.0,2407.0,0...|\n",
      "|BILLS-113hr1005ih|    113|  hr|     ih|            4|            3|       156|0.24940476190476196| 0.03273809523809524|46.20689655|  53.7931034|     113|   0|[4.0,3.0,156.0,0....|\n",
      "|BILLS-113hr1006ih|    113|  hr|     ih|            2|            2|       359|             0.3925| 0.16583333333333333|46.20689655|  53.7931034|     113|   0|[2.0,2.0,359.0,0....|\n",
      "|BILLS-113hr1007ih|    113|  hr|     ih|            2|            3|       624| 0.4836950146627567| 0.05337732160312806|46.20689655|  53.7931034|     113|   0|[2.0,3.0,624.0,0....|\n",
      "|BILLS-113hr1008ih|    113|  hr|     ih|           44|           10|      2051| 0.3813060385941737|  0.2408455621591215|46.20689655|  53.7931034|     113|   0|[44.0,10.0,2051.0...|\n",
      "|BILLS-113hr1009ih|    113|  hr|     ih|           13|            3|       813| 0.3778756957328386|0.014955679241393524|46.20689655|  53.7931034|     113|   0|[13.0,3.0,813.0,0...|\n",
      "| BILLS-113hr100ih|    113|  hr|     ih|            8|           23|      5638| 0.4959002086890532| 0.11747249098842727|46.20689655|  53.7931034|     113|   0|[8.0,23.0,5638.0,...|\n",
      "|BILLS-113hr1010ih|    113|  hr|     ih|          132|            2|       745| 0.3617676767676768| 0.13858585858585856|46.20689655|  53.7931034|     113|   0|[132.0,2.0,745.0,...|\n",
      "|BILLS-113hr1011ih|    113|  hr|     ih|            4|            1|       117| 0.3525252525252525| 0.09612794612794613|46.20689655|  53.7931034|     113|   0|[4.0,1.0,117.0,0....|\n",
      "|BILLS-113hr1012ih|    113|  hr|     ih|            6|            7|      2750| 0.2723322905804658| 0.03734358706986445|46.20689655|  53.7931034|     113|   0|[6.0,7.0,2750.0,0...|\n",
      "|BILLS-113hr1013ih|    113|  hr|     ih|            2|            2|       303| 0.2858333333333333|-0.01083333333333333|46.20689655|  53.7931034|     113|   0|[2.0,2.0,303.0,0....|\n",
      "|BILLS-113hr1014ih|    113|  hr|     ih|            1|            1|       145|0.14265734265734267|-0.04463869463869463|46.20689655|  53.7931034|     113|   0|[1.0,1.0,145.0,0....|\n",
      "|BILLS-113hr1015ih|    113|  hr|     ih|            2|            4|       907|0.28556033168709216|-0.01603713188220...|46.20689655|  53.7931034|     113|   0|[2.0,4.0,907.0,0....|\n",
      "|BILLS-113hr1016ih|    113|  hr|     ih|            3|            3|       639| 0.4267813852813851| 0.08960822510822512|46.20689655|  53.7931034|     113|   0|[3.0,3.0,639.0,0....|\n",
      "|BILLS-113hr1017ih|    113|  hr|     ih|            1|            3|       306| 0.4024844720496894|0.036594202898550726|46.20689655|  53.7931034|     113|   0|[1.0,3.0,306.0,0....|\n",
      "|BILLS-113hr1018ih|    113|  hr|     ih|            6|            1|       465| 0.4905714285714286| 0.20904761904761904|46.20689655|  53.7931034|     113|   0|[6.0,1.0,465.0,0....|\n",
      "+-----------------+-------+----+-------+-------------+-------------+----------+-------------------+--------------------+-----------+------------+--------+----+--------------------+\n",
      "only showing top 20 rows"
     ]
    }
   ],
   "source": [
    "#use vectorassembler to get our features into the form expected by pyspark.ml\n",
    "from pyspark.ml.feature import VectorAssembler\n",
    "\n",
    "features = ['sponsor_count', 'section_count', 'word_count', 'subjectivity', 'polarity', '% Democrat', '% Republican']\n",
    "assembler = VectorAssembler(inputCols = features, outputCol = 'features')\n",
    "\n",
    "s_df = assembler.transform(sdf)\n",
    "s_df.show()"
   ]
  },
  {
   "cell_type": "code",
   "execution_count": 97,
   "id": "7749b19c",
   "metadata": {},
   "outputs": [
    {
     "data": {
      "application/vnd.jupyter.widget-view+json": {
       "model_id": "8bd6cc84bd06419fbc0d51c0b005e42a",
       "version_major": 2,
       "version_minor": 0
      },
      "text/plain": [
       "VBox()"
      ]
     },
     "metadata": {},
     "output_type": "display_data"
    },
    {
     "data": {
      "application/vnd.jupyter.widget-view+json": {
       "model_id": "",
       "version_major": 2,
       "version_minor": 0
      },
      "text/plain": [
       "FloatProgress(value=0.0, bar_style='info', description='Progress:', layout=Layout(height='25px', width='50%'),…"
      ]
     },
     "metadata": {},
     "output_type": "display_data"
    }
   ],
   "source": [
    "#split into training and test datasets\n",
    "train, test = s_df.randomSplit([0.7, 0.3])\n",
    "\n",
    "#create and run model\n",
    "from pyspark.ml.classification import LogisticRegression\n",
    "lr = LogisticRegression(featuresCol='features', labelCol='pass')\n",
    "model = lr.fit(train)"
   ]
  },
  {
   "cell_type": "code",
   "execution_count": 98,
   "id": "9b9678e7",
   "metadata": {},
   "outputs": [
    {
     "data": {
      "application/vnd.jupyter.widget-view+json": {
       "model_id": "12266e3a23f74aa3ada26ab43534eb03",
       "version_major": 2,
       "version_minor": 0
      },
      "text/plain": [
       "VBox()"
      ]
     },
     "metadata": {},
     "output_type": "display_data"
    },
    {
     "data": {
      "application/vnd.jupyter.widget-view+json": {
       "model_id": "",
       "version_major": 2,
       "version_minor": 0
      },
      "text/plain": [
       "FloatProgress(value=0.0, bar_style='info', description='Progress:', layout=Layout(height='25px', width='50%'),…"
      ]
     },
     "metadata": {},
     "output_type": "display_data"
    }
   ],
   "source": [
    "#Summary of Training Data\n",
    "trainingSummary = model.summary\n",
    "evaluationSummary = model.evaluate(test)"
   ]
  },
  {
   "cell_type": "markdown",
   "id": "a70762a6",
   "metadata": {},
   "source": [
    "Evaluate Model Performance"
   ]
  },
  {
   "cell_type": "code",
   "execution_count": 99,
   "id": "78ae9933",
   "metadata": {},
   "outputs": [
    {
     "data": {
      "application/vnd.jupyter.widget-view+json": {
       "model_id": "0b9f84d015e3452190936779a627ae01",
       "version_major": 2,
       "version_minor": 0
      },
      "text/plain": [
       "VBox()"
      ]
     },
     "metadata": {},
     "output_type": "display_data"
    },
    {
     "data": {
      "application/vnd.jupyter.widget-view+json": {
       "model_id": "",
       "version_major": 2,
       "version_minor": 0
      },
      "text/plain": [
       "FloatProgress(value=0.0, bar_style='info', description='Progress:', layout=Layout(height='25px', width='50%'),…"
      ]
     },
     "metadata": {},
     "output_type": "display_data"
    },
    {
     "name": "stdout",
     "output_type": "stream",
     "text": [
      "Training AUC: 0.9042125450842999\n",
      "Test AUC:  0.9123075869070346\n",
      "\n",
      "False positive rate by label (Training):\n",
      "label 0: 0.9887869520897044\n",
      "label 1: 0.0003772540932069113\n",
      "\n",
      "True positive rate by label (Training):\n",
      "label 0: 0.9996227459067931\n",
      "label 1: 0.011213047910295617\n",
      "\n",
      "Training Accuracy: 0.9758234745471503\n",
      "Test Accuracy:  0.9773161275389156"
     ]
    }
   ],
   "source": [
    "print('Training AUC: ' + str(trainingSummary.areaUnderROC))\n",
    "print('Test AUC: ', str(evaluationSummary.areaUnderROC))\n",
    "\n",
    "print(\"\\nFalse positive rate by label (Training):\")\n",
    "for i, rate in enumerate(trainingSummary.falsePositiveRateByLabel):\n",
    "    print(\"label %d: %s\" % (i, rate))\n",
    "\n",
    "print(\"\\nTrue positive rate by label (Training):\")\n",
    "for i, rate in enumerate(trainingSummary.truePositiveRateByLabel):\n",
    "    print(\"label %d: %s\" % (i, rate))\n",
    "    \n",
    "print(\"\\nTraining Accuracy: \" + str(trainingSummary.accuracy))\n",
    "print(\"Test Accuracy: \", str(evaluationSummary.accuracy))"
   ]
  },
  {
   "cell_type": "code",
   "execution_count": 100,
   "id": "e29527cf",
   "metadata": {},
   "outputs": [
    {
     "data": {
      "application/vnd.jupyter.widget-view+json": {
       "model_id": "0a1a04b904c042dd8d43d47e6805b065",
       "version_major": 2,
       "version_minor": 0
      },
      "text/plain": [
       "VBox()"
      ]
     },
     "metadata": {},
     "output_type": "display_data"
    },
    {
     "data": {
      "application/vnd.jupyter.widget-view+json": {
       "model_id": "",
       "version_major": 2,
       "version_minor": 0
      },
      "text/plain": [
       "FloatProgress(value=0.0, bar_style='info', description='Progress:', layout=Layout(height='25px', width='50%'),…"
      ]
     },
     "metadata": {},
     "output_type": "display_data"
    }
   ],
   "source": [
    "# Obtain ROC curve and send to Pandas for plot\n",
    "roc_df = evaluationSummary.roc.toPandas()"
   ]
  },
  {
   "cell_type": "code",
   "execution_count": 101,
   "id": "13eeb2b5",
   "metadata": {},
   "outputs": [
    {
     "data": {
      "application/vnd.jupyter.widget-view+json": {
       "model_id": "cda273bb204e44beae24ec350ad5ae36",
       "version_major": 2,
       "version_minor": 0
      },
      "text/plain": [
       "VBox()"
      ]
     },
     "metadata": {},
     "output_type": "display_data"
    },
    {
     "data": {
      "application/vnd.jupyter.widget-view+json": {
       "model_id": "",
       "version_major": 2,
       "version_minor": 0
      },
      "text/plain": [
       "FloatProgress(value=0.0, bar_style='info', description='Progress:', layout=Layout(height='25px', width='50%'),…"
      ]
     },
     "metadata": {},
     "output_type": "display_data"
    },
    {
     "data": {
      "image/png": "[encoded data removed]",
      "text/plain": [
       "<IPython.core.display.Image object>"
      ]
     },
     "metadata": {},
     "output_type": "display_data"
    }
   ],
   "source": [
    "# Close previous plots; otherwise, will just overwrite and display again\n",
    "plt.close()\n",
    "\n",
    "plt.plot(roc_df.FPR, roc_df.TPR, 'b', label = 'AUC = %0.2f' % evaluationSummary.areaUnderROC)\n",
    "plt.legend(loc = 'lower right')\n",
    "plt.plot([0, 1], [0, 1],'r--')\n",
    "plt.xlim([0, 1])\n",
    "plt.ylim([0, 1])\n",
    "plt.ylabel('True Positive Rate')\n",
    "plt.xlabel('False Positive Rate')\n",
    "plt.title('ROC Curve')\n",
    "plt.show()\n",
    "\n",
    "%matplot plt"
   ]
  },
  {
   "cell_type": "code",
   "execution_count": 102,
   "id": "7edc6575",
   "metadata": {},
   "outputs": [
    {
     "data": {
      "application/vnd.jupyter.widget-view+json": {
       "model_id": "524dfa786b834e0dbf1161f50790b1a0",
       "version_major": 2,
       "version_minor": 0
      },
      "text/plain": [
       "VBox()"
      ]
     },
     "metadata": {},
     "output_type": "display_data"
    },
    {
     "data": {
      "application/vnd.jupyter.widget-view+json": {
       "model_id": "",
       "version_major": 2,
       "version_minor": 0
      },
      "text/plain": [
       "FloatProgress(value=0.0, bar_style='info', description='Progress:', layout=Layout(height='25px', width='50%'),…"
      ]
     },
     "metadata": {},
     "output_type": "display_data"
    },
    {
     "name": "stdout",
     "output_type": "stream",
     "text": [
      "DenseVector([-0.7648, -0.0074, 0.0, -5.3573, 3.9345, 0.0164, 0.0371])"
     ]
    }
   ],
   "source": [
    "#view feature importances\n",
    "model.coefficients"
   ]
  },
  {
   "cell_type": "code",
   "execution_count": 105,
   "id": "0930dec2",
   "metadata": {},
   "outputs": [
    {
     "data": {
      "application/vnd.jupyter.widget-view+json": {
       "model_id": "4aecf524122d49bdb81e8cece72c6a30",
       "version_major": 2,
       "version_minor": 0
      },
      "text/plain": [
       "VBox()"
      ]
     },
     "metadata": {},
     "output_type": "display_data"
    },
    {
     "data": {
      "application/vnd.jupyter.widget-view+json": {
       "model_id": "",
       "version_major": 2,
       "version_minor": 0
      },
      "text/plain": [
       "FloatProgress(value=0.0, bar_style='info', description='Progress:', layout=Layout(height='25px', width='50%'),…"
      ]
     },
     "metadata": {},
     "output_type": "display_data"
    },
    {
     "data": {
      "image/png": "[encoded data removed]",
      "text/plain": [
       "<IPython.core.display.Image object>"
      ]
     },
     "metadata": {},
     "output_type": "display_data"
    }
   ],
   "source": [
    "#plot our model features by importance\n",
    "\n",
    "plt.close() # Close previous plots; otherwise, will just overwrite and display again\n",
    "sns.set(rc={'figure.figsize':(20, 7)})\n",
    "\n",
    "sns.barplot(x=features, y= list(model.coefficients))\n",
    "plt.title('Feature Importances from Logistic Regression Model')\n",
    "plt.xlabel('Feature')\n",
    "plt.ylabel('Feature Coefficient')\n",
    "%matplot plt"
   ]
  }
 ],
 "metadata": {
  "kernelspec": {
   "display_name": "PySpark",
   "language": "",
   "name": "pysparkkernel"
  },
  "language_info": {
   "codemirror_mode": {
    "name": "python",
    "version": 3
   },
   "mimetype": "text/x-python",
   "name": "pyspark",
   "pygments_lexer": "python3"
  }
 },
 "nbformat": 4,
 "nbformat_minor": 5
}
