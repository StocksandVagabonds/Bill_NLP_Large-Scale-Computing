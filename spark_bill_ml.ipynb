{
 "cells": [
  {
   "cell_type": "code",
   "execution_count": 1,
   "id": "fa7a1a28",
   "metadata": {},
   "outputs": [
    {
     "data": {
      "application/vnd.jupyter.widget-view+json": {
       "model_id": "b936f53af26d436b9eadffeb4a4c9ef0",
       "version_major": 2,
       "version_minor": 0
      },
      "text/plain": [
       "VBox()"
      ]
     },
     "metadata": {},
     "output_type": "display_data"
    },
    {
     "name": "stdout",
     "output_type": "stream",
     "text": [
      "Starting Spark application\n"
     ]
    },
    {
     "data": {
      "text/html": [
       "<table>\n",
       "<tr><th>ID</th><th>YARN Application ID</th><th>Kind</th><th>State</th><th>Spark UI</th><th>Driver log</th><th>Current session?</th></tr><tr><td>2</td><td>application_1639090373335_0003</td><td>pyspark</td><td>idle</td><td><a target=\"_blank\" href=\"http://ip-172-31-13-190.ec2.internal:20888/proxy/application_1639090373335_0003/\" class=\"emr-proxy-link\" emr-resource=\"j-3NY4Q49PKDE6G\n",
       "\" application-id=\"application_1639090373335_0003\">Link</a></td><td><a target=\"_blank\" href=\"http://ip-172-31-13-190.ec2.internal:8042/node/containerlogs/container_1639090373335_0003_01_000001/livy\" >Link</a></td><td>✔</td></tr></table>"
      ],
      "text/plain": [
       "<IPython.core.display.HTML object>"
      ]
     },
     "metadata": {},
     "output_type": "display_data"
    },
    {
     "data": {
      "application/vnd.jupyter.widget-view+json": {
       "model_id": "",
       "version_major": 2,
       "version_minor": 0
      },
      "text/plain": [
       "FloatProgress(value=0.0, bar_style='info', description='Progress:', layout=Layout(height='25px', width='50%'),…"
      ]
     },
     "metadata": {},
     "output_type": "display_data"
    },
    {
     "name": "stdout",
     "output_type": "stream",
     "text": [
      "SparkSession available as 'spark'.\n"
     ]
    },
    {
     "data": {
      "application/vnd.jupyter.widget-view+json": {
       "model_id": "",
       "version_major": 2,
       "version_minor": 0
      },
      "text/plain": [
       "FloatProgress(value=0.0, bar_style='info', description='Progress:', layout=Layout(height='25px', width='50%'),…"
      ]
     },
     "metadata": {},
     "output_type": "display_data"
    }
   ],
   "source": [
    "# Link to bucket: https://s3.console.aws.amazon.com/s3/buckets/macs30123-bills?region=us-east-1&tab=objects"
   ]
  },
  {
   "cell_type": "code",
   "execution_count": 2,
   "id": "70883c51",
   "metadata": {},
   "outputs": [
    {
     "data": {
      "application/vnd.jupyter.widget-view+json": {
       "model_id": "181ce5c2854c4397911c242931ea04f3",
       "version_major": 2,
       "version_minor": 0
      },
      "text/plain": [
       "VBox()"
      ]
     },
     "metadata": {},
     "output_type": "display_data"
    },
    {
     "data": {
      "application/vnd.jupyter.widget-view+json": {
       "model_id": "",
       "version_major": 2,
       "version_minor": 0
      },
      "text/plain": [
       "FloatProgress(value=0.0, bar_style='info', description='Progress:', layout=Layout(height='25px', width='50%'),…"
      ]
     },
     "metadata": {},
     "output_type": "display_data"
    },
    {
     "name": "stdout",
     "output_type": "stream",
     "text": [
      "Collecting boto3\n",
      "  Using cached https://files.pythonhosted.org/packages/d7/24/4b70d13b553f7ca14efaa652f5b61e8a1fc63d5a98a0b4eed74eca5c9a16/boto3-1.20.23-py3-none-any.whl\n",
      "Collecting s3transfer<0.6.0,>=0.5.0 (from boto3)\n",
      "  Using cached https://files.pythonhosted.org/packages/ab/84/fc3717a7b7f0f6bb08af593127171f08e3e0087c197922da09c01bfe7c3a/s3transfer-0.5.0-py3-none-any.whl\n",
      "Requirement already satisfied: jmespath<1.0.0,>=0.7.1 in /usr/local/lib/python3.7/site-packages (from boto3)\n",
      "Collecting botocore<1.24.0,>=1.23.23 (from boto3)\n",
      "  Using cached https://files.pythonhosted.org/packages/06/75/72b9236e2ff5ff7d24d1a04dae90cc5974f1cb830ddfe61ba8a18df4664d/botocore-1.23.23-py3-none-any.whl\n",
      "Collecting urllib3<1.27,>=1.25.4 (from botocore<1.24.0,>=1.23.23->boto3)\n",
      "  Using cached https://files.pythonhosted.org/packages/af/f4/524415c0744552cce7d8bf3669af78e8a069514405ea4fcbd0cc44733744/urllib3-1.26.7-py2.py3-none-any.whl\n",
      "Collecting python-dateutil<3.0.0,>=2.1 (from botocore<1.24.0,>=1.23.23->boto3)\n",
      "  Using cached https://files.pythonhosted.org/packages/36/7a/87837f39d0296e723bb9b62bbb257d0355c7f6128853c78955f57342a56d/python_dateutil-2.8.2-py2.py3-none-any.whl\n",
      "Requirement already satisfied: six>=1.5 in /usr/local/lib/python3.7/site-packages (from python-dateutil<3.0.0,>=2.1->botocore<1.24.0,>=1.23.23->boto3)\n",
      "Installing collected packages: urllib3, python-dateutil, botocore, s3transfer, boto3\n",
      "Successfully installed boto3-1.20.23 botocore-1.23.23 python-dateutil-2.8.2 s3transfer-0.5.0 urllib3-1.26.7\n",
      "\n",
      "Collecting pandas==1.0.3\n",
      "  Using cached https://files.pythonhosted.org/packages/4a/6a/94b219b8ea0f2d580169e85ed1edc0163743f55aaeca8a44c2e8fc1e344e/pandas-1.0.3-cp37-cp37m-manylinux1_x86_64.whl\n",
      "Requirement already satisfied: pytz>=2017.2 in /usr/local/lib/python3.7/site-packages (from pandas==1.0.3)\n",
      "Requirement already satisfied: numpy>=1.13.3 in /usr/local/lib64/python3.7/site-packages (from pandas==1.0.3)\n",
      "Requirement already satisfied: python-dateutil>=2.6.1 in /mnt/tmp/1639104851065-0/lib/python3.7/site-packages (from pandas==1.0.3)\n",
      "Requirement already satisfied: six>=1.5 in /usr/local/lib/python3.7/site-packages (from python-dateutil>=2.6.1->pandas==1.0.3)\n",
      "Installing collected packages: pandas\n",
      "Successfully installed pandas-1.0.3\n",
      "\n",
      "Collecting scipy==1.4.1\n",
      "  Using cached https://files.pythonhosted.org/packages/dd/82/c1fe128f3526b128cfd185580ba40d01371c5d299fcf7f77968e22dfcc2e/scipy-1.4.1-cp37-cp37m-manylinux1_x86_64.whl\n",
      "Requirement already satisfied: numpy>=1.13.3 in /usr/local/lib64/python3.7/site-packages (from scipy==1.4.1)\n",
      "Installing collected packages: scipy\n",
      "Successfully installed scipy-1.4.1\n",
      "\n",
      "Collecting matplotlib==3.2.1\n",
      "  Using cached https://files.pythonhosted.org/packages/b2/c2/71fcf957710f3ba1f09088b35776a799ba7dd95f7c2b195ec800933b276b/matplotlib-3.2.1-cp37-cp37m-manylinux1_x86_64.whl\n",
      "Requirement already satisfied: python-dateutil>=2.1 in /mnt/tmp/1639104851065-0/lib/python3.7/site-packages (from matplotlib==3.2.1)\n",
      "Collecting pyparsing!=2.0.4,!=2.1.2,!=2.1.6,>=2.0.1 (from matplotlib==3.2.1)\n",
      "  Using cached https://files.pythonhosted.org/packages/a0/34/895006117f6fce0b4de045c87e154ee4a20c68ec0a4c9a36d900888fb6bc/pyparsing-3.0.6-py3-none-any.whl\n",
      "Collecting cycler>=0.10 (from matplotlib==3.2.1)\n",
      "  Using cached https://files.pythonhosted.org/packages/5c/f9/695d6bedebd747e5eb0fe8fad57b72fdf25411273a39791cde838d5a8f51/cycler-0.11.0-py3-none-any.whl\n",
      "Requirement already satisfied: numpy>=1.11 in /usr/local/lib64/python3.7/site-packages (from matplotlib==3.2.1)\n",
      "Collecting kiwisolver>=1.0.1 (from matplotlib==3.2.1)\n",
      "  Using cached https://files.pythonhosted.org/packages/09/6b/6e567cb2e86d4e5939a9233f8734e26021b6a9c1bc4b1edccba236a84cc2/kiwisolver-1.3.2-cp37-cp37m-manylinux_2_5_x86_64.manylinux1_x86_64.whl\n",
      "Requirement already satisfied: six>=1.5 in /usr/local/lib/python3.7/site-packages (from python-dateutil>=2.1->matplotlib==3.2.1)\n",
      "Installing collected packages: pyparsing, cycler, kiwisolver, matplotlib\n",
      "Successfully installed cycler-0.11.0 kiwisolver-1.3.2 matplotlib-3.2.1 pyparsing-3.0.6\n",
      "\n",
      "Collecting seaborn==0.10.1\n",
      "  Using cached https://files.pythonhosted.org/packages/c7/e6/54aaaafd0b87f51dfba92ba73da94151aa3bc179e5fe88fc5dfb3038e860/seaborn-0.10.1-py3-none-any.whl\n",
      "Requirement already satisfied: pandas>=0.22.0 in /mnt/tmp/1639104851065-0/lib/python3.7/site-packages (from seaborn==0.10.1)\n",
      "Requirement already satisfied: numpy>=1.13.3 in /usr/local/lib64/python3.7/site-packages (from seaborn==0.10.1)\n",
      "Requirement already satisfied: scipy>=1.0.1 in /mnt/tmp/1639104851065-0/lib/python3.7/site-packages (from seaborn==0.10.1)\n",
      "Requirement already satisfied: matplotlib>=2.1.2 in /mnt/tmp/1639104851065-0/lib/python3.7/site-packages (from seaborn==0.10.1)\n",
      "Requirement already satisfied: pytz>=2017.2 in /usr/local/lib/python3.7/site-packages (from pandas>=0.22.0->seaborn==0.10.1)\n",
      "Requirement already satisfied: python-dateutil>=2.6.1 in /mnt/tmp/1639104851065-0/lib/python3.7/site-packages (from pandas>=0.22.0->seaborn==0.10.1)\n",
      "Requirement already satisfied: pyparsing!=2.0.4,!=2.1.2,!=2.1.6,>=2.0.1 in /mnt/tmp/1639104851065-0/lib/python3.7/site-packages (from matplotlib>=2.1.2->seaborn==0.10.1)\n",
      "Requirement already satisfied: cycler>=0.10 in /mnt/tmp/1639104851065-0/lib/python3.7/site-packages (from matplotlib>=2.1.2->seaborn==0.10.1)\n",
      "Requirement already satisfied: kiwisolver>=1.0.1 in /mnt/tmp/1639104851065-0/lib/python3.7/site-packages (from matplotlib>=2.1.2->seaborn==0.10.1)\n",
      "Requirement already satisfied: six>=1.5 in /usr/local/lib/python3.7/site-packages (from python-dateutil>=2.6.1->pandas>=0.22.0->seaborn==0.10.1)\n",
      "Installing collected packages: seaborn\n",
      "Successfully installed seaborn-0.10.1\n",
      "\n",
      "Collecting dask\n",
      "  Using cached https://files.pythonhosted.org/packages/e8/3e/161fc6b630603ab69266c90238068793e5cdd38b5e41b0fcba3d09636f1d/dask-2021.11.2-py3-none-any.whl\n",
      "Collecting packaging>=20.0 (from dask)\n",
      "  Using cached https://files.pythonhosted.org/packages/05/8e/8de486cbd03baba4deef4142bd643a3e7bbe954a784dc1bb17142572d127/packaging-21.3-py3-none-any.whl\n",
      "Collecting fsspec>=0.6.0 (from dask)\n",
      "  Using cached https://files.pythonhosted.org/packages/97/76/8f9921e10d9cbdf4790d4fb7a9883f3d636926e8b0564a4983ac15c167c9/fsspec-2021.11.1-py3-none-any.whl\n",
      "Requirement already satisfied: pyyaml in /usr/local/lib64/python3.7/site-packages (from dask)\n",
      "Collecting partd>=0.3.10 (from dask)\n",
      "  Using cached https://files.pythonhosted.org/packages/41/94/360258a68b55f47859d72b2d0b2b3cfe0ca4fbbcb81b78812bd00ae86b7c/partd-1.2.0-py3-none-any.whl\n",
      "Collecting toolz>=0.8.2 (from dask)\n",
      "  Using cached https://files.pythonhosted.org/packages/b5/f1/3df506b493736e3ee11fc1a3c2de8014a55f025d830a71bb499acc049a2c/toolz-0.11.2-py3-none-any.whl\n",
      "Collecting cloudpickle>=1.1.1 (from dask)\n",
      "  Using cached https://files.pythonhosted.org/packages/07/3c/bf72ebd3e78eb1ef773f4f0650ecdc29c6454aeafe9c08f6da3f227dd2bc/cloudpickle-2.0.0-py3-none-any.whl\n",
      "Requirement already satisfied: pyparsing!=3.0.5,>=2.0.2 in /mnt/tmp/1639104851065-0/lib/python3.7/site-packages (from packaging>=20.0->dask)\n",
      "Collecting locket (from partd>=0.3.10->dask)\n",
      "  Using cached https://files.pythonhosted.org/packages/50/b8/e789e45b9b9c2db75e9d9e6ceb022c8d1d7e49b2c085ce8c05600f90a96b/locket-0.2.1-py2.py3-none-any.whl\n",
      "Installing collected packages: packaging, fsspec, toolz, locket, partd, cloudpickle, dask\n",
      "Successfully installed cloudpickle-2.0.0 dask-2021.11.2 fsspec-2021.11.1 locket-0.2.1 packaging-21.3 partd-1.2.0 toolz-0.11.2\n",
      "\n",
      "Collecting textblob\n",
      "  Using cached https://files.pythonhosted.org/packages/44/a4/595b66c1342a830f4ff476307c4367541cce3e361b9ee96d22a5eeeddd1d/textblob-0.17.1-py2.py3-none-any.whl\n",
      "Requirement already satisfied: nltk>=3.1; python_version >= \"3\" in /usr/local/lib/python3.7/site-packages (from textblob)\n",
      "Requirement already satisfied: click in /usr/local/lib64/python3.7/site-packages (from nltk>=3.1; python_version >= \"3\"->textblob)\n",
      "Requirement already satisfied: joblib in /usr/local/lib64/python3.7/site-packages (from nltk>=3.1; python_version >= \"3\"->textblob)\n",
      "Requirement already satisfied: regex in /usr/local/lib64/python3.7/site-packages (from nltk>=3.1; python_version >= \"3\"->textblob)\n",
      "Requirement already satisfied: tqdm in /usr/local/lib64/python3.7/site-packages (from nltk>=3.1; python_version >= \"3\"->textblob)\n",
      "Installing collected packages: textblob\n",
      "Successfully installed textblob-0.17.1\n",
      "\n",
      "You are using pip version 9.0.1, however version 21.3.1 is available.\n",
      "You should consider upgrading via the 'pip install --upgrade pip' command.\n",
      "\n",
      "You are using pip version 9.0.1, however version 21.3.1 is available.\n",
      "You should consider upgrading via the 'pip install --upgrade pip' command.\n",
      "\n",
      "You are using pip version 9.0.1, however version 21.3.1 is available.\n",
      "You should consider upgrading via the 'pip install --upgrade pip' command.\n",
      "\n",
      "You are using pip version 9.0.1, however version 21.3.1 is available.\n",
      "You should consider upgrading via the 'pip install --upgrade pip' command.\n",
      "\n",
      "You are using pip version 9.0.1, however version 21.3.1 is available.\n",
      "You should consider upgrading via the 'pip install --upgrade pip' command.\n",
      "\n",
      "You are using pip version 9.0.1, however version 21.3.1 is available.\n",
      "You should consider upgrading via the 'pip install --upgrade pip' command.\n",
      "\n",
      "You are using pip version 9.0.1, however version 21.3.1 is available.\n",
      "You should consider upgrading via the 'pip install --upgrade pip' command."
     ]
    }
   ],
   "source": [
    "#install necessary packages\n",
    "sc.install_pypi_package(\"boto3\") # use boto3 to see book data in S3 bucket\n",
    "sc.install_pypi_package(\"pandas==1.0.3\")\n",
    "sc.install_pypi_package(\"scipy==1.4.1\")\n",
    "sc.install_pypi_package(\"matplotlib==3.2.1\")\n",
    "sc.install_pypi_package(\"seaborn==0.10.1\")\n",
    "sc.install_pypi_package(\"dask\") #install dask as well\n",
    "sc.install_pypi_package(\"textblob\") #this is used to conduct sentiment analysis for added feature columns"
   ]
  },
  {
   "cell_type": "code",
   "execution_count": 3,
   "id": "e7e1a8ad",
   "metadata": {},
   "outputs": [
    {
     "data": {
      "application/vnd.jupyter.widget-view+json": {
       "model_id": "7b48dc3f0fa04d94a85317b48112483b",
       "version_major": 2,
       "version_minor": 0
      },
      "text/plain": [
       "VBox()"
      ]
     },
     "metadata": {},
     "output_type": "display_data"
    },
    {
     "data": {
      "application/vnd.jupyter.widget-view+json": {
       "model_id": "",
       "version_major": 2,
       "version_minor": 0
      },
      "text/plain": [
       "FloatProgress(value=0.0, bar_style='info', description='Progress:', layout=Layout(height='25px', width='50%'),…"
      ]
     },
     "metadata": {},
     "output_type": "display_data"
    }
   ],
   "source": [
    "import boto3\n",
    "import pandas as pd\n",
    "import numpy as np\n",
    "import matplotlib.pyplot as plt\n",
    "import seaborn as sns\n",
    "from dask import dataframe as dd\n",
    "from textblob import TextBlob\n",
    "from pyspark.ml.classification import LogisticRegression\n",
    "from pyspark.ml.evaluation import RegressionEvaluator\n",
    "from pyspark.sql.functions import udf\n",
    "from pyspark.sql.types import *\n",
    "from io import StringIO"
   ]
  },
  {
   "cell_type": "code",
   "execution_count": 4,
   "id": "a99fc578",
   "metadata": {},
   "outputs": [
    {
     "data": {
      "application/vnd.jupyter.widget-view+json": {
       "model_id": "69386993eaa245f3b39fff7be85e645d",
       "version_major": 2,
       "version_minor": 0
      },
      "text/plain": [
       "VBox()"
      ]
     },
     "metadata": {},
     "output_type": "display_data"
    },
    {
     "data": {
      "application/vnd.jupyter.widget-view+json": {
       "model_id": "",
       "version_major": 2,
       "version_minor": 0
      },
      "text/plain": [
       "FloatProgress(value=0.0, bar_style='info', description='Progress:', layout=Layout(height='25px', width='50%'),…"
      ]
     },
     "metadata": {},
     "output_type": "display_data"
    }
   ],
   "source": [
    "s3 = boto3.client('s3', region_name='us-east-1',)\n",
    "\n",
    "response = s3.list_objects(Bucket='macs30123-bills')"
   ]
  },
  {
   "cell_type": "code",
   "execution_count": 5,
   "id": "f0f7bffc",
   "metadata": {},
   "outputs": [
    {
     "data": {
      "application/vnd.jupyter.widget-view+json": {
       "model_id": "1e7faba1ff4a4403b90960aaef2037a2",
       "version_major": 2,
       "version_minor": 0
      },
      "text/plain": [
       "VBox()"
      ]
     },
     "metadata": {},
     "output_type": "display_data"
    },
    {
     "data": {
      "application/vnd.jupyter.widget-view+json": {
       "model_id": "",
       "version_major": 2,
       "version_minor": 0
      },
      "text/plain": [
       "FloatProgress(value=0.0, bar_style='info', description='Progress:', layout=Layout(height='25px', width='50%'),…"
      ]
     },
     "metadata": {},
     "output_type": "display_data"
    }
   ],
   "source": [
    "data_congress = s3.get_object(Bucket=\"macs30123-bills\", Key=\"data_congress_breakdown.csv\")\n",
    "data_congress = data_congress['Body'].read()\n",
    "data_congress = data_congress.decode('utf-8')\n",
    "\n",
    "df_congress = pd.read_csv(StringIO(data_congress))"
   ]
  },
  {
   "cell_type": "code",
   "execution_count": 6,
   "id": "782e6a8b",
   "metadata": {},
   "outputs": [
    {
     "data": {
      "application/vnd.jupyter.widget-view+json": {
       "model_id": "baefeb7c8f86402db05b288b3b65d081",
       "version_major": 2,
       "version_minor": 0
      },
      "text/plain": [
       "VBox()"
      ]
     },
     "metadata": {},
     "output_type": "display_data"
    },
    {
     "data": {
      "application/vnd.jupyter.widget-view+json": {
       "model_id": "",
       "version_major": 2,
       "version_minor": 0
      },
      "text/plain": [
       "FloatProgress(value=0.0, bar_style='info', description='Progress:', layout=Layout(height='25px', width='50%'),…"
      ]
     },
     "metadata": {},
     "output_type": "display_data"
    }
   ],
   "source": [
    "df_congress = df_congress[['Congress (years)', '# of House Seats', 'Democrats', 'Republicans',\n",
    "       'Other', '% Democrat', '% Republican']]"
   ]
  },
  {
   "cell_type": "code",
   "execution_count": 7,
   "id": "8d615827",
   "metadata": {},
   "outputs": [
    {
     "data": {
      "application/vnd.jupyter.widget-view+json": {
       "model_id": "78ac61bbcf90425e9407b35f7d95606a",
       "version_major": 2,
       "version_minor": 0
      },
      "text/plain": [
       "VBox()"
      ]
     },
     "metadata": {},
     "output_type": "display_data"
    },
    {
     "data": {
      "application/vnd.jupyter.widget-view+json": {
       "model_id": "",
       "version_major": 2,
       "version_minor": 0
      },
      "text/plain": [
       "FloatProgress(value=0.0, bar_style='info', description='Progress:', layout=Layout(height='25px', width='50%'),…"
      ]
     },
     "metadata": {},
     "output_type": "display_data"
    }
   ],
   "source": [
    "df_congress['% Republican'] = df_congress['% Republican'] * 100"
   ]
  },
  {
   "cell_type": "code",
   "execution_count": 8,
   "id": "62023325",
   "metadata": {},
   "outputs": [
    {
     "data": {
      "application/vnd.jupyter.widget-view+json": {
       "model_id": "0d0b5d4c99d545ab901a6a9d785da770",
       "version_major": 2,
       "version_minor": 0
      },
      "text/plain": [
       "VBox()"
      ]
     },
     "metadata": {},
     "output_type": "display_data"
    },
    {
     "data": {
      "application/vnd.jupyter.widget-view+json": {
       "model_id": "",
       "version_major": 2,
       "version_minor": 0
      },
      "text/plain": [
       "FloatProgress(value=0.0, bar_style='info', description='Progress:', layout=Layout(height='25px', width='50%'),…"
      ]
     },
     "metadata": {},
     "output_type": "display_data"
    }
   ],
   "source": [
    "df_congress['Congress (years)'] = df_congress['Congress (years)'].astype(str)"
   ]
  },
  {
   "cell_type": "code",
   "execution_count": 9,
   "id": "1f19a848",
   "metadata": {},
   "outputs": [
    {
     "data": {
      "application/vnd.jupyter.widget-view+json": {
       "model_id": "b2ebf4c91b7949b483a51d027e06ef1c",
       "version_major": 2,
       "version_minor": 0
      },
      "text/plain": [
       "VBox()"
      ]
     },
     "metadata": {},
     "output_type": "display_data"
    },
    {
     "data": {
      "application/vnd.jupyter.widget-view+json": {
       "model_id": "",
       "version_major": 2,
       "version_minor": 0
      },
      "text/plain": [
       "FloatProgress(value=0.0, bar_style='info', description='Progress:', layout=Layout(height='25px', width='50%'),…"
      ]
     },
     "metadata": {},
     "output_type": "display_data"
    }
   ],
   "source": [
    "df_congress['congress'] = df_congress['Congress (years)'].apply(lambda txt: txt.split(' ', 1)[0])"
   ]
  },
  {
   "cell_type": "code",
   "execution_count": 10,
   "id": "ccf688ec",
   "metadata": {},
   "outputs": [
    {
     "data": {
      "application/vnd.jupyter.widget-view+json": {
       "model_id": "ee6e7c5946d74fd4a02c721108dc6bb8",
       "version_major": 2,
       "version_minor": 0
      },
      "text/plain": [
       "VBox()"
      ]
     },
     "metadata": {},
     "output_type": "display_data"
    },
    {
     "data": {
      "application/vnd.jupyter.widget-view+json": {
       "model_id": "",
       "version_major": 2,
       "version_minor": 0
      },
      "text/plain": [
       "FloatProgress(value=0.0, bar_style='info', description='Progress:', layout=Layout(height='25px', width='50%'),…"
      ]
     },
     "metadata": {},
     "output_type": "display_data"
    },
    {
     "data": {
      "image/png": "[encoded data removed]",
      "text/plain": [
       "<IPython.core.display.Image object>"
      ]
     },
     "metadata": {},
     "output_type": "display_data"
    }
   ],
   "source": [
    "#View congress party makeup over time\n",
    "plt.close() # Close previous plots; otherwise, will just overwrite and display again\n",
    "\n",
    "sns.lineplot(x='congress', y='% Democrat', data=df_congress)\n",
    "sns.lineplot(x='congress', y='% Republican', data=df_congress)\n",
    "plt.title('Breakdown of Congress by Party Makeup over Time')\n",
    "plt.xlabel('Congress Session')\n",
    "plt.ylabel('Percent of Congress')\n",
    "plt.legend(['Republican', 'Democrat'])\n",
    "%matplot plt"
   ]
  },
  {
   "cell_type": "code",
   "execution_count": 11,
   "id": "ac333ec0",
   "metadata": {},
   "outputs": [
    {
     "data": {
      "application/vnd.jupyter.widget-view+json": {
       "model_id": "ecfaf5b1b28d471c8113bb7d16b2f3e3",
       "version_major": 2,
       "version_minor": 0
      },
      "text/plain": [
       "VBox()"
      ]
     },
     "metadata": {},
     "output_type": "display_data"
    },
    {
     "data": {
      "application/vnd.jupyter.widget-view+json": {
       "model_id": "",
       "version_major": 2,
       "version_minor": 0
      },
      "text/plain": [
       "FloatProgress(value=0.0, bar_style='info', description='Progress:', layout=Layout(height='25px', width='50%'),…"
      ]
     },
     "metadata": {},
     "output_type": "display_data"
    }
   ],
   "source": [
    "#read in the bills dataset from our s3 bucket\n",
    "df_bills = s3.get_object(Bucket=\"macs30123-bills\", Key=\"data_bills.csv\")\n",
    "df_bills = df_bills['Body'].read()\n",
    "df_bills = df_bills.decode('utf-8')\n",
    "\n",
    "df_bills = pd.read_csv(StringIO(df_bills))"
   ]
  },
  {
   "cell_type": "code",
   "execution_count": 12,
   "id": "80c2c2c8",
   "metadata": {},
   "outputs": [
    {
     "data": {
      "application/vnd.jupyter.widget-view+json": {
       "model_id": "6666c38147894f26b2c8cc74b196fe90",
       "version_major": 2,
       "version_minor": 0
      },
      "text/plain": [
       "VBox()"
      ]
     },
     "metadata": {},
     "output_type": "display_data"
    },
    {
     "data": {
      "application/vnd.jupyter.widget-view+json": {
       "model_id": "",
       "version_major": 2,
       "version_minor": 0
      },
      "text/plain": [
       "FloatProgress(value=0.0, bar_style='info', description='Progress:', layout=Layout(height='25px', width='50%'),…"
      ]
     },
     "metadata": {},
     "output_type": "display_data"
    }
   ],
   "source": [
    "df_congress = df_congress.dropna()\n",
    "df_congress['congress'] = df_congress['congress'].astype(int)\n",
    "df = df_bills.merge(df_congress, left_on='session', right_on='congress',)"
   ]
  },
  {
   "cell_type": "code",
   "execution_count": 13,
   "id": "b34da83f",
   "metadata": {},
   "outputs": [
    {
     "data": {
      "application/vnd.jupyter.widget-view+json": {
       "model_id": "69105eb5cfa4494ebedf4aa888ec6575",
       "version_major": 2,
       "version_minor": 0
      },
      "text/plain": [
       "VBox()"
      ]
     },
     "metadata": {},
     "output_type": "display_data"
    },
    {
     "data": {
      "application/vnd.jupyter.widget-view+json": {
       "model_id": "",
       "version_major": 2,
       "version_minor": 0
      },
      "text/plain": [
       "FloatProgress(value=0.0, bar_style='info', description='Progress:', layout=Layout(height='25px', width='50%'),…"
      ]
     },
     "metadata": {},
     "output_type": "display_data"
    }
   ],
   "source": [
    "df = df[df['type'] != 'hres']\n",
    "df = df[df['type'] != 'sconres'] #remove hres and sconres type bills from our dataset"
   ]
  },
  {
   "cell_type": "code",
   "execution_count": 14,
   "id": "97ae4915",
   "metadata": {},
   "outputs": [
    {
     "data": {
      "application/vnd.jupyter.widget-view+json": {
       "model_id": "57f8535f7bae4b3a93416081376b1837",
       "version_major": 2,
       "version_minor": 0
      },
      "text/plain": [
       "VBox()"
      ]
     },
     "metadata": {},
     "output_type": "display_data"
    },
    {
     "data": {
      "application/vnd.jupyter.widget-view+json": {
       "model_id": "",
       "version_major": 2,
       "version_minor": 0
      },
      "text/plain": [
       "FloatProgress(value=0.0, bar_style='info', description='Progress:', layout=Layout(height='25px', width='50%'),…"
      ]
     },
     "metadata": {},
     "output_type": "display_data"
    },
    {
     "name": "stdout",
     "output_type": "stream",
     "text": [
      "array(['hr', 's'], dtype=object)"
     ]
    }
   ],
   "source": [
    "df['type'].unique() #verify that hres and sconres type bills have been removed"
   ]
  },
  {
   "cell_type": "markdown",
   "id": "59cd3014",
   "metadata": {},
   "source": [
    "Create our binary outcome variable based on whether or not bills have passed through Congress."
   ]
  },
  {
   "cell_type": "code",
   "execution_count": 15,
   "id": "227ec333",
   "metadata": {},
   "outputs": [
    {
     "data": {
      "application/vnd.jupyter.widget-view+json": {
       "model_id": "564f87c15dfc4fd880d5f2c83227d5bd",
       "version_major": 2,
       "version_minor": 0
      },
      "text/plain": [
       "VBox()"
      ]
     },
     "metadata": {},
     "output_type": "display_data"
    },
    {
     "data": {
      "application/vnd.jupyter.widget-view+json": {
       "model_id": "",
       "version_major": 2,
       "version_minor": 0
      },
      "text/plain": [
       "FloatProgress(value=0.0, bar_style='info', description='Progress:', layout=Layout(height='25px', width='50%'),…"
      ]
     },
     "metadata": {},
     "output_type": "display_data"
    },
    {
     "name": "stdout",
     "output_type": "stream",
     "text": [
      "              Unnamed: 0  session type  ... % Democrat  % Republican  congress\n",
      "0      BILLS-113hr1000ih      113   hr  ...  46.206897     53.793103       113\n",
      "1      BILLS-113hr1001ih      113   hr  ...  46.206897     53.793103       113\n",
      "2      BILLS-113hr1002ih      113   hr  ...  46.206897     53.793103       113\n",
      "3      BILLS-113hr1003ih      113   hr  ...  46.206897     53.793103       113\n",
      "4      BILLS-113hr1004ih      113   hr  ...  46.206897     53.793103       113\n",
      "...                  ...      ...  ...  ...        ...           ...       ...\n",
      "61716    BILLS-116s998rs      116    s  ...  54.022989     45.747126       116\n",
      "61717    BILLS-116s999is      116    s  ...  54.022989     45.747126       116\n",
      "61718    BILLS-116s999rs      116    s  ...  54.022989     45.747126       116\n",
      "61719     BILLS-116s99is      116    s  ...  54.022989     45.747126       116\n",
      "61720      BILLS-116s9is      116    s  ...  54.022989     45.747126       116\n",
      "\n",
      "[58011 rows x 17 columns]"
     ]
    }
   ],
   "source": [
    "df"
   ]
  },
  {
   "cell_type": "code",
   "execution_count": 16,
   "id": "c1a12e07",
   "metadata": {},
   "outputs": [
    {
     "data": {
      "application/vnd.jupyter.widget-view+json": {
       "model_id": "9afb76e619c54fd8ab1e0a794286e697",
       "version_major": 2,
       "version_minor": 0
      },
      "text/plain": [
       "VBox()"
      ]
     },
     "metadata": {},
     "output_type": "display_data"
    },
    {
     "data": {
      "application/vnd.jupyter.widget-view+json": {
       "model_id": "",
       "version_major": 2,
       "version_minor": 0
      },
      "text/plain": [
       "FloatProgress(value=0.0, bar_style='info', description='Progress:', layout=Layout(height='25px', width='50%'),…"
      ]
     },
     "metadata": {},
     "output_type": "display_data"
    },
    {
     "name": "stdout",
     "output_type": "stream",
     "text": [
      "type  session\n",
      "hr    113         7831\n",
      "      114         9129\n",
      "      115        10721\n",
      "      116        11475\n",
      "s     113         3648\n",
      "      114         4412\n",
      "      115         4806\n",
      "      116         5977\n",
      "Name: outcome, dtype: int64"
     ]
    }
   ],
   "source": [
    "df.groupby(['type', 'session'])['outcome'].count()"
   ]
  },
  {
   "cell_type": "code",
   "execution_count": 17,
   "id": "13acba9d",
   "metadata": {},
   "outputs": [
    {
     "data": {
      "application/vnd.jupyter.widget-view+json": {
       "model_id": "0a614b8fde0845f296208fbee3940da5",
       "version_major": 2,
       "version_minor": 0
      },
      "text/plain": [
       "VBox()"
      ]
     },
     "metadata": {},
     "output_type": "display_data"
    },
    {
     "data": {
      "application/vnd.jupyter.widget-view+json": {
       "model_id": "",
       "version_major": 2,
       "version_minor": 0
      },
      "text/plain": [
       "FloatProgress(value=0.0, bar_style='info', description='Progress:', layout=Layout(height='25px', width='50%'),…"
      ]
     },
     "metadata": {},
     "output_type": "display_data"
    }
   ],
   "source": [
    "df['pass'] = np.where(df['outcome'] == 'enr', 1, 0) #bills with an outcome of enr is considered a pass"
   ]
  },
  {
   "cell_type": "code",
   "execution_count": 18,
   "id": "f4c7a52b",
   "metadata": {},
   "outputs": [
    {
     "data": {
      "application/vnd.jupyter.widget-view+json": {
       "model_id": "203bc82ffabd4640968feed5bdb26422",
       "version_major": 2,
       "version_minor": 0
      },
      "text/plain": [
       "VBox()"
      ]
     },
     "metadata": {},
     "output_type": "display_data"
    },
    {
     "data": {
      "application/vnd.jupyter.widget-view+json": {
       "model_id": "",
       "version_major": 2,
       "version_minor": 0
      },
      "text/plain": [
       "FloatProgress(value=0.0, bar_style='info', description='Progress:', layout=Layout(height='25px', width='50%'),…"
      ]
     },
     "metadata": {},
     "output_type": "display_data"
    }
   ],
   "source": [
    "df = df.drop(['Congress (years)', '# of House Seats', 'Democrats', 'Republicans', 'Other'], axis=1)"
   ]
  },
  {
   "cell_type": "code",
   "execution_count": 19,
   "id": "9c8cd281",
   "metadata": {},
   "outputs": [
    {
     "data": {
      "application/vnd.jupyter.widget-view+json": {
       "model_id": "08845146b2ec412b9edec88d044f936b",
       "version_major": 2,
       "version_minor": 0
      },
      "text/plain": [
       "VBox()"
      ]
     },
     "metadata": {},
     "output_type": "display_data"
    },
    {
     "data": {
      "application/vnd.jupyter.widget-view+json": {
       "model_id": "",
       "version_major": 2,
       "version_minor": 0
      },
      "text/plain": [
       "FloatProgress(value=0.0, bar_style='info', description='Progress:', layout=Layout(height='25px', width='50%'),…"
      ]
     },
     "metadata": {},
     "output_type": "display_data"
    }
   ],
   "source": [
    "df['Unnamed: 0'] = df['Unnamed: 0'].astype(str)"
   ]
  },
  {
   "cell_type": "code",
   "execution_count": 20,
   "id": "dd0fdeae",
   "metadata": {},
   "outputs": [
    {
     "data": {
      "application/vnd.jupyter.widget-view+json": {
       "model_id": "5f140c47c5be4b678c108af8f91d5a92",
       "version_major": 2,
       "version_minor": 0
      },
      "text/plain": [
       "VBox()"
      ]
     },
     "metadata": {},
     "output_type": "display_data"
    },
    {
     "data": {
      "application/vnd.jupyter.widget-view+json": {
       "model_id": "",
       "version_major": 2,
       "version_minor": 0
      },
      "text/plain": [
       "FloatProgress(value=0.0, bar_style='info', description='Progress:', layout=Layout(height='25px', width='50%'),…"
      ]
     },
     "metadata": {},
     "output_type": "display_data"
    }
   ],
   "source": [
    "df['outcome'] = df['outcome'].astype(str)"
   ]
  },
  {
   "cell_type": "code",
   "execution_count": 21,
   "id": "f8152077",
   "metadata": {},
   "outputs": [
    {
     "data": {
      "application/vnd.jupyter.widget-view+json": {
       "model_id": "e531493196b94a999cf4e3117c3406ef",
       "version_major": 2,
       "version_minor": 0
      },
      "text/plain": [
       "VBox()"
      ]
     },
     "metadata": {},
     "output_type": "display_data"
    },
    {
     "data": {
      "application/vnd.jupyter.widget-view+json": {
       "model_id": "",
       "version_major": 2,
       "version_minor": 0
      },
      "text/plain": [
       "FloatProgress(value=0.0, bar_style='info', description='Progress:', layout=Layout(height='25px', width='50%'),…"
      ]
     },
     "metadata": {},
     "output_type": "display_data"
    }
   ],
   "source": [
    "#convert our merged dataset that contains all our data into a Spark Dataframe\n",
    "from pyspark.sql import SparkSession\n",
    "\n",
    "#create a spark session\n",
    "sparksesh = SparkSession.builder.master('local[1]').appName('SparkByExamples.com').getOrCreate()\n",
    "\n",
    "sdf = sparksesh.createDataFrame(df)"
   ]
  },
  {
   "cell_type": "code",
   "execution_count": 22,
   "id": "63d30df9",
   "metadata": {},
   "outputs": [
    {
     "data": {
      "application/vnd.jupyter.widget-view+json": {
       "model_id": "7ee96ec5a6614296b72c06a35d6f8105",
       "version_major": 2,
       "version_minor": 0
      },
      "text/plain": [
       "VBox()"
      ]
     },
     "metadata": {},
     "output_type": "display_data"
    },
    {
     "data": {
      "application/vnd.jupyter.widget-view+json": {
       "model_id": "",
       "version_major": 2,
       "version_minor": 0
      },
      "text/plain": [
       "FloatProgress(value=0.0, bar_style='info', description='Progress:', layout=Layout(height='25px', width='50%'),…"
      ]
     },
     "metadata": {},
     "output_type": "display_data"
    },
    {
     "name": "stdout",
     "output_type": "stream",
     "text": [
      "+-----------------+-------+----+-------+-------------+-------------+----------+-------------------+--------------------+-----------+------------+--------+----+\n",
      "|       Unnamed: 0|session|type|outcome|sponsor_count|section_count|word_count|       subjectivity|            polarity| % Democrat|% Republican|congress|pass|\n",
      "+-----------------+-------+----+-------+-------------+-------------+----------+-------------------+--------------------+-----------+------------+--------+----+\n",
      "|BILLS-113hr1000ih|    113|  hr|     ih|            1|           10|      5828| 0.3655130309870722| 0.06525710181466382|46.20689655|  53.7931034|     113|   0|\n",
      "|BILLS-113hr1001ih|    113|  hr|     ih|            3|            1|       482| 0.4160595238095238| 0.08928273809523811|46.20689655|  53.7931034|     113|   0|\n",
      "|BILLS-113hr1002ih|    113|  hr|     ih|            8|            4|       914| 0.7384660421545669|  0.3741412958626073|46.20689655|  53.7931034|     113|   0|\n",
      "|BILLS-113hr1003ih|    113|  hr|     ih|            5|            1|       304|  0.448529411764706|-0.03186274509803...|46.20689655|  53.7931034|     113|   0|\n",
      "|BILLS-113hr1004ih|    113|  hr|     ih|            5|            5|      2407|0.28045944940476186| 0.08803013392857144|46.20689655|  53.7931034|     113|   0|\n",
      "|BILLS-113hr1005ih|    113|  hr|     ih|            4|            3|       156|0.24940476190476196| 0.03273809523809524|46.20689655|  53.7931034|     113|   0|\n",
      "|BILLS-113hr1006ih|    113|  hr|     ih|            2|            2|       359|             0.3925| 0.16583333333333333|46.20689655|  53.7931034|     113|   0|\n",
      "|BILLS-113hr1007ih|    113|  hr|     ih|            2|            3|       624| 0.4836950146627567| 0.05337732160312806|46.20689655|  53.7931034|     113|   0|\n",
      "|BILLS-113hr1008ih|    113|  hr|     ih|           44|           10|      2051| 0.3813060385941737|  0.2408455621591215|46.20689655|  53.7931034|     113|   0|\n",
      "|BILLS-113hr1009ih|    113|  hr|     ih|           13|            3|       813| 0.3778756957328386|0.014955679241393524|46.20689655|  53.7931034|     113|   0|\n",
      "| BILLS-113hr100ih|    113|  hr|     ih|            8|           23|      5638| 0.4959002086890532| 0.11747249098842727|46.20689655|  53.7931034|     113|   0|\n",
      "|BILLS-113hr1010ih|    113|  hr|     ih|          132|            2|       745| 0.3617676767676768| 0.13858585858585856|46.20689655|  53.7931034|     113|   0|\n",
      "|BILLS-113hr1011ih|    113|  hr|     ih|            4|            1|       117| 0.3525252525252525| 0.09612794612794613|46.20689655|  53.7931034|     113|   0|\n",
      "|BILLS-113hr1012ih|    113|  hr|     ih|            6|            7|      2750| 0.2723322905804658| 0.03734358706986445|46.20689655|  53.7931034|     113|   0|\n",
      "|BILLS-113hr1013ih|    113|  hr|     ih|            2|            2|       303| 0.2858333333333333|-0.01083333333333333|46.20689655|  53.7931034|     113|   0|\n",
      "|BILLS-113hr1014ih|    113|  hr|     ih|            1|            1|       145|0.14265734265734267|-0.04463869463869463|46.20689655|  53.7931034|     113|   0|\n",
      "|BILLS-113hr1015ih|    113|  hr|     ih|            2|            4|       907|0.28556033168709216|-0.01603713188220...|46.20689655|  53.7931034|     113|   0|\n",
      "|BILLS-113hr1016ih|    113|  hr|     ih|            3|            3|       639| 0.4267813852813851| 0.08960822510822512|46.20689655|  53.7931034|     113|   0|\n",
      "|BILLS-113hr1017ih|    113|  hr|     ih|            1|            3|       306| 0.4024844720496894|0.036594202898550726|46.20689655|  53.7931034|     113|   0|\n",
      "|BILLS-113hr1018ih|    113|  hr|     ih|            6|            1|       465| 0.4905714285714286| 0.20904761904761904|46.20689655|  53.7931034|     113|   0|\n",
      "+-----------------+-------+----+-------+-------------+-------------+----------+-------------------+--------------------+-----------+------------+--------+----+\n",
      "only showing top 20 rows"
     ]
    }
   ],
   "source": [
    "#view our newly created Spark Dataframe\n",
    "sdf.show()"
   ]
  },
  {
   "cell_type": "code",
   "execution_count": 23,
   "id": "0d112665",
   "metadata": {},
   "outputs": [
    {
     "data": {
      "application/vnd.jupyter.widget-view+json": {
       "model_id": "2a94b06992484f8b9389021adfd6608e",
       "version_major": 2,
       "version_minor": 0
      },
      "text/plain": [
       "VBox()"
      ]
     },
     "metadata": {},
     "output_type": "display_data"
    },
    {
     "data": {
      "application/vnd.jupyter.widget-view+json": {
       "model_id": "",
       "version_major": 2,
       "version_minor": 0
      },
      "text/plain": [
       "FloatProgress(value=0.0, bar_style='info', description='Progress:', layout=Layout(height='25px', width='50%'),…"
      ]
     },
     "metadata": {},
     "output_type": "display_data"
    }
   ],
   "source": [
    "from pyspark.ml.feature import MinMaxScaler\n",
    "from pyspark.ml.feature import VectorAssembler\n",
    "from pyspark.ml import Pipeline\n",
    "from pyspark.sql.functions import udf\n",
    "from pyspark.sql.types import DoubleType\n",
    "\n",
    "# UDF used to convert the column type from a vector to a double type\n",
    "unlist = udf(lambda x: round(float(list(x)[0]),3), DoubleType())\n",
    "\n",
    "# Converting our column to a vector using VectorAssembler\n",
    "assembler = VectorAssembler(inputCols=['word_count'],outputCol='word_count_vect')\n",
    "\n",
    "# Convert vector to scalar using MinMaxScaler\n",
    "scaler = MinMaxScaler(inputCol='word_count_vect', outputCol='word_count_scaled')\n",
    "\n",
    "# Create a pipeline from of VectorAssembler and MinMaxScaler\n",
    "pipeline = Pipeline(stages=[assembler, scaler])\n",
    "\n",
    "# Fitting pipeline the column word_count to normalise it due to the large degree of variation\n",
    "sdf = pipeline.fit(sdf).transform(sdf).withColumn('word_count_scaled', unlist('word_count_scaled')).drop('word_count_vect')"
   ]
  },
  {
   "cell_type": "code",
   "execution_count": 24,
   "id": "feaed1a9",
   "metadata": {},
   "outputs": [
    {
     "data": {
      "application/vnd.jupyter.widget-view+json": {
       "model_id": "0a3e083d7c4b4658a4e760955f732e15",
       "version_major": 2,
       "version_minor": 0
      },
      "text/plain": [
       "VBox()"
      ]
     },
     "metadata": {},
     "output_type": "display_data"
    },
    {
     "data": {
      "application/vnd.jupyter.widget-view+json": {
       "model_id": "",
       "version_major": 2,
       "version_minor": 0
      },
      "text/plain": [
       "FloatProgress(value=0.0, bar_style='info', description='Progress:', layout=Layout(height='25px', width='50%'),…"
      ]
     },
     "metadata": {},
     "output_type": "display_data"
    },
    {
     "name": "stdout",
     "output_type": "stream",
     "text": [
      "+-----------------+-------+----+-------+-------------+-------------+----------+-------------------+--------------------+-----------+------------+--------+----+-----------------+\n",
      "|       Unnamed: 0|session|type|outcome|sponsor_count|section_count|word_count|       subjectivity|            polarity| % Democrat|% Republican|congress|pass|word_count_scaled|\n",
      "+-----------------+-------+----+-------+-------------+-------------+----------+-------------------+--------------------+-----------+------------+--------+----+-----------------+\n",
      "|BILLS-113hr1000ih|    113|  hr|     ih|            1|           10|      5828| 0.3655130309870722| 0.06525710181466382|46.20689655|  53.7931034|     113|   0|            0.006|\n",
      "|BILLS-113hr1001ih|    113|  hr|     ih|            3|            1|       482| 0.4160595238095238| 0.08928273809523811|46.20689655|  53.7931034|     113|   0|            0.001|\n",
      "|BILLS-113hr1002ih|    113|  hr|     ih|            8|            4|       914| 0.7384660421545669|  0.3741412958626073|46.20689655|  53.7931034|     113|   0|            0.001|\n",
      "|BILLS-113hr1003ih|    113|  hr|     ih|            5|            1|       304|  0.448529411764706|-0.03186274509803...|46.20689655|  53.7931034|     113|   0|              0.0|\n",
      "|BILLS-113hr1004ih|    113|  hr|     ih|            5|            5|      2407|0.28045944940476186| 0.08803013392857144|46.20689655|  53.7931034|     113|   0|            0.003|\n",
      "|BILLS-113hr1005ih|    113|  hr|     ih|            4|            3|       156|0.24940476190476196| 0.03273809523809524|46.20689655|  53.7931034|     113|   0|              0.0|\n",
      "|BILLS-113hr1006ih|    113|  hr|     ih|            2|            2|       359|             0.3925| 0.16583333333333333|46.20689655|  53.7931034|     113|   0|              0.0|\n",
      "|BILLS-113hr1007ih|    113|  hr|     ih|            2|            3|       624| 0.4836950146627567| 0.05337732160312806|46.20689655|  53.7931034|     113|   0|            0.001|\n",
      "|BILLS-113hr1008ih|    113|  hr|     ih|           44|           10|      2051| 0.3813060385941737|  0.2408455621591215|46.20689655|  53.7931034|     113|   0|            0.002|\n",
      "|BILLS-113hr1009ih|    113|  hr|     ih|           13|            3|       813| 0.3778756957328386|0.014955679241393524|46.20689655|  53.7931034|     113|   0|            0.001|\n",
      "| BILLS-113hr100ih|    113|  hr|     ih|            8|           23|      5638| 0.4959002086890532| 0.11747249098842727|46.20689655|  53.7931034|     113|   0|            0.006|\n",
      "|BILLS-113hr1010ih|    113|  hr|     ih|          132|            2|       745| 0.3617676767676768| 0.13858585858585856|46.20689655|  53.7931034|     113|   0|            0.001|\n",
      "|BILLS-113hr1011ih|    113|  hr|     ih|            4|            1|       117| 0.3525252525252525| 0.09612794612794613|46.20689655|  53.7931034|     113|   0|              0.0|\n",
      "|BILLS-113hr1012ih|    113|  hr|     ih|            6|            7|      2750| 0.2723322905804658| 0.03734358706986445|46.20689655|  53.7931034|     113|   0|            0.003|\n",
      "|BILLS-113hr1013ih|    113|  hr|     ih|            2|            2|       303| 0.2858333333333333|-0.01083333333333333|46.20689655|  53.7931034|     113|   0|              0.0|\n",
      "|BILLS-113hr1014ih|    113|  hr|     ih|            1|            1|       145|0.14265734265734267|-0.04463869463869463|46.20689655|  53.7931034|     113|   0|              0.0|\n",
      "|BILLS-113hr1015ih|    113|  hr|     ih|            2|            4|       907|0.28556033168709216|-0.01603713188220...|46.20689655|  53.7931034|     113|   0|            0.001|\n",
      "|BILLS-113hr1016ih|    113|  hr|     ih|            3|            3|       639| 0.4267813852813851| 0.08960822510822512|46.20689655|  53.7931034|     113|   0|            0.001|\n",
      "|BILLS-113hr1017ih|    113|  hr|     ih|            1|            3|       306| 0.4024844720496894|0.036594202898550726|46.20689655|  53.7931034|     113|   0|              0.0|\n",
      "|BILLS-113hr1018ih|    113|  hr|     ih|            6|            1|       465| 0.4905714285714286| 0.20904761904761904|46.20689655|  53.7931034|     113|   0|              0.0|\n",
      "+-----------------+-------+----+-------+-------------+-------------+----------+-------------------+--------------------+-----------+------------+--------+----+-----------------+\n",
      "only showing top 20 rows"
     ]
    }
   ],
   "source": [
    "#view new spark dataframe with the scaled word_count column\n",
    "sdf.show()"
   ]
  },
  {
   "cell_type": "code",
   "execution_count": 25,
   "id": "5b13fd3f",
   "metadata": {},
   "outputs": [
    {
     "data": {
      "application/vnd.jupyter.widget-view+json": {
       "model_id": "10fc91c5cd214dd18a7175e4af75bfbf",
       "version_major": 2,
       "version_minor": 0
      },
      "text/plain": [
       "VBox()"
      ]
     },
     "metadata": {},
     "output_type": "display_data"
    },
    {
     "data": {
      "application/vnd.jupyter.widget-view+json": {
       "model_id": "",
       "version_major": 2,
       "version_minor": 0
      },
      "text/plain": [
       "FloatProgress(value=0.0, bar_style='info', description='Progress:', layout=Layout(height='25px', width='50%'),…"
      ]
     },
     "metadata": {},
     "output_type": "display_data"
    },
    {
     "name": "stdout",
     "output_type": "stream",
     "text": [
      "+-----------------+-------+----+-------+-------------+-------------+----------+-------------------+--------------------+-----------+------------+--------+----+-----------------+--------------------+\n",
      "|       Unnamed: 0|session|type|outcome|sponsor_count|section_count|word_count|       subjectivity|            polarity| % Democrat|% Republican|congress|pass|word_count_scaled|            features|\n",
      "+-----------------+-------+----+-------+-------------+-------------+----------+-------------------+--------------------+-----------+------------+--------+----+-----------------+--------------------+\n",
      "|BILLS-113hr1000ih|    113|  hr|     ih|            1|           10|      5828| 0.3655130309870722| 0.06525710181466382|46.20689655|  53.7931034|     113|   0|            0.006|[1.0,10.0,0.006,0...|\n",
      "|BILLS-113hr1001ih|    113|  hr|     ih|            3|            1|       482| 0.4160595238095238| 0.08928273809523811|46.20689655|  53.7931034|     113|   0|            0.001|[3.0,1.0,0.001,0....|\n",
      "|BILLS-113hr1002ih|    113|  hr|     ih|            8|            4|       914| 0.7384660421545669|  0.3741412958626073|46.20689655|  53.7931034|     113|   0|            0.001|[8.0,4.0,0.001,0....|\n",
      "|BILLS-113hr1003ih|    113|  hr|     ih|            5|            1|       304|  0.448529411764706|-0.03186274509803...|46.20689655|  53.7931034|     113|   0|              0.0|[5.0,1.0,0.0,0.44...|\n",
      "|BILLS-113hr1004ih|    113|  hr|     ih|            5|            5|      2407|0.28045944940476186| 0.08803013392857144|46.20689655|  53.7931034|     113|   0|            0.003|[5.0,5.0,0.003,0....|\n",
      "|BILLS-113hr1005ih|    113|  hr|     ih|            4|            3|       156|0.24940476190476196| 0.03273809523809524|46.20689655|  53.7931034|     113|   0|              0.0|[4.0,3.0,0.0,0.24...|\n",
      "|BILLS-113hr1006ih|    113|  hr|     ih|            2|            2|       359|             0.3925| 0.16583333333333333|46.20689655|  53.7931034|     113|   0|              0.0|[2.0,2.0,0.0,0.39...|\n",
      "|BILLS-113hr1007ih|    113|  hr|     ih|            2|            3|       624| 0.4836950146627567| 0.05337732160312806|46.20689655|  53.7931034|     113|   0|            0.001|[2.0,3.0,0.001,0....|\n",
      "|BILLS-113hr1008ih|    113|  hr|     ih|           44|           10|      2051| 0.3813060385941737|  0.2408455621591215|46.20689655|  53.7931034|     113|   0|            0.002|[44.0,10.0,0.002,...|\n",
      "|BILLS-113hr1009ih|    113|  hr|     ih|           13|            3|       813| 0.3778756957328386|0.014955679241393524|46.20689655|  53.7931034|     113|   0|            0.001|[13.0,3.0,0.001,0...|\n",
      "| BILLS-113hr100ih|    113|  hr|     ih|            8|           23|      5638| 0.4959002086890532| 0.11747249098842727|46.20689655|  53.7931034|     113|   0|            0.006|[8.0,23.0,0.006,0...|\n",
      "|BILLS-113hr1010ih|    113|  hr|     ih|          132|            2|       745| 0.3617676767676768| 0.13858585858585856|46.20689655|  53.7931034|     113|   0|            0.001|[132.0,2.0,0.001,...|\n",
      "|BILLS-113hr1011ih|    113|  hr|     ih|            4|            1|       117| 0.3525252525252525| 0.09612794612794613|46.20689655|  53.7931034|     113|   0|              0.0|[4.0,1.0,0.0,0.35...|\n",
      "|BILLS-113hr1012ih|    113|  hr|     ih|            6|            7|      2750| 0.2723322905804658| 0.03734358706986445|46.20689655|  53.7931034|     113|   0|            0.003|[6.0,7.0,0.003,0....|\n",
      "|BILLS-113hr1013ih|    113|  hr|     ih|            2|            2|       303| 0.2858333333333333|-0.01083333333333333|46.20689655|  53.7931034|     113|   0|              0.0|[2.0,2.0,0.0,0.28...|\n",
      "|BILLS-113hr1014ih|    113|  hr|     ih|            1|            1|       145|0.14265734265734267|-0.04463869463869463|46.20689655|  53.7931034|     113|   0|              0.0|[1.0,1.0,0.0,0.14...|\n",
      "|BILLS-113hr1015ih|    113|  hr|     ih|            2|            4|       907|0.28556033168709216|-0.01603713188220...|46.20689655|  53.7931034|     113|   0|            0.001|[2.0,4.0,0.001,0....|\n",
      "|BILLS-113hr1016ih|    113|  hr|     ih|            3|            3|       639| 0.4267813852813851| 0.08960822510822512|46.20689655|  53.7931034|     113|   0|            0.001|[3.0,3.0,0.001,0....|\n",
      "|BILLS-113hr1017ih|    113|  hr|     ih|            1|            3|       306| 0.4024844720496894|0.036594202898550726|46.20689655|  53.7931034|     113|   0|              0.0|[1.0,3.0,0.0,0.40...|\n",
      "|BILLS-113hr1018ih|    113|  hr|     ih|            6|            1|       465| 0.4905714285714286| 0.20904761904761904|46.20689655|  53.7931034|     113|   0|              0.0|[6.0,1.0,0.0,0.49...|\n",
      "+-----------------+-------+----+-------+-------------+-------------+----------+-------------------+--------------------+-----------+------------+--------+----+-----------------+--------------------+\n",
      "only showing top 20 rows"
     ]
    }
   ],
   "source": [
    "#use vectorassembler to get our features into the form expected by pyspark.ml\n",
    "from pyspark.ml.feature import VectorAssembler\n",
    "\n",
    "features = ['sponsor_count', 'section_count', 'word_count_scaled', 'subjectivity', 'polarity', '% Democrat', '% Republican']\n",
    "assembler = VectorAssembler(inputCols = features, outputCol = 'features')\n",
    "\n",
    "s_df = assembler.transform(sdf)\n",
    "s_df.show()"
   ]
  },
  {
   "cell_type": "code",
   "execution_count": 26,
   "id": "38c8adad",
   "metadata": {},
   "outputs": [
    {
     "data": {
      "application/vnd.jupyter.widget-view+json": {
       "model_id": "650ee4cd27f1407db86db05d13cbb06b",
       "version_major": 2,
       "version_minor": 0
      },
      "text/plain": [
       "VBox()"
      ]
     },
     "metadata": {},
     "output_type": "display_data"
    },
    {
     "data": {
      "application/vnd.jupyter.widget-view+json": {
       "model_id": "",
       "version_major": 2,
       "version_minor": 0
      },
      "text/plain": [
       "FloatProgress(value=0.0, bar_style='info', description='Progress:', layout=Layout(height='25px', width='50%'),…"
      ]
     },
     "metadata": {},
     "output_type": "display_data"
    }
   ],
   "source": [
    "#split into training and test datasets\n",
    "train, test = s_df.randomSplit([0.7, 0.3])\n",
    "\n",
    "#create and run model\n",
    "from pyspark.ml.classification import LogisticRegression\n",
    "lr = LogisticRegression(featuresCol='features', labelCol='pass')\n",
    "model = lr.fit(train)"
   ]
  },
  {
   "cell_type": "code",
   "execution_count": 27,
   "id": "ee824e98",
   "metadata": {},
   "outputs": [
    {
     "data": {
      "application/vnd.jupyter.widget-view+json": {
       "model_id": "0d82eb7377de4ba79a34a87638080b91",
       "version_major": 2,
       "version_minor": 0
      },
      "text/plain": [
       "VBox()"
      ]
     },
     "metadata": {},
     "output_type": "display_data"
    },
    {
     "data": {
      "application/vnd.jupyter.widget-view+json": {
       "model_id": "",
       "version_major": 2,
       "version_minor": 0
      },
      "text/plain": [
       "FloatProgress(value=0.0, bar_style='info', description='Progress:', layout=Layout(height='25px', width='50%'),…"
      ]
     },
     "metadata": {},
     "output_type": "display_data"
    }
   ],
   "source": [
    "#Summary of Training Data\n",
    "trainingSummary = model.summary\n",
    "evaluationSummary = model.evaluate(test)"
   ]
  },
  {
   "cell_type": "markdown",
   "id": "5a6e7ab4",
   "metadata": {},
   "source": [
    "Evaluate Model Performance"
   ]
  },
  {
   "cell_type": "code",
   "execution_count": 28,
   "id": "8c035832",
   "metadata": {},
   "outputs": [
    {
     "data": {
      "application/vnd.jupyter.widget-view+json": {
       "model_id": "ed6c27b1130e493ba10991bac3c9b494",
       "version_major": 2,
       "version_minor": 0
      },
      "text/plain": [
       "VBox()"
      ]
     },
     "metadata": {},
     "output_type": "display_data"
    },
    {
     "data": {
      "application/vnd.jupyter.widget-view+json": {
       "model_id": "",
       "version_major": 2,
       "version_minor": 0
      },
      "text/plain": [
       "FloatProgress(value=0.0, bar_style='info', description='Progress:', layout=Layout(height='25px', width='50%'),…"
      ]
     },
     "metadata": {},
     "output_type": "display_data"
    },
    {
     "name": "stdout",
     "output_type": "stream",
     "text": [
      "Training AUC: 0.937940382960352\n",
      "Test AUC:  0.9362854477995789\n",
      "\n",
      "False positive rate by label (Training):\n",
      "label 0: 0.9903329752953813\n",
      "label 1: 0.000277112986522232\n",
      "\n",
      "True positive rate by label (Training):\n",
      "label 0: 0.9997228870134778\n",
      "label 1: 0.00966702470461869\n",
      "\n",
      "Training Accuracy: 0.977034411460641\n",
      "Test Accuracy:  0.975150992234685"
     ]
    }
   ],
   "source": [
    "print('Training AUC: ' + str(trainingSummary.areaUnderROC))\n",
    "print('Test AUC: ', str(evaluationSummary.areaUnderROC))\n",
    "\n",
    "print(\"\\nFalse positive rate by label (Training):\")\n",
    "for i, rate in enumerate(trainingSummary.falsePositiveRateByLabel):\n",
    "    print(\"label %d: %s\" % (i, rate))\n",
    "\n",
    "print(\"\\nTrue positive rate by label (Training):\")\n",
    "for i, rate in enumerate(trainingSummary.truePositiveRateByLabel):\n",
    "    print(\"label %d: %s\" % (i, rate))\n",
    "    \n",
    "print(\"\\nTraining Accuracy: \" + str(trainingSummary.accuracy))\n",
    "print(\"Test Accuracy: \", str(evaluationSummary.accuracy))"
   ]
  },
  {
   "cell_type": "code",
   "execution_count": 29,
   "id": "831b1dce",
   "metadata": {},
   "outputs": [
    {
     "data": {
      "application/vnd.jupyter.widget-view+json": {
       "model_id": "c570543103b44abdbc490e704c48b696",
       "version_major": 2,
       "version_minor": 0
      },
      "text/plain": [
       "VBox()"
      ]
     },
     "metadata": {},
     "output_type": "display_data"
    },
    {
     "data": {
      "application/vnd.jupyter.widget-view+json": {
       "model_id": "",
       "version_major": 2,
       "version_minor": 0
      },
      "text/plain": [
       "FloatProgress(value=0.0, bar_style='info', description='Progress:', layout=Layout(height='25px', width='50%'),…"
      ]
     },
     "metadata": {},
     "output_type": "display_data"
    }
   ],
   "source": [
    "# Obtain ROC curve and send to Pandas for plot\n",
    "roc_df = evaluationSummary.roc.toPandas()"
   ]
  },
  {
   "cell_type": "code",
   "execution_count": 30,
   "id": "5babbf82",
   "metadata": {},
   "outputs": [
    {
     "data": {
      "application/vnd.jupyter.widget-view+json": {
       "model_id": "6bdd8dcec20a4f8f867cb307d04fbac4",
       "version_major": 2,
       "version_minor": 0
      },
      "text/plain": [
       "VBox()"
      ]
     },
     "metadata": {},
     "output_type": "display_data"
    },
    {
     "data": {
      "application/vnd.jupyter.widget-view+json": {
       "model_id": "",
       "version_major": 2,
       "version_minor": 0
      },
      "text/plain": [
       "FloatProgress(value=0.0, bar_style='info', description='Progress:', layout=Layout(height='25px', width='50%'),…"
      ]
     },
     "metadata": {},
     "output_type": "display_data"
    },
    {
     "data": {
      "image/png": "[encoded data removed]",
      "text/plain": [
       "<IPython.core.display.Image object>"
      ]
     },
     "metadata": {},
     "output_type": "display_data"
    }
   ],
   "source": [
    "# Close previous plots; otherwise, will just overwrite and display again\n",
    "plt.close()\n",
    "\n",
    "plt.plot(roc_df.FPR, roc_df.TPR, 'b', label = 'AUC = %0.2f' % evaluationSummary.areaUnderROC)\n",
    "plt.legend(loc = 'lower right')\n",
    "plt.plot([0, 1], [0, 1],'r--')\n",
    "plt.xlim([0, 1])\n",
    "plt.ylim([0, 1])\n",
    "plt.ylabel('True Positive Rate')\n",
    "plt.xlabel('False Positive Rate')\n",
    "plt.title('ROC Curve')\n",
    "plt.show()\n",
    "\n",
    "%matplot plt"
   ]
  },
  {
   "cell_type": "code",
   "execution_count": 31,
   "id": "4e0f6fef",
   "metadata": {},
   "outputs": [
    {
     "data": {
      "application/vnd.jupyter.widget-view+json": {
       "model_id": "4df5e8a334cf48aca5870037a7f76faf",
       "version_major": 2,
       "version_minor": 0
      },
      "text/plain": [
       "VBox()"
      ]
     },
     "metadata": {},
     "output_type": "display_data"
    },
    {
     "data": {
      "application/vnd.jupyter.widget-view+json": {
       "model_id": "",
       "version_major": 2,
       "version_minor": 0
      },
      "text/plain": [
       "FloatProgress(value=0.0, bar_style='info', description='Progress:', layout=Layout(height='25px', width='50%'),…"
      ]
     },
     "metadata": {},
     "output_type": "display_data"
    },
    {
     "name": "stdout",
     "output_type": "stream",
     "text": [
      "DenseVector([-2.6085, -0.0012, 14.4678, -5.8688, 4.57, 0.0337, 0.0378])"
     ]
    }
   ],
   "source": [
    "#view feature importances\n",
    "model.coefficients"
   ]
  },
  {
   "cell_type": "code",
   "execution_count": 32,
   "id": "a4703b38",
   "metadata": {},
   "outputs": [
    {
     "data": {
      "application/vnd.jupyter.widget-view+json": {
       "model_id": "f5eb7dfcf3234c2787c17f4dfbe070a4",
       "version_major": 2,
       "version_minor": 0
      },
      "text/plain": [
       "VBox()"
      ]
     },
     "metadata": {},
     "output_type": "display_data"
    },
    {
     "data": {
      "application/vnd.jupyter.widget-view+json": {
       "model_id": "",
       "version_major": 2,
       "version_minor": 0
      },
      "text/plain": [
       "FloatProgress(value=0.0, bar_style='info', description='Progress:', layout=Layout(height='25px', width='50%'),…"
      ]
     },
     "metadata": {},
     "output_type": "display_data"
    },
    {
     "data": {
      "image/png": "[encoded data removed]",
      "text/plain": [
       "<IPython.core.display.Image object>"
      ]
     },
     "metadata": {},
     "output_type": "display_data"
    }
   ],
   "source": [
    "#plot our model features by importance\n",
    "\n",
    "plt.close() # Close previous plots; otherwise, will just overwrite and display again\n",
    "sns.set(rc={'figure.figsize':(20, 7)})\n",
    "\n",
    "sns.barplot(x=features, y= list(model.coefficients))\n",
    "plt.title('Feature Coefficients from Logistic Regression Model')\n",
    "plt.xlabel('Feature')\n",
    "plt.ylabel('Feature Coefficient')\n",
    "%matplot plt"
   ]
  },
  {
   "cell_type": "code",
   "execution_count": 33,
   "id": "ca71153f",
   "metadata": {},
   "outputs": [
    {
     "data": {
      "application/vnd.jupyter.widget-view+json": {
       "model_id": "25789be7ef79439ea8add8e1569c2632",
       "version_major": 2,
       "version_minor": 0
      },
      "text/plain": [
       "VBox()"
      ]
     },
     "metadata": {},
     "output_type": "display_data"
    },
    {
     "data": {
      "application/vnd.jupyter.widget-view+json": {
       "model_id": "",
       "version_major": 2,
       "version_minor": 0
      },
      "text/plain": [
       "FloatProgress(value=0.0, bar_style='info', description='Progress:', layout=Layout(height='25px', width='50%'),…"
      ]
     },
     "metadata": {},
     "output_type": "display_data"
    },
    {
     "name": "stdout",
     "output_type": "stream",
     "text": [
      "[[1.6951e+04 4.0000e+00]\n",
      " [4.2800e+02 2.0000e+00]]"
     ]
    }
   ],
   "source": [
    "import pyspark.sql.functions as F\n",
    "from pyspark.mllib.evaluation import MulticlassMetrics\n",
    "from pyspark.sql.types import FloatType\n",
    "\n",
    "predictions = model.transform(test)\n",
    "\n",
    "#Create a Confusion Matrix to further evaluate model performance\n",
    "\n",
    "#First create a prediction column and convert to float type, then order by prediction\n",
    "pred_labels = predictions.select(['prediction','pass']).withColumn('label', F.col('pass').cast(FloatType())).orderBy('prediction')\n",
    "\n",
    "pred_labels = pred_labels.select(['prediction','label'])\n",
    "\n",
    "metrics = MulticlassMetrics(pred_labels.rdd.map(tuple))\n",
    "\n",
    "print(metrics.confusionMatrix().toArray())"
   ]
  },
  {
   "cell_type": "code",
   "execution_count": 34,
   "id": "118d4f4e",
   "metadata": {},
   "outputs": [
    {
     "data": {
      "application/vnd.jupyter.widget-view+json": {
       "model_id": "f4a70749c21f40ee8a35131f345e1b20",
       "version_major": 2,
       "version_minor": 0
      },
      "text/plain": [
       "VBox()"
      ]
     },
     "metadata": {},
     "output_type": "display_data"
    },
    {
     "data": {
      "application/vnd.jupyter.widget-view+json": {
       "model_id": "",
       "version_major": 2,
       "version_minor": 0
      },
      "text/plain": [
       "FloatProgress(value=0.0, bar_style='info', description='Progress:', layout=Layout(height='25px', width='50%'),…"
      ]
     },
     "metadata": {},
     "output_type": "display_data"
    }
   ],
   "source": [
    "cm = metrics.confusionMatrix().toArray()\n",
    "tp = cm[0][0] #true positives\n",
    "fp = cm[0][1] #false positives\n",
    "fn = cm[1][0] #false negatives\n",
    "tn = cm[1][1] #true negatives"
   ]
  },
  {
   "cell_type": "code",
   "execution_count": 35,
   "id": "f674e6fd",
   "metadata": {},
   "outputs": [
    {
     "data": {
      "application/vnd.jupyter.widget-view+json": {
       "model_id": "adfc9f3167634dba8b9f9c16b99beac3",
       "version_major": 2,
       "version_minor": 0
      },
      "text/plain": [
       "VBox()"
      ]
     },
     "metadata": {},
     "output_type": "display_data"
    },
    {
     "data": {
      "application/vnd.jupyter.widget-view+json": {
       "model_id": "",
       "version_major": 2,
       "version_minor": 0
      },
      "text/plain": [
       "FloatProgress(value=0.0, bar_style='info', description='Progress:', layout=Layout(height='25px', width='50%'),…"
      ]
     },
     "metadata": {},
     "output_type": "display_data"
    },
    {
     "name": "stdout",
     "output_type": "stream",
     "text": [
      "Precision score for our model is 0.9997640813919197\n",
      "Recall score for our model is 0.9753725760975891\n",
      "The F-score for our model is 0.987417720044271"
     ]
    }
   ],
   "source": [
    "#Calculate precision, recall, and accuracy\n",
    "precision = tp/(tp+fp)\n",
    "recall = tp/(tp+fn)\n",
    "\n",
    "print('Precision score for our model is {}'.format(precision))\n",
    "print('Recall score for our model is {}'.format(recall))\n",
    "print('The F-score for our model is {}'.format(2*recall*precision/(recall+precision)))"
   ]
  },
  {
   "cell_type": "code",
   "execution_count": 36,
   "id": "5bbb2f82",
   "metadata": {},
   "outputs": [
    {
     "data": {
      "application/vnd.jupyter.widget-view+json": {
       "model_id": "f58656c0c0fb4b4abfee635cbc8a179a",
       "version_major": 2,
       "version_minor": 0
      },
      "text/plain": [
       "VBox()"
      ]
     },
     "metadata": {},
     "output_type": "display_data"
    },
    {
     "data": {
      "application/vnd.jupyter.widget-view+json": {
       "model_id": "",
       "version_major": 2,
       "version_minor": 0
      },
      "text/plain": [
       "FloatProgress(value=0.0, bar_style='info', description='Progress:', layout=Layout(height='25px', width='50%'),…"
      ]
     },
     "metadata": {},
     "output_type": "display_data"
    }
   ],
   "source": [
    "p_pred_labels = pred_labels.toPandas() #convert our precition dataframe from spark to pandas"
   ]
  },
  {
   "cell_type": "code",
   "execution_count": 37,
   "id": "a4419086",
   "metadata": {},
   "outputs": [
    {
     "data": {
      "application/vnd.jupyter.widget-view+json": {
       "model_id": "10d498bce11b456288197d89a1c3f670",
       "version_major": 2,
       "version_minor": 0
      },
      "text/plain": [
       "VBox()"
      ]
     },
     "metadata": {},
     "output_type": "display_data"
    },
    {
     "data": {
      "application/vnd.jupyter.widget-view+json": {
       "model_id": "",
       "version_major": 2,
       "version_minor": 0
      },
      "text/plain": [
       "FloatProgress(value=0.0, bar_style='info', description='Progress:', layout=Layout(height='25px', width='50%'),…"
      ]
     },
     "metadata": {},
     "output_type": "display_data"
    },
    {
     "name": "stdout",
     "output_type": "stream",
     "text": [
      "Collecting sklearn\n",
      "Collecting scikit-learn (from sklearn)\n",
      "  Using cached https://files.pythonhosted.org/packages/6a/7e/d41bc4dba43998890dadc6c7893f2d9b6a17bf7c9bb924458d04252ad0e6/scikit_learn-1.0.1-cp37-cp37m-manylinux_2_5_x86_64.manylinux1_x86_64.whl\n",
      "Requirement already satisfied: joblib>=0.11 in /usr/local/lib64/python3.7/site-packages (from scikit-learn->sklearn)\n",
      "Collecting threadpoolctl>=2.0.0 (from scikit-learn->sklearn)\n",
      "  Using cached https://files.pythonhosted.org/packages/ff/fe/8aaca2a0db7fd80f0b2cf8a16a034d3eea8102d58ff9331d2aaf1f06766a/threadpoolctl-3.0.0-py3-none-any.whl\n",
      "Requirement already satisfied: numpy>=1.14.6 in /usr/local/lib64/python3.7/site-packages (from scikit-learn->sklearn)\n",
      "Requirement already satisfied: scipy>=1.1.0 in /mnt/tmp/1639104851065-0/lib/python3.7/site-packages (from scikit-learn->sklearn)\n",
      "Installing collected packages: threadpoolctl, scikit-learn, sklearn\n",
      "Successfully installed scikit-learn-1.0.1 sklearn-0.0 threadpoolctl-3.0.0\n",
      "\n",
      "You are using pip version 9.0.1, however version 21.3.1 is available.\n",
      "You should consider upgrading via the 'pip install --upgrade pip' command."
     ]
    }
   ],
   "source": [
    "sc.install_pypi_package(\"sklearn\")"
   ]
  },
  {
   "cell_type": "code",
   "execution_count": 38,
   "id": "86180276",
   "metadata": {},
   "outputs": [
    {
     "data": {
      "application/vnd.jupyter.widget-view+json": {
       "model_id": "9e53ad83b8a94821a61393232956027f",
       "version_major": 2,
       "version_minor": 0
      },
      "text/plain": [
       "VBox()"
      ]
     },
     "metadata": {},
     "output_type": "display_data"
    },
    {
     "data": {
      "application/vnd.jupyter.widget-view+json": {
       "model_id": "",
       "version_major": 2,
       "version_minor": 0
      },
      "text/plain": [
       "FloatProgress(value=0.0, bar_style='info', description='Progress:', layout=Layout(height='25px', width='50%'),…"
      ]
     },
     "metadata": {},
     "output_type": "display_data"
    },
    {
     "name": "stdout",
     "output_type": "stream",
     "text": [
      "[[16951     4]\n",
      " [  428     2]]"
     ]
    }
   ],
   "source": [
    "from sklearn.metrics import confusion_matrix\n",
    "\n",
    "#Confusion matrix from pandas df\n",
    "p_cf = confusion_matrix(p_pred_labels['label'], p_pred_labels['prediction'])\n",
    "\n",
    "print(p_cf)"
   ]
  },
  {
   "cell_type": "code",
   "execution_count": 39,
   "id": "884dc041",
   "metadata": {},
   "outputs": [
    {
     "data": {
      "application/vnd.jupyter.widget-view+json": {
       "model_id": "e7b3ef7f2a964b34843a6125f219c714",
       "version_major": 2,
       "version_minor": 0
      },
      "text/plain": [
       "VBox()"
      ]
     },
     "metadata": {},
     "output_type": "display_data"
    },
    {
     "data": {
      "application/vnd.jupyter.widget-view+json": {
       "model_id": "",
       "version_major": 2,
       "version_minor": 0
      },
      "text/plain": [
       "FloatProgress(value=0.0, bar_style='info', description='Progress:', layout=Layout(height='25px', width='50%'),…"
      ]
     },
     "metadata": {},
     "output_type": "display_data"
    },
    {
     "data": {
      "image/png": "[encoded data removed]",
      "text/plain": [
       "<IPython.core.display.Image object>"
      ]
     },
     "metadata": {},
     "output_type": "display_data"
    }
   ],
   "source": [
    "import seaborn as sns\n",
    "\n",
    "plt.close()\n",
    "\n",
    "ax = sns.heatmap(p_cf, annot=True, cmap='Blues')\n",
    "\n",
    "ax.set_title('Confusion Matrix of Logistic Regression Model\\n');\n",
    "ax.set_xlabel('\\nPredicted Values')\n",
    "ax.set_ylabel('Actual Values ');\n",
    "\n",
    "## Ticket labels - List must be in alphabetical order\n",
    "ax.xaxis.set_ticklabels(['False','True'])\n",
    "ax.yaxis.set_ticklabels(['False','True'])\n",
    "\n",
    "## Display the visualization of the Confusion Matrix.\n",
    "plt.show()\n",
    "\n",
    "%matplot plt"
   ]
  }
 ],
 "metadata": {
  "kernelspec": {
   "display_name": "PySpark",
   "language": "",
   "name": "pysparkkernel"
  },
  "language_info": {
   "codemirror_mode": {
    "name": "python",
    "version": 3
   },
   "mimetype": "text/x-python",
   "name": "pyspark",
   "pygments_lexer": "python3"
  }
 },
 "nbformat": 4,
 "nbformat_minor": 5
}
